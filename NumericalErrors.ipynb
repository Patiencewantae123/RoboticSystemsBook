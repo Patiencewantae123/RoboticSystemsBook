{
 "cells": [
  {
   "cell_type": "markdown",
   "metadata": {},
   "source": [
    "# Appendix B. NUMERICAL METHODS\n",
    "\n",
    "# B.1. Numerical Errors"
   ]
  },
  {
   "cell_type": "markdown",
   "metadata": {},
   "source": [
    "Real-valued numbers are represented on a computer with finite-precision\n",
    "binary representation (usually 32 or 64 bits). Floating-point\n",
    "representation is the most common, and is able to express a huge range\n",
    "of values by devoting some of those bits to a value's most significant\n",
    "digits (the *mantissa*) and others to its absolute magnitude (the\n",
    "*exponent*). Of course, there are many numbers, like 1/3 or $\\pi$, whose\n",
    "representations are infinite in base 10 form (0.3333\\... infinitely\n",
    "repeating or 3.14159\\... with no repetitions) as well as in binary form.\n",
    "The use of finite precision to approximate these values causes a small\n",
    "but sometimes troublesome error between the \"true\" value and its\n",
    "representation on a computer. This is known as *truncation error* and is\n",
    "a form of *numerical error*.\n",
    "\n",
    "Other forms of numerical error occur when a computer performs certain\n",
    "mathematical operations on fixed-precision numbers. Truncation error is\n",
    "again an issue. For example, when adding a very small number to a very\n",
    "large number, the least significant digit of the small number will be\n",
    "overwhelmed by the significant digits of the large one. In 64-bit\n",
    "arithmetic with Python 2.7, you may be surprised to see that although\n",
    "1.0/3.0 evaluates to 0.3333333333333333, the result of 10.0/3.0 is\n",
    "3.333333333333333**5**! Hence, the result of (1.0/3.0)\\*10.0 - 10.0/3.0\n",
    "is not identically 0, but some small number."
   ]
  },
  {
   "cell_type": "code",
   "execution_count": 1,
   "metadata": {},
   "outputs": [
    {
     "name": "stdout",
     "output_type": "stream",
     "text": [
      "0.3333333333333333\n",
      "3.3333333333333335\n",
      "-4.440892098500626e-16\n"
     ]
    }
   ],
   "source": [
    "from __future__ import print_function # needed for Python 2 / 3 compatibility\n",
    "\n",
    "print(repr(1.0/3.0))   #we use repr to show all digits, because plain print truncates the output\n",
    "print(repr(10.0/3.0))\n",
    "print((1.0/3.0)*10.0 - 10.0/3.0)"
   ]
  },
  {
   "cell_type": "markdown",
   "metadata": {},
   "source": [
    "A more significant type of error occurs when truncation errors *grow* as\n",
    "a result of compounding operations. The following three operations are\n",
    "the most common sources of compounding numerical error:\n",
    "\n",
    "1.  Dividing by a small number.\n",
    "\n",
    "2.  Subtracting two nearly-equal numbers.\n",
    "\n",
    "3.  Evaluating a mathematical function with argument(s) near the\n",
    "    boundary of the domain on which it is defined.\n",
    "\n",
    "Other sources are overflow and underflow, in which the result of an\n",
    "operation exceed the maximum and minimum number possibly represented,\n",
    "respectively.\n",
    "\n",
    "A mathematical subroutine that is designed to prevent compounding\n",
    "numerical error is called *numerically stable* (or *robust*). As an\n",
    "illustration, consider solving for $x$ in the quadratic equation\n",
    "$$a x^2 + b x + c = 0.$$ As you recall from algebra, the solutions to\n",
    "this equation are:\n",
    "$$x = \\frac{-b \\pm \\sqrt{b^2 - 4ac}}{2a}\n",
    "\\label{eq:QuadraticEquation}$$\n",
    "if $a \\neq 0$ and $b^2 - 4ac \\geq 0$, and\n",
    "if $a=0$ it is $x = -c/b$. If $b^2 - 4ac < 0$ no solutions exist.\n",
    "\n",
    "The main issue to address is the division by $2a$ (and similarly, the test\n",
    "for $a=0$) if $a$ is small. When $a$ has a small absolute value, both\n",
    "the numerator and the denominator of\n",
    "($\\ref{eq:QuadraticEquation}$) will be close to 0, causing a direct\n",
    "evaluation of ($\\ref{eq:QuadraticEquation}$) to suffer from large numerical errors, as shown below."
   ]
  },
  {
   "cell_type": "code",
   "execution_count": 5,
   "metadata": {},
   "outputs": [
    {
     "name": "stdout",
     "output_type": "stream",
     "text": [
      "Solutions to\n",
      "x^2-3x-4=0:\n",
      "   (-1.0, 4.0)\n",
      "  errors [0.0, 0.0]\n",
      "x^2-2x+1=0:\n",
      "   (1.0,)\n",
      "  errors [0.0]\n",
      "x^2+x+1=0:\n",
      "   ()\n",
      "  errors []\n",
      "\n",
      "Now, some very similar equations\n",
      "x+1=0:\n",
      "   (-1.0,)\n",
      "  errors [0.0]\n",
      "10^-15*x^2+x+1=0:\n",
      "   (-999999999999998.9, -0.9992007221626408)\n",
      "  errors [0.0, 0.0007992778373602238]\n",
      "10^-17*x^2+x+1=0:\n",
      "   (-1e+17, 0.0)\n",
      "  errors [1.0, 1.0]\n"
     ]
    }
   ],
   "source": [
    "from __future__ import division  #Needed for Python 2/3 compatibility, in case you give integers to quad\n",
    "import math\n",
    "\n",
    "def quad1(a,b,c):\n",
    "    \"\"\"Returns a tuple of 0, 1, or 2 solutions to the quadratic equation a^2 x + b x + c = 0\"\"\"\n",
    "    if a == 0:\n",
    "        return (-c/b,)\n",
    "    det = b**2 - 4*a*c\n",
    "    if det < 0:\n",
    "        return ()\n",
    "    if det == 0:\n",
    "        return (-b/(2*a),)\n",
    "    sqrtdet = math.sqrt(det)\n",
    "    return ((-b-sqrtdet)/(2*a),(-b+sqrtdet)/(2*a))\n",
    "\n",
    "def test(a,b,c,fn):\n",
    "    xs = fn(a,b,c)\n",
    "    print(\"  \",xs)\n",
    "    print(\"  errors\",[a*x**2 + b*x + c for x in xs])\n",
    "        \n",
    "print(\"Solutions to\")\n",
    "print(\"x^2-3x-4=0:\")\n",
    "test(1,-3,-4,quad1)\n",
    "print(\"x^2-2x+1=0:\")\n",
    "test(1,-2,1,quad1)\n",
    "print(\"x^2+x+1=0:\")\n",
    "test(1,1,1,quad1)\n",
    "print()\n",
    "print(\"Now, some very similar equations\")\n",
    "print(\"x+1=0:\")\n",
    "test(0,1,1,quad1)\n",
    "#uh oh, numerical errors\n",
    "print(\"10^-15*x^2+x+1=0:\")\n",
    "test(1e-15,1,1,quad1)\n",
    "#...are getting worse\n",
    "print(\"10^-17*x^2+x+1=0:\")\n",
    "test(1e-17,1,1,quad1)"
   ]
  },
  {
   "cell_type": "markdown",
   "metadata": {},
   "source": [
    "However, if we cleverly rearrange ($\\ref{eq:QuadraticEquation}$), we obtain a more numerically stable\n",
    "expression.  Consider multiplying both the numerator and the denominator by $-b \\mp \\sqrt{b^2-4ac}$:\n",
    "$$x = \\frac{-b \\pm \\sqrt{b^2 - 4ac}}{2a} \\cdot \\frac{-b \\mp \\sqrt{b^2-4ac}}{-b \\mp \\sqrt{b^2-4ac}}$$\n",
    "which evaluates to \n",
    "$$x = \\frac{2c}{ -b \\mp \\sqrt{b^2-4ac} }.\n",
    "\\label{eq:QuadraticEquation2}\n",
    "$$\n",
    "Observe that the denominator has two possibilities due to sign choice, and one ($-b + \\sqrt{b^2-4ac}$) will be close to zero because $a$ is small, leading the square root term to be close to $\\sqrt{b^2}$.  The other possible denominator, however, will be well conditioned.  Hence, we can choose the well conditioned solution from ($\\ref{eq:QuadraticEquation2}$), and the other well conditioned solution from ($\\ref{eq:QuadraticEquation}$).  The following code does just that."
   ]
  },
  {
   "cell_type": "code",
   "execution_count": 7,
   "metadata": {},
   "outputs": [
    {
     "name": "stdout",
     "output_type": "stream",
     "text": [
      "Solutions to\n",
      "x^2-3x-4=0:\n",
      "   (4.0, -1.0)\n",
      "  errors [0.0, 0.0]\n",
      "x^2-2x+1=0:\n",
      "   (1.0,)\n",
      "  errors [0.0]\n",
      "x^2+x+1=0:\n",
      "   ()\n",
      "  errors []\n",
      "\n",
      "Now, some very similar equations\n",
      "x+1=0:\n",
      "   (-1.0,)\n",
      "  errors [0.0]\n",
      "10^-15*x^2+x+1=0:\n",
      "   (-999999999999998.9, -1.000000000000001)\n",
      "  errors [0.0, 0.0]\n",
      "10^-17*x^2+x+1=0:\n",
      "   (-1e+17, -1.0)\n",
      "  errors [1.0, 0.0]\n"
     ]
    }
   ],
   "source": [
    "def quad2(a,b,c):\n",
    "    \"\"\"Numerically stable version of quad1.\n",
    "    Returns a tuple of 0, 1, or 2 solutions to the quadratic equation a^2 x + b x + c = 0\"\"\"\n",
    "    if a == 0:\n",
    "        return (-c/b,)\n",
    "    det = b**2 - 4*a*c\n",
    "    if det < 0:\n",
    "        return ()\n",
    "    if det == 0:\n",
    "        if abs(a) > abs(b):\n",
    "            #version 1\n",
    "            return (-b/(2*a),)\n",
    "        else:\n",
    "            #version 2\n",
    "            return (-2*c/b,)\n",
    "    sqrtdet = math.sqrt(det)\n",
    "    signb = 1 if b >= 0 else -1\n",
    "    num = -b-signb*sqrtdet\n",
    "    return (num/(2*a),2*c/num)\n",
    "\n",
    "def test(a,b,c,fn):\n",
    "    xs = fn(a,b,c)\n",
    "    print(\"  \",xs)\n",
    "    print(\"  errors\",[a*x**2 + b*x + c for x in xs])\n",
    "        \n",
    "print(\"Solutions to\")\n",
    "print(\"x^2-3x-4=0:\")\n",
    "test(1,-3,-4,quad2)\n",
    "print(\"x^2-2x+1=0:\")\n",
    "test(1,-2,1,quad2)\n",
    "print(\"x^2+x+1=0:\")\n",
    "test(1,1,1,quad2)\n",
    "print()\n",
    "print(\"Now, some very similar equations\")\n",
    "print(\"x+1=0:\")\n",
    "test(0,1,1,quad2)\n",
    "#numerical errors are better\n",
    "print(\"10^-15*x^2+x+1=0:\")\n",
    "test(1e-15,1,1,quad2)\n",
    "#and at least are correct for the solution that's not so huge\n",
    "print(\"10^-17*x^2+x+1=0:\")\n",
    "test(1e-17,1,1,quad2)"
   ]
  },
  {
   "cell_type": "code",
   "execution_count": null,
   "metadata": {},
   "outputs": [],
   "source": []
  }
 ],
 "metadata": {
  "kernelspec": {
   "display_name": "Python 3",
   "language": "python",
   "name": "python3"
  },
  "language_info": {
   "codemirror_mode": {
    "name": "ipython",
    "version": 3
   },
   "file_extension": ".py",
   "mimetype": "text/x-python",
   "name": "python",
   "nbconvert_exporter": "python",
   "pygments_lexer": "ipython3",
   "version": "3.7.5"
  },
  "latex_envs": {
   "LaTeX_envs_menu_present": true,
   "autoclose": false,
   "autocomplete": true,
   "bibliofile": "biblio.bib",
   "cite_by": "apalike",
   "current_citInitial": 1,
   "eqLabelWithNumbers": true,
   "eqNumInitial": 1,
   "hotkeys": {
    "equation": "Ctrl-E",
    "itemize": "Ctrl-I"
   },
   "labels_anchors": false,
   "latex_user_defs": false,
   "report_style_numbering": false,
   "user_envs_cfg": false
  },
  "toc": {
   "base_numbering": 1,
   "nav_menu": {},
   "number_sections": true,
   "sideBar": true,
   "skip_h1_title": false,
   "title_cell": "Table of Contents",
   "title_sidebar": "Contents",
   "toc_cell": false,
   "toc_position": {},
   "toc_section_display": true,
   "toc_window_display": false
  }
 },
 "nbformat": 4,
 "nbformat_minor": 2
}
