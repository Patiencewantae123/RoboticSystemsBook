{
  "nbformat": 4,
  "nbformat_minor": 0,
  "metadata": {
    "kernelspec": {
      "display_name": "Python 3",
      "language": "python",
      "name": "python3"
    },
    "language_info": {
      "codemirror_mode": {
        "name": "ipython",
        "version": 3
      },
      "file_extension": ".py",
      "mimetype": "text/x-python",
      "name": "python",
      "nbconvert_exporter": "python",
      "pygments_lexer": "ipython3",
      "version": "3.5.2"
    },
    "latex_envs": {
      "LaTeX_envs_menu_present": true,
      "autoclose": false,
      "autocomplete": true,
      "bibliofile": "biblio.bib",
      "cite_by": "apalike",
      "current_citInitial": 1,
      "eqLabelWithNumbers": true,
      "eqNumInitial": 1,
      "hotkeys": {
        "equation": "Ctrl-E",
        "itemize": "Ctrl-I"
      },
      "labels_anchors": false,
      "latex_user_defs": true,
      "report_style_numbering": false,
      "user_envs_cfg": false
    },
    "toc": {
      "base_numbering": 1,
      "nav_menu": {},
      "number_sections": true,
      "sideBar": true,
      "skip_h1_title": true,
      "title_cell": "Table of Contents",
      "title_sidebar": "Contents",
      "toc_cell": false,
      "toc_position": {
        "height": "calc(100% - 180px)",
        "left": "10px",
        "top": "150px",
        "width": "278.517px"
      },
      "toc_section_display": true,
      "toc_window_display": true
    },
    "widgets": {
      "application/vnd.jupyter.widget-state+json": {}
    },
    "colab": {
      "name": "InverseKinematics.ipynb",
      "provenance": []
    }
  },
  "cells": [
    {
      "cell_type": "markdown",
      "metadata": {
        "id": "xFK-rz5y0P0n"
      },
      "source": [
        "# Section II. MODELING\n",
        "    \n",
        "# Chapter 6. Inverse Kinematics"
      ]
    },
    {
      "cell_type": "markdown",
      "metadata": {
        "id": "anP49LQs0P0t"
      },
      "source": [
        "As opposed to forward kinematics, which computes the workspace\n",
        "coordinates of the robot given a configuration as input, inverse\n",
        "kinematics (IK) is essentially the reverse operation: computing\n",
        "configuration(s) to reach a desired workspace coordinate. This operation\n",
        "is essential to many robotics tasks, like moving a tool along a\n",
        "specified path, manipulating objects, and observing scenes from a\n",
        "desired vantage point. Because it is so important, inverse kinematics\n",
        "has been studied extensively, with many techniques available to solve it\n",
        "quickly and (relatively) reliably.\n",
        "\n",
        "However, unlike forward kinematics, inverse kinematics cannot be solved\n",
        "in a closed-form expression (in general). We shall see there may be no\n",
        "solutions, multiple solutions, or even an infinite number of solutions\n",
        "to an IK problem. As a result, the subtleties of IK must be understood\n",
        "in order to apply it effectively in practice. This chapter will discuss\n",
        "several general issues regarding IK, including the notions of task\n",
        "space, redundancy, and singularities. Both analytical and numerical\n",
        "methods to solve inverse kinematics will be presented.\n"
      ]
    },
    {
      "cell_type": "markdown",
      "metadata": {
        "id": "f5f0prW00ZZb"
      },
      "source": [
        "General discussion\r\n",
        "------------------\r\n",
        "\r\n",
        "If we express the coordinates of some point $X$ attached to the robot as\r\n",
        "a vector $\\mathbf{x}$, forward kinematics allows us to compute a map\r\n",
        "$\\mathbf{x}(\\mathbf{q}) \\equiv f(\\mathbf{q})$ where $\\mathbf{q}$ is the robot's\r\n",
        "configuration. Note that this map is vector-valued. The goal of IK is to\r\n",
        "produce an inverse of the map $f$, or more specifically, given a desired\r\n",
        "value $\\mathbf{x}_D$, calculate one or more solutions $\\mathbf{q}$ such that\r\n",
        "$\\mathbf{x}_D = \\mathbf{x}(\\mathbf{q}) \\equiv f(\\mathbf{q})$ hold. We also say that\r\n",
        "$\\mathbf{x}(\\mathbf{q}) - \\mathbf{x}_D = 0$ is the *constraint equation* that $\\mathbf{q}$\r\n",
        "must meet.\r\n",
        "\r\n",
        "************\r\n",
        "\r\n",
        "![fig:2RIK](https://github.com/krishauser/RoboticSystemsBook/blob/master/figures/modeling/ik_2R.png?raw=1)\r\n",
        "\r\n",
        "<div class=\"figcaption\"><a name=\"fig:2RIK\">Figure 1</a>.\r\n",
        "Illustrating the IK problem for a 2R planar manipulator. (a) The goal\r\n",
        "is to find one or more configurations $\\mathbf{q}$ so that the end effector\r\n",
        "position $\\mathbf{x}(\\mathbf{q})$ is matched to a target position $\\mathbf{x}_D$. IK\r\n",
        "problems may have more than one solution, and in this case there are two\r\n",
        "solutions (b,c) given by $(q_1^A,q_2^A)$ and\r\n",
        "$(q_1^B,q_2^B)$.</div>\r\n",
        "\r\n",
        "************\r\n",
        "\r\n",
        "For instance, suppose $X$ is a point on link $N$ and has local\r\n",
        "coordinates $\\mathbf{x}_N$ (relative to link $N$). After the robot moves,\r\n",
        "link $N$ has coordinate frame $T_N(\\mathbf{q})$ relative to the world frame.\r\n",
        "Hence, $X$ has world coordinates $$\\mathbf{x}(\\mathbf{q}) = T_N(\\mathbf{q}) \\mathbf{x}_N.$$\r\n",
        "\r\n",
        "Given $\\mathbf{x}_D$ specifying some desired coordinates of $X$ in the world\r\n",
        "frame, IK would compute some $\\mathbf{q}$ so that\r\n",
        "$T_N(\\mathbf{q}) \\mathbf{x}_N = \\mathbf{x}_D$. Depending on the value of $\\mathbf{x}_D$ and\r\n",
        "the kinematic structure of the robot, there may be no solution, such as\r\n",
        "when the desired point is out of reach. There may also be multiple\r\n",
        "solutions, as illustrated in\r\n",
        "[Fig. 1](#fig:2RIK). A third case is when infinite solutions may\r\n",
        "occur, such as when the robot is *redundant*, which means that it\r\n",
        "possesses more degrees of freedom than the dimension of the workspace.\r\n"
      ]
    },
    {
      "cell_type": "markdown",
      "metadata": {
        "id": "XtqKzHPf0bJt"
      },
      "source": [
        "### Nonlinear mapping between C-space and workspace\r\n",
        "\r\n",
        "The big challenge in inverse kinematics is that the mapping from configuration space to workspace is *nonlinear*.  This means that straight lines in the joint space map to curves in the workspace, and vice versa.   In other words, the direction of motion in workspace changes continuously as the configuration moves. The plots below show some examples for the 2R robot with unit lengths.  \r\n",
        "\r\n",
        "The significance of this is that we cannot simply use the tools of linear algebra to solve IK problems.  We will need to use more sophisticated geometric and mathematical manipulations in order to find solutions.  Moreover, whereas the solution to linear systems of equations may be unique points or linear subspaces of solutions, the solution to nonlinear equations can be multiple points, or even nonlinear manifolds.  \r\n"
      ]
    },
    {
      "cell_type": "code",
      "metadata": {
        "code_folding": [
          0
        ],
        "cellView": "form",
        "id": "nypVDni80P0x",
        "outputId": "09fe8ef4-a202-4ce2-8d13-1f8275f04bde",
        "colab": {
          "base_uri": "https://localhost:8080/",
          "height": 299
        }
      },
      "source": [
        "#@title\n",
        "#Code for generating the figures below\n",
        "%matplotlib inline\n",
        "import matplotlib.pyplot as plt\n",
        "import numpy as np\n",
        "import math\n",
        "\n",
        "fig = plt.figure(figsize=(8,4))\n",
        "axjoint = fig.add_subplot(121)\n",
        "axwork = fig.add_subplot(122)\n",
        "\n",
        "L1,L2=1,1\n",
        "def fk(q1,q2):\n",
        "    c1 = np.cos(q1)\n",
        "    s1 = np.sin(q1)\n",
        "    c12 = np.cos(q1+q2)\n",
        "    s12 = np.sin(q1+q2)\n",
        "    return (c1*L1+c12*L2,s1*L1+s12*L2)\n",
        "\n",
        "def plotlines(qa,qb,divs=40,**kwargs):\n",
        "    q1 = np.linspace(qa[0],qb[0],divs)\n",
        "    q2 = np.linspace(qa[1],qb[1],divs)\n",
        "    x,y = fk(q1,q2)\n",
        "    axjoint.plot(q1,q2,**kwargs)\n",
        "    axwork.plot(x,y,**kwargs)\n",
        "\n",
        "axjoint.set_xlim(-math.pi,math.pi)\n",
        "axjoint.set_ylim(-math.pi,math.pi)\n",
        "axjoint.set_title(\"Configuration space\")\n",
        "axjoint.set_xlabel(r'$\\theta_1$')\n",
        "axjoint.set_ylabel(r'$\\theta_2$')\n",
        "axwork.set_xlim(-2.5,2.5)\n",
        "axwork.set_ylim(-2.5,2.5)\n",
        "axwork.set_title(\"Workspace\")\n",
        "axwork.set_xlabel('x')\n",
        "axwork.set_ylabel('y')\n",
        "plotlines((0,0),(math.pi/2,0),color='k')\n",
        "plotlines((math.pi/2,0),(math.pi/2,-2),color='b')\n",
        "plotlines((math.pi/2,-2),(-math.pi/2,-3),color='r')\n",
        "plt.show()"
      ],
      "execution_count": 7,
      "outputs": [
        {
          "output_type": "display_data",
          "data": {
            "image/png": "[encoded data removed]",
            "text/plain": [
              "<Figure size 576x288 with 2 Axes>"
            ]
          },
          "metadata": {
            "tags": [],
            "needs_background": "light"
          }
        }
      ]
    },
    {
      "cell_type": "markdown",
      "metadata": {
        "id": "S3RSDoME0P05"
      },
      "source": [
        "### Task space\n",
        "\n",
        "The coordinates $\\mathbf{x}$ are known as *task coordinates* which define the\n",
        "robot's intended goal that it should perform in Cartesian space. In the\n",
        "example above, the task consisted only of Cartesian position, but it\n",
        "could generalize to also include orientation of the final link through a\n",
        "different choice of $f$. To define a combination of position and\n",
        "orientation goal, we would append some rotation parameterization like\n",
        "Euler angles to $\\mathbf{x}$, and define the forward kinematic map:"
      ]
    },
    {
      "cell_type": "markdown",
      "metadata": {
        "id": "Y761Y1GW0P07"
      },
      "source": [
        "$$\\mathbf{x} \\equiv \\begin{bmatrix}\n",
        "  \\mathbf{x}_p \\\\\n",
        "  \\mathbf{x}_o\n",
        "\\end{bmatrix}=f(\\mathbf{q}) \\equiv\n",
        " \\begin{bmatrix}\n",
        "   T_N(\\mathbf{q})\\mathbf{x}_N \\\\\n",
        "   R_{ea}^{-1}(R_N(\\mathbf{q}))\n",
        " \\end{bmatrix}$$ "
      ]
    },
    {
      "cell_type": "markdown",
      "metadata": {
        "id": "vrp_MClo0P09"
      },
      "source": [
        "\n",
        "where $R_N(\\mathbf{q})$ is the 3x3 rotation matrix of the $N$'th link, and\n",
        "$R_{ea}^{-1}(R)$ computes the euler angle representation of the rotation\n",
        "matrix $R$ (according to some chosen convention). Here $\\mathbf{x}_p$ is the\n",
        "position of $X$ and $\\mathbf{x}_o$ is the Euler angle representation of the\n",
        "orientation of the link on which it resides.\n",
        "\n",
        "It is also possible to define more exotic task spaces to accomplish\n",
        "different goals. Suppose for example that $X$ is a point in the middle\n",
        "of the robot's gripper, and it is supposed to lift a cup of liquid\n",
        "without tipping it. If we define a local direction $\\mathbf{d}_N$ as an \"up\"\n",
        "direction perpendicular to the gripper opening direction, and $\\mathbf{z}$\n",
        "being the up direction in world coordinates, then we can specify a\n",
        "directional task constraint:\n",
        "$$\\mathbf{d}(\\mathbf{q}) - \\mathbf{z} = R_N (\\mathbf{q}) \\mathbf{d}_N - \\mathbf{z} = 0$$ where\n",
        "$\\mathbf{d}(\\mathbf{q})$ is the direction of the desired \"up\" vector attached to\n",
        "the gripper, but expressed in world coordinates.\n",
        "\n",
        "In general, the task space may consist of any number of position and\n",
        "orientation constraints on the robot. For example, for a $k$-legged\n",
        "robot, up to $k$ leg positions and orientation may be constrained to be\n",
        "fixed while the body moves. In any of these cases we can still express\n",
        "the constraint as a vector equation $\\mathbf{x}(\\mathbf{q}) - \\mathbf{x}_D = 0$ by\n",
        "stacking each individual constraint into a larger vector.\n"
      ]
    },
    {
      "cell_type": "markdown",
      "metadata": {
        "id": "6jtmf0HR1OZJ"
      },
      "source": [
        "### Analytical vs numerical IK\r\n",
        "\r\n",
        "There exist two general approaches for solving IK problems. In the\r\n",
        "*analytical* approach, the equation $\\mathbf{x}_D = f(\\mathbf{q})$ is\r\n",
        "mathematically inverted into a closed-form expression through symbolic\r\n",
        "manipulations. In the *numerical approach*, we are given an initial\r\n",
        "guess $\\mathbf{q}_0$ and then calculate a sequence of configurations\r\n",
        "$\\mathbf{q}_0,\\mathbf{q}_1,\\mathbf{q}_2,\\ldots$ such that the error\r\n",
        "$\\| f(\\mathbf{q}) - \\mathbf{x}_D \\|$ approaches 0. This section will focus on\r\n",
        "analytical methods.\r\n",
        "\r\n",
        "The advantages of the analytical method include:\r\n",
        "\r\n",
        "-   Computes all IK solutions, and determines whether no solution\r\n",
        "    exists.\r\n",
        "\r\n",
        "-   Once the equations are derived, solutions are very fast to compute.\r\n",
        "\r\n",
        "-   No need to define solution parameters or initial guesses $\\mathbf{q}_0$\r\n",
        "\r\n",
        "Disadvantages of the analytical method include:\r\n",
        "\r\n",
        "-   Often difficult or tedious to derive.\r\n",
        "\r\n",
        "-   Must be derived independently for robots with different kinematic\r\n",
        "    structures.\r\n",
        "\r\n",
        "-   Only applicable to nonredundant robots (\\# DOFs = \\# of task space\r\n",
        "    dimensions).\r\n"
      ]
    },
    {
      "cell_type": "markdown",
      "metadata": {
        "id": "49XUxqEc1Q8B"
      },
      "source": [
        "### Choosing from a set of solutions: incorporating extra constraints\r\n",
        "\r\n",
        "It is important to note that when multiple solutions exist, neither IK\r\n",
        "approach specifies which solution is \"best.\" Also, it is important to\r\n",
        "note that many of the solutions produced by IK techniques may be\r\n",
        "infeasible for a robot to undertake. For example, IK solutions may\r\n",
        "exceed joint limits, cause the robot to self-collide, or cause the robot\r\n",
        "to collide with environmental obstacles. In fact, the notion of \"best\"\r\n",
        "or \"feasible\" must be defined by some criterion external to the choice\r\n",
        "of task. The requirement of producing high-quality solutions can be\r\n",
        "considered as a *soft constraint*, while strict requirements are\r\n",
        "considered *hard constraints*.\r\n",
        "\r\n",
        "Soft constraints can be expressed as seeking an IK solution that\r\n",
        "minimizes some scalar function $g(\\mathbf{q})$. To handle soft constraints,\r\n",
        "in the analytical case where multiple solutions exist, we may simply\r\n",
        "loop through all solutions; in the numerical case, there are some\r\n",
        "solution techniques that (locally) minimize $g(\\mathbf{q})$ among possible\r\n",
        "solutions. To handle hard constraints in the analytical solution case,\r\n",
        "they may be checked after solving for all solutions. In the numerical\r\n",
        "case, it is preferable to use solution techniques that enforce these\r\n",
        "additional constraints.\r\n",
        "\r\n",
        "Throughout this chapter, however, additional constraints will not be\r\n",
        "considered unless otherwise specified.\r\n",
        "\r\n",
        "### Counting solutions\r\n",
        "\r\n",
        "For *almost all* task parameters $\\mathbf{x}$ (in a sense to be made more\r\n",
        "precise later) and \"usual\" kinematic structures, it is possible to coarsely\r\n",
        "determine the number of solutions simply by examining the number of DOFs\r\n",
        "of the robot and the number of constraints. Letting $n$ be the number of\r\n",
        "DOFs and $m$ be the number of task constraints, we have the following\r\n",
        "general rules:\r\n",
        "\r\n",
        "-   If $n < m$, then no solutions to $\\mathbf{x} = f(\\mathbf{q})$ exist.\r\n",
        "    (Overconstrained system of equations.)\r\n",
        "\r\n",
        "-   If $n = m$, then a finite number of solutions exist.\r\n",
        "\r\n",
        "-   If $n > m$, then either no solutions or an infinite number of\r\n",
        "    solutions exist. (Underconstrained system of equations.)\r\n",
        "\r\n",
        "In the overconstrained case, there is insufficient flexibility in the\r\n",
        "choice of $\\mathbf{q}$ to attain arbitrary values of $\\mathbf{x}$. In the\r\n",
        "underconstrained case, the robot is also called *redundant*. When the\r\n",
        "task exceeds the reach of the robot, there is no solution, but whenever\r\n",
        "a solution exists, there is a *continuum* of solutions that attain the\r\n",
        "same task. In fact, the solution set in general will have intrinsic\r\n",
        "dimension $n-m$ -- that is there will be $n-m$ independent directions of\r\n",
        "flexibility in configuration space while maintaining the task as fixed.\r\n",
        "It is often the case in redundant robots that it is difficult to\r\n",
        "characterize all of the solutions for a given task, although we shall\r\n",
        "describe methods for doing so when describing parallel robots.\r\n"
      ]
    },
    {
      "cell_type": "markdown",
      "metadata": {
        "id": "GzWQkqA11SqT"
      },
      "source": [
        "### Singularities\r\n",
        "\r\n",
        "The counting rules hold almost everywhere except for certain unstable\r\n",
        "settings of the parameter $\\mathbf{x}$, which are known as *singularities*.\r\n",
        "We have already discussed singularities in the context of 3D rotations,\r\n",
        "where a rotation may have multiple representations. In nonredundant IK,\r\n",
        "a singularity occurs when the task has an infinite number of solutions,\r\n",
        "or precisely one solution. In redundant IK, a singularity is observed as\r\n",
        "a change in the intrinsic dimensionality of the solution set.\r\n",
        "\r\n",
        "Singularities are *unstable* in the sense that any open neighborhood\r\n",
        "containing a singular task point $\\mathbf{x}$ will have different numbers of\r\n",
        "solutions. In other words, if $\\mathbf{x}$ were perturbed slightly, the\r\n",
        "number of solutions will almost certainly change. Non-singular points do\r\n",
        "not have this problem: for a non-singular point $\\mathbf{x}$, there will\r\n",
        "exist an open neighborhood of $\\mathbf{x}$ for which the number of solutions\r\n",
        "remains constant.\r\n",
        "\r\n",
        "In practical terms, singularities usually avoided during IK for a number\r\n",
        "of reasons: as a singularity is approached in task space, the\r\n",
        "solution configurations change increasingly rapidly, and the solution\r\n",
        "set may change size, making it challenging to produce smooth movements.\r\n",
        "There is a straightforward way of computing whether a configuration is\r\n",
        "at a singularity via a condition about the task's *Jacobian matrix*.\r\n",
        "This will be discussed in the [section on Jacobians](#The-Jacobian-matrix). \r\n"
      ]
    },
    {
      "cell_type": "markdown",
      "metadata": {
        "id": "lMqkjTck0P0-"
      },
      "source": [
        "Analytical IK in 2D\n",
        "-------------------\n",
        "\n",
        "Let us begin by deriving analytical solutions for most common planar\n",
        "robots.\n"
      ]
    },
    {
      "cell_type": "markdown",
      "metadata": {
        "id": "FQlM6yMP1aBK"
      },
      "source": [
        "### 2R manipulator\r\n",
        "\r\n",
        "************\r\n",
        "\r\n",
        "![fig:2RIKb](https://github.com/krishauser/RoboticSystemsBook/blob/master/figures/modeling/ik_2Rb.png?raw=1)\r\n",
        "\r\n",
        "<div class=\"figcaption\"><a name=\"fig:2RIKb\">Figure 2</a>\r\n",
        "The key steps for solving the planar 2R IK problem. (a) Determine a\r\n",
        "value for $q_2$ that puts the end effector point on the circle centered\r\n",
        "on the origin with radius equal to the distance between the origin and\r\n",
        "the target point. Here there are 2 solutions. Then, determine the values of $q_1$\r\n",
        "that the end effector is rotated onto the target, with $q_2$ fixed to\r\n",
        "its first (b) and second (c)\r\n",
        "solutions.</div>\r\n",
        "\r\n",
        "************\r\n",
        "\r\n",
        "Consider a 2R manipulator with the first joint located at the origin,\r\n",
        "and at the reference configuration the second joint is located $L_1$\r\n",
        "distance away along the $x$ axis. The end effector is located $L_2$\r\n",
        "distance away from the second joint along the $x$ axis.\r\n",
        "\r\n",
        "With this definition, the forward kinematics equations in the previous\r\n",
        "chapter show that the world coordinates of the end effector at\r\n",
        "configuration $\\mathbf{q} = (q_1,q_2)$ are given by: $$\\begin{split}\r\n",
        "\\mathbf{x}(\\mathbf{q}) &= R(q_1)\\left(R(q_2) \\begin{bmatrix} L_2 \\\\ 0 \\end{bmatrix} + \\begin{bmatrix} L_1 \\\\ 0 \\end{bmatrix} \\right) \\\\\r\n",
        " & = R(q_1) \\begin{bmatrix}L_1 + c_2 L_2 \\\\ s_2 L_2 \\end{bmatrix} = \\begin{bmatrix} c_1(L_1 + c_2 L_2) - s_1 s_2 L_2 \\\\ s_1(L_1 + c_2 L_2) + c_1 s_2 L_2 \\end{bmatrix}\r\n",
        "\\end{split}$$ where $c_i = \\cos q_i$ and $s_i = \\sin q_i$, for\r\n",
        "$i = 1,2$.\r\n",
        "\r\n",
        "Suppose we wish to move this $\\mathbf{x}$ to the target point $\\mathbf{x}_D$.\r\n",
        "Thinking geometrically, we observe that the only joint controlling the\r\n",
        "norm $\\| \\mathbf{x}(\\mathbf{q}) \\|$ (i.e., the distance from the end effector to\r\n",
        "the origin) is $q_2$. See\r\n",
        "[Fig. 2](#fig:2RIKb)(a) for an illustration. As a result,\r\n",
        "$\\| \\mathbf{x}(q_1,q_2) \\| = \\| \\mathbf{x}(0,q_2) \\|$ which results in the\r\n",
        "simplified calculation:\r\n",
        "$$\\| \\mathbf{x}(q_1,q_2) \\| = \\sqrt{(L_1 + c_2 L_2)^2 + (s_2 L_2)^2}.$$ Since\r\n",
        "this norm must match the norm of $\\mathbf{x}_D$, we require:\r\n",
        "$$\\| \\mathbf{x}_D \\|^2 = (L_1 + c_2 L_2)^2 + (s_2 L_2)^2 = L_1^2 + 2 c_2 L_1 L_2 + c_2^2 L_2^2 + s_2^2 L_2^2 = L_1^2 + 2 c_2 L_1 L_2 + L_2^2$$\r\n",
        "where in the last equality we've used the fact that $c_i^2 + s_i^2 = 1$.\r\n",
        "Now, the only unknown quantity in this equation is $c_2$. Solving for\r\n",
        "$c_2$, we obtain:\r\n",
        "$$c_2 = \\frac{\\| \\mathbf{x}_D \\|^2 - L_1^2 - L_2^2}{2 L_1 L_2}.$$\r\n",
        "\r\n",
        "Based on the properties of the cosine, the right hand side (r.h.s.) of\r\n",
        "this equation must be in the range $[-1,1]$ for a solution to exist. If\r\n",
        "it were identically $\\pm 1$, then one solution would exist, namely 0 or\r\n",
        "$\\pi$, and otherwise two solutions exist, namely\r\n",
        "$$q_2 = \\pm \\cos^{-1} \\left( \\frac{\\| \\mathbf{x}_D \\|^2 - L_1^2 - L_2^2}{2 L_1 L_2} \\right).$$\r\n",
        "The positive and negative solutions are known as *elbow down* and *elbow\r\n",
        "up* solutions, respectively (with \"down\" and \"up\" indicating the\r\n",
        "direction that the elbow is facing, not the rotation of the forearm).\r\n",
        "For robots with anthropomorphic joint limits it is possible to restrict\r\n",
        "further consideration to only one of these solutions; otherwise, both\r\n",
        "solutions must be considered.\r\n",
        "\r\n",
        "Examining the case in which no solution exists, if the r.h.s. were\r\n",
        "greater than 1, then $\\| \\mathbf{x}_D \\|^2 - L_1^2 - L_2^2 > 2 L_1 L_2$, or\r\n",
        "in other words:\r\n",
        "$$\\| \\mathbf{x}_D \\|^2 > L_1^2 + 2 L_1 L_2 + L_2^2 = (L_1 + L_2)^2$$ which\r\n",
        "indicates that the desired point exceeds the reachable range of the\r\n",
        "manipulator.\r\n",
        "\r\n",
        "If on the other hand, the r.h.s. were less than -1, then\r\n",
        "$\\| \\mathbf{x}_D \\|^2 - L_1^2 - L_2^2 < - 2 L_1 L_2$, in other words\r\n",
        "$$\\| \\mathbf{x}_D \\|^2 < L_1^2 - 2 L_1 L_2 + L_2^2 = (L_1 - L_2)^2.$$ For\r\n",
        "this to be possible, we must have the link lengths unequal, and the\r\n",
        "target point is within a circle of radius $|L_1 - L_2|$ centered at the\r\n",
        "origin.\r\n",
        "\r\n",
        "If we have determined that there exists one or more solutions for the\r\n",
        "second joint, $q_2^{(k)}$ with $k=1$ or $2$, for each solution we can\r\n",
        "determine a value of $q_1^{(k)}$ so that the end effector reaches the\r\n",
        "proper heading toward $\\mathbf{x}_D$. Let the heading of $\\mathbf{x}_D$ be denoted\r\n",
        "$\\theta \\equiv atan2(x_y,x_x)$.\r\n",
        "\r\n",
        "Observe that if $q_1^{(k)}$ were to be set to 0, then the end effector\r\n",
        "would have heading\r\n",
        "$\\theta^{(k)} = atan2(L_2 \\sin q_2^{(k)}, L_1 + L_2 \\cos q_2^{(k)})$. We\r\n",
        "simply choose $q_1^k$ to compensate for the difference:\r\n",
        "$q_1^{(k)} = \\theta - \\theta^k$. See\r\n",
        "[Fig. 2](#fig:2RIKb)(b) and (c) for an illustration of this procedure.\r\n",
        "\r\n",
        "The above description can be converted into a procedure that computes\r\n",
        "the set of all solutions, with pseudocode listed in \r\n",
        "Algorithm 2RIK below.\r\n",
        "\r\n",
        "*******************\r\n",
        "**Algorithm 2RIK**\r\n",
        "\r\n",
        "1. $c_2 \\gets \\frac{\\| \\mathbf{x}_D \\|^2 - L_1^2 - L_2^2}{2 L_1 L_2}$.\r\n",
        "\r\n",
        "2. **if** $|c_2|>1$ **then** **return** $\\emptyset$.\r\n",
        "\r\n",
        "3. **if** $c_2 = 1$ **then** **return** $\\{ (atan2(x_y,x_x),0) \\}$. \r\n",
        "\r\n",
        "4. **if** $c_2 = -1$ and $\\mathbf{x}_D \\neq 0$ **then** **return** $\\{ (atan2(x_y,x_x),\\pi) \\}$.\r\n",
        "\r\n",
        "5. **if** $c_2 = -1$ and $\\mathbf{x}_D = 0$ **then** **return** $\\{ (q_1,\\pi) \\quad | \\quad q_1 \\in [0,2\\pi) \\}$\r\n",
        "\r\n",
        "6. Otherwise, let $q_2^{(1)} \\gets \\cos^{-1} c_2$ and $q_2^{(2)} \\gets -\\cos^{-1} c_2$.\r\n",
        "\r\n",
        "7. Compute $\\theta = atan2(x_y,x_x)$.\r\n",
        "\r\n",
        "8. **for** $k \\in \\{1,2\\}$ **do**\r\n",
        "\r\n",
        "9. &nbsp;&nbsp;&nbsp; $q_1^{(k)} = \\theta - atan2(L_2 \\sin q_2^{(k)}, L_1 + L_2 \\cos q_2^{(k)})$.\r\n",
        "\r\n",
        "10. **return** $\\{ (q_1^{(1)}, q_2^{(1)}), (q_1^{(2)}, q_2^{(2)}) \\}$.\r\n",
        "\r\n",
        "*******************\r\n",
        "\r\n",
        "Note that the implementation of this function in\r\n",
        "a programming language will need to handle the return value with some\r\n",
        "care; in particular, the return value in line 5 is an infinite set. A\r\n",
        "practical way of doing so would be to return some status flag indicating\r\n",
        "whether the result is finite or infinite."
      ]
    },
    {
      "cell_type": "markdown",
      "metadata": {
        "id": "hAqiWur_1dBH"
      },
      "source": [
        "### RP manipulator\r\n",
        "\r\n",
        "As a second example, consider a manipulator with one revolute and one\r\n",
        "prismatic joint extending along the $x$ axis. If the reference position\r\n",
        "has both the revolute and prismatic joint at the origin, the\r\n",
        "configuration $(q_1,q_2)$ simply gives the polar coordinates of the\r\n",
        "second link. Suppose the end effector were specified with a distance\r\n",
        "$L_2$ from the origin on the $x$ axis.\r\n",
        "\r\n",
        "Then, if the polar coordinates of the target point $\\mathbf{x}_D$ are\r\n",
        "$(\\theta,d) \\equiv (atan2(x_y,x_x),\\|\\mathbf{x}_D\\|)$, then the two solutions\r\n",
        "are $\\mathbf{q}^{(1)} = (\\theta, d - L_2)$ and\r\n",
        "$\\mathbf{q}^{(2)} = (\\theta + \\pi, - d + L_2)$. \r\n"
      ]
    },
    {
      "cell_type": "markdown",
      "metadata": {
        "id": "A7C3nH-t0P0_"
      },
      "source": [
        "Analytical IK in 3D\n",
        "-------------------\n",
        "\n",
        "In 3D, either 3 or 6 DOF are required of the robot to achieve position\n",
        "or position+orientation task spaces, respectively. Here we shall cover a\n",
        "few simple cases, since more general cases may not have closed-form\n",
        "solutions."
      ]
    },
    {
      "cell_type": "markdown",
      "metadata": {
        "id": "7l5ct5xC1hJc"
      },
      "source": [
        "### 3R manipulator\r\n",
        "\r\n",
        "We consider a 3R manipulator with the first joint rotating about the $z$\r\n",
        "axis, the second joint rotating about the $y$ axis with an offset of\r\n",
        "$L_1$ along the $z$ axis, and with both axes intersecting. The third\r\n",
        "joint is offset by a distance $L_2$ along the $x$ axis at the reference\r\n",
        "configuration, and rotates about the $y$ axis as well. The end effector\r\n",
        "is offset by a distance $L_3$ about the $x$ axis.\r\n",
        "\r\n",
        "With this definition the end effector's world coordinates are:"
      ]
    },
    {
      "cell_type": "markdown",
      "metadata": {
        "id": "bPifkYs30P1B"
      },
      "source": [
        "$$\n",
        "\\begin{aligned}\n",
        "\\mathbf{x}(\\mathbf{q}) = & R_z(q_1) R_y(q_2) \\begin{bmatrix} L_2 + c_3 L_3 \\\\ 0 \\\\ -s_3 L_3 \\end{bmatrix}   \\\\\n",
        "= &R_z(q_1) \\begin{bmatrix}c_2 (L_2 + c_3 L_3) - s_2 s_3 L_3 \\\\ 0 \\\\ -s_2 (L_2 + c_3 L_3) - c_2 s_3 L_3 \\end{bmatrix} \n",
        "\\\\\n",
        "= & \\begin{bmatrix} c_1 (c_2 (L_2 + c_3 L_3) - s_2 s_3 L_3) \\\\ s_1 (c_2 (L_2 + c_3 L_3) - s_2 s_3 L_3) \\\\ L_1 - s_2 (L_2 + c_3 L_3) - c_2 s_3 L_3 \\end{bmatrix}. \\end{aligned}\n",
        "$$"
      ]
    },
    {
      "cell_type": "markdown",
      "metadata": {
        "id": "UtG8mryI0P1C"
      },
      "source": [
        "We wish to match this to the target\n",
        "$\\mathbf{x}_D = (x_D,y_D,z_D)$.\n",
        "\n",
        "************\n",
        "\n",
        "![fig:3RIK](https://github.com/krishauser/RoboticSystemsBook/blob/master/figures/modeling/ik_3R.png?raw=1)\n",
        "\n",
        "<div class=\"figcaption\"><a name=\"fig:3RIK\">Figure 3</a>. \n",
        "(a) Inverse kinematics for a 3R robot reaching a point in space. (b)\n",
        "The first joint angle is determined by the heading of the target point\n",
        "in the $x-y$ plane (up to an addition of $\\pi$). (c) The second and\n",
        "third angles are determined by rotating the frame of reference to the\n",
        "plane containing the target point and the $z$ axis, and determining\n",
        "solutions for the planar 2R IK problem in this plane. (Note that since\n",
        "$q_2$ and $q_3$ rotate about the $y$ axis, they are measured by the\n",
        "clockwise angle.)</div>\n",
        "\n",
        "************\n",
        "\n",
        "\n",
        "Imagine observing the robot along a plane orthogonal to the 2nd and 3rd\n",
        "joint axes. The rotated $x$ coordinate is the term\n",
        "$\\sqrt{x_D^2 + y_D^2}$, and the rotated $z$ coordinate remains the same,\n",
        "$z_D$. In this rotated system, we can use the planar 2R solution to\n",
        "calculate the possible values of $q_2$ and $q_3$. However, we should\n",
        "accommodate the fact that joints 2 and 3 rotate about the $y$ axis, and\n",
        "positive rotations about the $y$ axis causes a negative movement in $z$.\n",
        "Namely, we should compute all values of\n",
        "$$(q_2,q_3) \\in 2RIK(L_2,L_3,(\\sqrt{x_D^2 + y_D^2},-z_D+L_1)).$$ This\n",
        "contributes up to 2 solutions. For each of those solutions, the value\n",
        "$q_1 = atan2(y_D,x_D)$ orients the first joint in the proper direction.\n",
        "[Fig. 3](#fig:3RIK) illustrates these solutions.\n",
        "\n",
        "However, there is a small catch: we could have also modified $q_1$ by a\n",
        "factor of $\\pi$, giving a flipped coordinate system for the 2R solution\n",
        "where the robot \"reaches backwards\". As a result, there are 2 additional\n",
        "solutions:\n",
        "$$(q_2^\\prime,q_3^\\prime) \\in 2RIK(L_2,L_3,(-\\sqrt{x_D^2 + y_D^2},-z_D+L_1)).$$\n",
        "each associated with the value $q_1^\\prime = atan2(y_D,x_D) + \\pi$.\n",
        "Hence, altogether, up to 4 solutions exist."
      ]
    },
    {
      "cell_type": "markdown",
      "metadata": {
        "id": "KrgZeU2S1mdw"
      },
      "source": [
        "### 2RP spherical manipulator\r\n",
        "\r\n",
        "For the 2RP robot [described in\r\n",
        "the last chapter](Kinematics.ipynb#Examples) we obtained the end effector point"
      ]
    },
    {
      "cell_type": "markdown",
      "metadata": {
        "id": "87mYmFCL0P1D"
      },
      "source": [
        "$$\n",
        "\\mathbf{x}(\\mathbf{q}) = \\begin{bmatrix} c_1 c_2 q_3 \\\\ s_1 c_2 q_3 \\\\ -s_2 q_3 \\end{bmatrix}.\n",
        "$$"
      ]
    },
    {
      "cell_type": "markdown",
      "metadata": {
        "id": "07bceLU60P1H"
      },
      "source": [
        "To match a target point $\\mathbf{x}_D = (x_D,y_D,z_D)$ we can observe that\n",
        "the norm $\\| \\mathbf{x}(\\mathbf{q}) \\|$ is simply $|q_3|$. It is very likely that\n",
        "only positive values of $q_3$ are valid joint values, and if so we can\n",
        "simply set $q_3 = \\| \\mathbf{x}_D \\|$.\n",
        "\n",
        "If $\\mathbf{x}_D = 0$, then we have a singularity in which any setting of\n",
        "$q_1$ and $q_2$ will satisfy the IK constraint. Otherwise, we solve the\n",
        "term $s_2 = z_D/\\|\\mathbf{x}_D\\|$ with $q_2 = \\sin^{-1}(z_D/\\|\\mathbf{x}_D\\|)$ and\n",
        "the alternative solution\n",
        "$q_2^\\prime = \\pi - \\sin^{-1}(z_D/\\|\\mathbf{x}_D\\|)$. Finally, we see the\n",
        "direction in $x-y$ plane is controlled by the first joint. So, $q_1$ can\n",
        "be solved with $atan2(y_D/c_2,x_D/c_2)$. The exception is if\n",
        "$x_D = y_D = 0$, in which any solution of $q_1$ works."
      ]
    },
    {
      "cell_type": "markdown",
      "metadata": {
        "id": "rpKw_rO71qBn"
      },
      "source": [
        "### 3P3R manipulators (6-axis CNC) \r\n",
        "\r\n",
        "Consider a 6DOF gantry that which consists of a $x,y,z$ translation\r\n",
        "stage and then a rotation stage with a wrist about axes $z,y,z$, all\r\n",
        "three of which are collocated. Without loss of generality, let\r\n",
        "$(q_1,q_2,q_3)$ be properly offset to give the center of the wrist in\r\n",
        "world coordinates. Suppose the tool center point is at point\r\n",
        "$(x_W,y_W,z_W)$ in wrist coordinates. Typically, for drilling and other\r\n",
        "rotary operations we have $x_W=y_W$ so that $q_6$ can operate as the\r\n",
        "drilling degree of freedom.\r\n",
        "\r\n",
        "In this problem the target is not just to reach a single point\r\n",
        "$(x_D,y_D,z_D)$ in space, but also a desired tool orientation $R_D \\in$\r\n",
        "SO(3). Here, the target task coordinate $\\mathbf{x}_D$ contains both position\r\n",
        "and orientation and represents a 6D task space because the inherent\r\n",
        "dimensionality of SO(3) is 3.\r\n",
        "\r\n",
        "Since the only degrees of freedom that affect orientation are $q_4$,\r\n",
        "$q_5$, and $q_6$, we can solve for the ZYZ euler angles to achieve\r\n",
        "$R_D$. First, let us derive the forward kinematics:  "
      ]
    },
    {
      "cell_type": "markdown",
      "metadata": {
        "id": "BV_Q3KHU0P1J"
      },
      "source": [
        "$$\\begin{aligned}\n",
        "R(q_4,q_5,q_6) &= R_z(q_4)R_y(q_5)R_z(q_6) \\\\\n",
        " & = \\left[\\begin{array}{ccc}\n",
        "   c_4 & -s_4 & 0\\\\\n",
        "   s_4 & c_4 & 0\\\\\n",
        "   0 & 0 & 1\n",
        "   \\end{array} \\right]\n",
        "   \\left[\\begin{array}{ccc}\n",
        "   c_5 & 0 & s_5\\\\\n",
        "   0 & 1 & 0\\\\\n",
        "   -s_5 & 0 & c_5\n",
        "   \\end{array} \\right]\n",
        "   \\left[\\begin{array}{ccc}\n",
        "   c_6 & -s_6 & 0\\\\\n",
        "   s_6 & c_6 & 0\\\\\n",
        "   0 & 0 & 1\n",
        "   \\end{array} \\right] \\\\\n",
        " & = \\left[\\begin{array}{ccc}\n",
        "   c_4 & -s_4 & 0\\\\\n",
        "   s_4 & c_4 & 0\\\\\n",
        "   0 & 0 & 1\n",
        "   \\end{array} \\right]\n",
        "   \\left[\\begin{array}{ccc}\n",
        "   c_5 c_6  & -c_5 s_6 & s_5 \\\\\n",
        "   s_6      & c_6 & 0\\\\\n",
        "   -s_5 c_6 & s_5 s_6 & c_5\n",
        "   \\end{array} \\right] \\\\\n",
        " &\n",
        "  = \\left[\\begin{array}{ccc}\n",
        "   c_4 c_5 c_6  -s_4 s_6  & -c_4 c_5 s_6 - s_4 c_6 & c_4 s_5 \\\\\n",
        "   s_4 c_5 c_6  +c_4 s_6  & -s_4 c_5 s_6 + c_4 s_6 & s_4 s_5 \\\\\n",
        "   -s_5 c_6 & s_5 s_6 & c_5\n",
        "   \\end{array} \\right].\n",
        "\\end{aligned}\n",
        "\\label{eq:ZYZEulerAngles}$$ "
      ]
    },
    {
      "cell_type": "markdown",
      "metadata": {
        "id": "kiJM0LC30P1L"
      },
      "source": [
        "Let us denote\n",
        "$$R_D = \\left[\\begin{array}{ccc}\n",
        "r_{11} & r_{12} & r_{13} \\\\\n",
        "r_{21} & r_{22} & r_{23} \\\\\n",
        "r_{31} & r_{32} & r_{33} \n",
        "\\end{array}\n",
        "\\right].$$ The simplest entry to solve is $r_{33} = c_5$, so\n",
        "$q_5 = \\pm \\cos^{-1}(r_{33})$. If $r_{33}$ is 1, then $q_5 = 0$ is a\n",
        "singularity and there are an infinite number of solutions for $q_4$ and\n",
        "$q_6$ that satisfy $q_4 + q_6 = atan2(r_{21},r_{11})$. Otherwise, we can\n",
        "calculate the two possible values $s_5 = \\sin q_5$ and determine\n",
        "$q_4 = atan2(-r_{31},r_{32})$ and $q_6 = atan2(r_{23},r_{13})$.\n",
        "\n",
        "Once these values are determined, it remains to be seen where to place\n",
        "the *wrist* so that the tool is at $(x_D,y_D,z_D)$. We know that\n",
        "$$\\mathbf{x}(\\mathbf{q}) = \\begin{bmatrix}q_1 \\\\ q_2 \\\\ q_3 \\end{bmatrix} + R(q_4,q_5,q_6)\\begin{bmatrix}x_W \\\\ y_W \\\\ z_W \\end{bmatrix}$$\n",
        "which should be equated to $(x_D,y_D,z_D)$. Since we know\n",
        "$R(q_4,q_5,q_6) = R_D$, we can compute the matrix-vector multiply and\n",
        "subtract from both sides to obtain\n",
        "$$\\begin{bmatrix}q_1 \\\\ q_2 \\\\ q_3 \\end{bmatrix} = \\begin{bmatrix}{x_D} \\\\ {y_D} \\\\ {z_D} \\end{bmatrix} - R_D\\begin{bmatrix}x_W \\\\ y_W \\\\ z_W \\end{bmatrix}.$$"
      ]
    },
    {
      "cell_type": "markdown",
      "metadata": {
        "id": "irgvk85u1tiz"
      },
      "source": [
        "### 6R manipulators with orthogonal axes\r\n",
        "\r\n",
        "*************\r\n",
        "\r\n",
        "![fig:6RIK](https://github.com/krishauser/RoboticSystemsBook/blob/master/figures/modeling/ik_6R.png?raw=1)\r\n",
        "\r\n",
        "<div class=\"figcaption\"><a name=\"fig:6RIK\">Figure 4</a>\r\n",
        "(a) A 6DOF industrial robot with two shoulder DOFs, an elbow, and\r\n",
        "three wrist DOFs. The order of rotational axes from base to tip are\r\n",
        "ZYYXYX. The task space consists of both position and orientation. (b)\r\n",
        "The first step solves $q_1$, $q_2$, and $q_3$ by determining the wrist\r\n",
        "location and solving a 3R IK problem. (c) Then, the residual relative\r\n",
        "rotation between the end effector and \"forearm\" is solved using the\r\n",
        "solution to XYX Euler angles.</div>\r\n",
        "\r\n",
        "*************\r\n",
        "\r\n",
        "Most 6R industrial manipulators are structured so that there is one\r\n",
        "elbow joint, a shoulder with 2 orthogonal intersecting axes, and a wrist\r\n",
        "with 3 orthogonal intersecting axes. One such layout is shown in\r\n",
        "[Figure 4](#fig:6RIK)(a). Another possible layout is a shoulder with 3\r\n",
        "axes, and a wrist with 2 axes. But let us first consider how to address\r\n",
        "the former, and we leave deriving an analytical solution for the 3-axis\r\n",
        "shoulder, 2-axis wrist manipulator as an exercise.\r\n",
        "\r\n",
        "An end effector position for an industrial manipulator is also known as\r\n",
        "the *tool center point* . Since the origin of the last link's\r\n",
        "coordinates are inside its joint, the tool center point is defined by\r\n",
        "some local coordinates $\\mathbf{x}_6$ given its offset from the last link,\r\n",
        "which are measured or calibrated for any end effector attachment. From\r\n",
        "this information we define the world coordinates of the tool center\r\n",
        "point $$\\mathbf{x}_{tcp}(\\mathbf{q}) = T_6(\\mathbf{q})\\mathbf{x}_6$$ We wish to match\r\n",
        "$\\mathbf{x}_{tcp}$ with a desired position $\\mathbf{x}_D$ and the last link should\r\n",
        "have orientation $R_D$.\r\n",
        "\r\n",
        "The basic idea of the solution technique is that the wrist position can\r\n",
        "be first uniquely determined from this information. Specifically, we\r\n",
        "assume that we will eventually be able to solve the rotation\r\n",
        "$R_6(\\mathbf{q}) = R_D$. Then, the constraint equation becomes\r\n",
        "$$\\mathbf{x}_D = \\mathbf{x}_{tcp}(\\mathbf{q}) = R_6(\\mathbf{q}) \\mathbf{x}_6 + \\mathbf{t}_6(\\mathbf{q})$$\r\n",
        "Where $\\mathbf{t}_6(\\mathbf{q})$ is the wrist position. In other words,\r\n",
        "$\\mathbf{t}_6(\\mathbf{q}) = \\mathbf{x}_D - R_D \\mathbf{x}_6$.\r\n",
        "\r\n",
        "We then notice that the wrist position is only affected by the first\r\n",
        "three links: $q_1$, $q_2$, and $q_3$. In fact, this is simply a matter\r\n",
        "of solving a 3R IK problem with target $\\mathbf{x}_D - R_D \\mathbf{x}_6$! As\r\n",
        "before, we have up to 4 solutions for $(q_1,q_2,q_3)$.\r\n",
        "\r\n",
        "Now, once we have determined a set of these values, we can determine a\r\n",
        "rotation of the third link, $R_3(q_1,q_2,q_3)$. The remaining job for\r\n",
        "$q_4$, $q_5$, and $q_6$ is to rotate the rest of the way to $R_D$. Since\r\n",
        "all of the reference frames are oriented with the world frame, we need\r\n",
        "to satisfy\r\n",
        "$$R_6(\\mathbf{q}) = R_3(q_1,q_2,q_3) R_x(q_4) R_y(q_5) R_x(q_6) = R_D.$$ By\r\n",
        "premultiplying by $R_3(q_1,q_2,q_3)$, we obtain an XYX Euler angle\r\n",
        "conversion problem from the relative rotation matrix\r\n",
        "$R_3^{-1}(q_1,q_2,q_3)R_D$. This conversion is similar to the solution\r\n",
        "for the ZYZ Euler angle conversion problem described above, and has 2\r\n",
        "solutions (except at singularities).\r\n",
        "\r\n",
        "In all, since there are up to 4 solutions for $(q_1,q_2,q_3)$, and for\r\n",
        "each solution there are 2 solutions for $(q_4,q_5,q_6)$, there are a\r\n",
        "total of 8 solutions for $\\mathbf{q}$ (except at singularities). "
      ]
    },
    {
      "cell_type": "markdown",
      "metadata": {
        "id": "0GKOmVTd0P1N"
      },
      "source": [
        "Finding all solutions for redundant and parallel robots\n",
        "-------------------------------------------------------\n",
        "\n",
        "In the case of redundant robots, we may wish to determine some\n",
        "representation of the entire IK solution set. This operation is also\n",
        "useful for determining the configuration space of parallel robots.\n",
        "\n",
        "The set of solutions is known as the *self-motion manifold*, and\n",
        "instantaneous motions that preserve the task coordinate are known as\n",
        "*null-space motions*. A *manifold* is defined as a set that is locally\n",
        "homeomorphic to a disk in Cartesian space. We have already seen the\n",
        "topological spaces $R^n$, $S_2$, $SO(3)$ etc., which are also manifolds."
      ]
    },
    {
      "cell_type": "markdown",
      "metadata": {
        "id": "d6mw614E12F-"
      },
      "source": [
        "### Redundant robots\r\n",
        "\r\n",
        "The $n-m$ degrees of freedom remaining in a redundant robot span the\r\n",
        "dimensions of the self-motion manifold. It is possible to choose $n-m$\r\n",
        "joints of the robot, say $q_1,\\ldots,q_{n-m}$, and fix them at certain\r\n",
        "values, and then solve an analytical IK problem to determine the\r\n",
        "solution for the remaining $m$ DOFs. The former values\r\n",
        "$q_1,\\ldots,q_{n-m}$ are known as the independent DOFs while the\r\n",
        "remainder are known as the dependent DOFs.\r\n",
        "\r\n",
        "The choice of independent DOFs is somewhat arbitrary, but is usually\r\n",
        "best chosen to lead to simple analytical IK solutions for the dependent\r\n",
        "DOFs. In any case, the independent joints *parameterize* the self-motion\r\n",
        "manifold. The main difficulty in expressing this solution space is to\r\n",
        "determine a suitable domain of the independent DOFs *such that an\r\n",
        "analytical solution exists* for the depending DOFs.\r\n",
        "\r\n",
        "As a very simple example, let us consider the planar 2R robot with a\r\n",
        "task where only the $x$ coordinate of its end effector is constrained to\r\n",
        "some value $x_D$.\r\n",
        "\r\n",
        "That is, we wish to determine the set of solutions to the constraint\r\n",
        "$$x_D = c_1(L_1 + c_2 L_2) - s_1 s_2 L_2  = c_1 L_1 + c_{12} L2$$\r\n",
        "$c_{12} = \\cos (q_1 + q_2)$ and with $x_D$ fixed at some value. Plotted\r\n",
        "in the plane $(q_1,q_2)$, the solution set is an ovoid-like 1D curve in\r\n",
        "2D space.  "
      ]
    },
    {
      "cell_type": "code",
      "metadata": {
        "code_folding": [
          0
        ],
        "cellView": "form",
        "id": "ytJ-qR260P1O",
        "outputId": "cacbe983-c1e5-4f58-e537-d04bcee9b2e2"
      },
      "source": [
        "#@title\n",
        "#Code for generating the distance to constraint figure\n",
        "import matplotlib\n",
        "L1 = 1\n",
        "L2 = 1\n",
        "xD = 1\n",
        "def distance(q1,q2):\n",
        "    c1 = np.cos(q1)\n",
        "    c12 = np.cos(q1+q2)\n",
        "    return L1*c1 + L2*c12 - xD\n",
        "plt.figure(figsize=(4,4))\n",
        "X,Y = np.meshgrid(np.linspace(-math.pi,math.pi,40),np.linspace(-math.pi,math.pi,40))\n",
        "plt.title('Distance to constraint')\n",
        "CS = plt.contour(X,Y,distance(X,Y),linewidths=[1,1,1,1,1,2,1,1,1],colors=('r','r','r','r','r','k','b','b','b'))\n",
        "plt.clabel(CS, inline=1, fontsize=10)\n",
        "plt.xlabel('q1')\n",
        "plt.ylabel('q2')\n",
        "plt.show()"
      ],
      "execution_count": null,
      "outputs": [
        {
          "output_type": "display_data",
          "data": {
            "image/png": "[encoded data removed]",
            "text/plain": [
              "<Figure size 288x288 with 1 Axes>"
            ]
          },
          "metadata": {
            "tags": [],
            "needs_background": "light"
          }
        }
      ]
    },
    {
      "cell_type": "markdown",
      "metadata": {
        "id": "FKroamH10P1P"
      },
      "source": [
        "To characterize this set, we could choose $q_1$ as the independent DOF\n",
        "and then solve for $q_2$ analytically. Doing so, we find:\n",
        "$$q_2 = \\pm \\cos^{-1}((x_D - c_1 L_1) / L_2) - q_1.$$ The top of the\n",
        "manifold is given by the positive cosine term, while the bottom is the\n",
        "negative cosine term. Since the domain of $\\cos^{-1}$ is $[-1,1]$,\n",
        "solutions only exist for the range of $q_1$ such that\n",
        "$|x_D - c_1 L_1| \\leq  L_2$, or in other words,\n",
        "$(x_D - L_2)/L_1 \\leq c_1 \\leq (x_D + L_2) /L_1$.\n"
      ]
    },
    {
      "cell_type": "code",
      "metadata": {
        "code_folding": [
          0
        ],
        "cellView": "form",
        "id": "3uMC33S50P1R",
        "outputId": "5f167611-d38d-4387-f6af-4c0c2016ac5b"
      },
      "source": [
        "#@title\n",
        "#Code for generating the solution figure as a function of q1\n",
        "c1min = (xD - L2)/L1\n",
        "c1max = (xD + L2)/L1\n",
        "def q2_up(q1):\n",
        "    c1 = np.cos(q1)\n",
        "    return np.arccos((xD-c1*L1)/L2)-q1\n",
        "def q2_down(q1):\n",
        "    c1 = np.cos(q1)\n",
        "    return -np.arccos((xD-c1*L1)/L2)-q1\n",
        "plt.figure(figsize=(4,4))\n",
        "x = np.linspace(-np.arccos(c1min),np.arccos(c1min),50)\n",
        "plt.title('q2 parameterized by q1')\n",
        "plt.plot(x,q2_up(x),color='r')\n",
        "plt.plot(x,q2_down(x),color='g')\n",
        "plt.xlabel('q1')\n",
        "plt.ylabel('q2')\n",
        "plt.show()"
      ],
      "execution_count": null,
      "outputs": [
        {
          "output_type": "display_data",
          "data": {
            "image/png": "[encoded data removed]",
            "text/plain": [
              "<Figure size 288x288 with 1 Axes>"
            ]
          },
          "metadata": {
            "tags": [],
            "needs_background": "light"
          }
        }
      ]
    },
    {
      "cell_type": "markdown",
      "metadata": {
        "id": "Au8XepYM0P1S"
      },
      "source": [
        "We note that the independent DOF could have also been chosen to be\n",
        "$q_2$. In this case, we must find a solution $q_1$ to:\n",
        "$$s_1 (- s_2 L_2) + c_1 (L_1 + c_2 L_2) - x_D = 0$$ assuming the\n",
        "parenthesized terms are fixed. This type of equation\n",
        "$$a \\sin \\theta + b \\cos \\theta + c = 0$$ has the general solution:\n",
        "$$\\theta = \\pm \\cos^{-1} \\frac{c}{\\sqrt{a^2+b^2}} + atan2(a,b).$$ Hence,\n",
        "replacing this in the above equation, we get the solution for $q_1$:\n",
        "$$q_1 = \\pm \\cos^{-1}\\frac{-x_D}{\\sqrt{L_1^2 + L_2^2 + 2 c_2 L_1 L_2}} + atan2(- s_2 L_2, L_1 + c_2 L_2).$$\n",
        "The inverse cosine only has a solution when\n",
        "$x_D^2 \\leq L_1^2 + L_2^2 + 2 c_2 L_1 L_2$, or in other words,\n",
        "$c_2 \\geq (x_D^2 - L_1^2 - L_2^2)/(2 L_1 L_2)$.\n",
        "\n",
        "In more complex cases, particularly with $n-m \\geq 2$, the domain of\n",
        "valid independent DOFs becomes more geometrically complex and difficult\n",
        "to characterize.\n",
        "\n",
        "### Parallel robots\n",
        "\n",
        "To define the configuration space of parallel mechanisms, it is useful\n",
        "to first define an open, possibly branched chain by first imagining\n",
        "certain loop closure constraints as being broken, and then treating the\n",
        "broken constraints as IK tasks. Then, $n-m$ of the open DOFs may be\n",
        "represented as independent DOFs while the remaining $m$ are treated as\n",
        "dependent DOFs.\n",
        "\n",
        "Some of the joints of the mechanism will be independently *actuated*. It\n",
        "is convenient to choose a convention of independent vs dependent DOFs\n",
        "matching the actuated joints, which are also known as *active* joints,\n",
        "vs non-actuated joints, which are also known as *passive* joints. It is\n",
        "also prudent to design joint stops so that singularities of the passive\n",
        "chain are never reached, because otherwise the mechanism may \"lock up\"\n",
        "or exhibit non-deterministic behavior as singularities are reached."
      ]
    },
    {
      "cell_type": "markdown",
      "metadata": {
        "id": "VY5DDREd0P1T"
      },
      "source": [
        "The Jacobian matrix\n",
        "-------------------\n",
        "\n",
        "The Jacobian matrix is a fundamental concept in robotics that relates\n",
        "joint velocities to task space velocities. It also has uses in\n",
        "estimating the effects of joint positioning errors in terms of workspace\n",
        "accuracy, as well as in numerical IK methods."
      ]
    },
    {
      "cell_type": "markdown",
      "metadata": {
        "id": "4QpgoX6w15l0"
      },
      "source": [
        "### Partial derivative review\r\n",
        "\r\n",
        "The Jacobian uses the concept of partial derivatives, which is a\r\n",
        "generalization of the standard derivative to functions with multiple\r\n",
        "arguments. This section gives a short introduction to partial\r\n",
        "derivatives.\r\n",
        "\r\n",
        "Given a two-argument function $f(x,y)$, the partial derivative with\r\n",
        "respect to $x$, evaluated at $(x,y)$ is denoted\r\n",
        "$\\frac{\\partial f}{\\partial x}(x,y)$. It is defined like the normal\r\n",
        "derivative, but keeping $y$ constant:\r\n",
        "$$\\frac{\\partial f}{\\partial x}(x,y) = \\lim_{\\Delta x \\rightarrow 0} \\frac{f(x+\\Delta x,y) - f(x,y)}{\\Delta x}.$$\r\n",
        "\r\n",
        "This can also be thought of as defining an auxiliary function, keeping\r\n",
        "$y$ constant, and taking the derivative of that:\r\n",
        "$$\\frac{\\partial f}{\\partial x}(x,y) = \\frac{d}{dx} g_y(x)$$ where\r\n",
        "$g_y(x)$ is defined as: $$g_y(x) \\equiv f(x,y)$$\r\n",
        "\r\n",
        "Similarly we can take the partial derivative with respect to $y$:\r\n",
        "$$\\frac{\\partial f}{\\partial y}(x,y) = \\lim_{\\Delta y \\rightarrow 0} \\frac{f(x,y+\\Delta y) - f(x,y)}{\\Delta y} = \\frac{d}{dy}h_x(y)$$\r\n",
        "where $h_x(y) \\equiv f(x,y)$.\r\n",
        "\r\n",
        "In general, the partial derivative of a multi-argument function with\r\n",
        "respect to some argument is calculated by *treating the remaining\r\n",
        "arguments as constant* and simply calculating the regular derivative.\r\n",
        "The differential $\\frac{\\partial f}{\\partial x}$ is the function\r\n",
        "obtained by partial differentiation of $f$ treating all other arguments\r\n",
        "as constants.\r\n",
        "\r\n",
        "Most of the standard derivative rules apply to partial derivatives:\r\n",
        "\r\n",
        "-   Additive:\r\n",
        "    $\\frac{\\partial (f+g)}{\\partial x}(x,y) = \\frac{\\partial f}{\\partial x}(x,y) + \\frac{\\partial g}{\\partial x}(x,y)$\r\n",
        "\r\n",
        "-   Scalar multiplication:\r\n",
        "    $\\frac{\\partial (cf)}{\\partial x}(x,y) = c \\frac{\\partial f}{\\partial x}(x,y)$\r\n",
        "\r\n",
        "-   Multiplicative:\r\n",
        "    $\\frac{\\partial (f(x,y)g(x,y))}{\\partial x} = \\frac{\\partial f(x,y)}{\\partial x} g(x,y) + \\frac{\\partial g(x,y)}{\\partial x}f(x,y)$\r\n",
        "\r\n",
        "There are also generalizations of the chain rule:\r\n",
        "\r\n",
        "-   If $h(x,y) = f(g(x,y))$, then\r\n",
        "    $\\frac{\\partial h(x,y)}{\\partial x} = f^\\prime(g(x,y)) \\frac{\\partial g(x,y)}{\\partial x}$\r\n",
        "\r\n",
        "-   If $h(x,y) = f(g(x),y)$, then\r\n",
        "    $\\frac{\\partial h(x,y)}{\\partial x} = \\frac{\\partial f(g(x),y)}{d g} g^\\prime(x)$\r\n",
        "\r\n",
        "Also if a function is not dependent on some variable, then its partial\r\n",
        "derivative with respect to that variable is nil:\r\n",
        "$$\\frac{\\partial f(y)}{\\partial x} = 0$$"
      ]
    },
    {
      "cell_type": "markdown",
      "metadata": {
        "id": "N7TBAxU817mQ"
      },
      "source": [
        "### Jacobian definition\r\n",
        "\r\n",
        "The Jacobian of an arbitrary vector function $\\mathbf{x} = f(\\mathbf{q})$, with\r\n",
        "$f: \\mathbb{R}^n \\rightarrow \\mathbb{R}^m$ is given as the following\r\n",
        "matrix of *partial derivatives*:"
      ]
    },
    {
      "cell_type": "markdown",
      "metadata": {
        "id": "4jlH0R5b0P1T"
      },
      "source": [
        "$$J(\\mathbf{q}) \\equiv \\frac{\\partial f(\\mathbf{q})}{\\partial \\mathbf{x}} \\equiv \\begin{bmatrix}\n",
        "\\frac{\\partial f_1(\\mathbf{q})}{\\partial q_1} & \\cdots & \\frac{\\partial f_1(\\mathbf{q})}{\\partial q_n} \\\\\n",
        "\\vdots & \\ddots & \\vdots \\\\\n",
        "\\frac{\\partial f_m(\\mathbf{q})}{\\partial q_1} & \\cdots & \\frac{\\partial f_m(\\mathbf{q})}{\\partial q_n} \n",
        "\\end{bmatrix}$$"
      ]
    },
    {
      "cell_type": "markdown",
      "metadata": {
        "id": "adH-7iJK0P1U"
      },
      "source": [
        "where $f$'s component functions are given by the individual $f_i$'s:\n",
        "\n",
        "$$f(\\mathbf{q}) \\equiv \\begin{bmatrix} f_1(\\mathbf{q}) \\\\ \\vdots \\\\ f_m(\\mathbf{q}) \\end{bmatrix}.$$"
      ]
    },
    {
      "cell_type": "markdown",
      "metadata": {
        "id": "StLJ7z2w0P1U"
      },
      "source": [
        "Observe that each of the rows of the Jacobian correspond to each of the\n",
        "component functions, and each column corresponds to derivatives of a\n",
        "single joint coordinate. It is also important to note that the Jacobian\n",
        "is dependent on the configuration.\n"
      ]
    },
    {
      "cell_type": "markdown",
      "metadata": {
        "id": "RDTb4xne2ABP"
      },
      "source": [
        "#### Single joint example\r\n",
        "\r\n",
        "As an example, let us consider a single joint planar robot with its\r\n",
        "joint at the origin, and an end effector at $L_1$ distance away from the\r\n",
        "origin. The world coordinates of the end effector are:\r\n",
        "$$\\mathbf{x}(\\mathbf{q}) = \\begin{bmatrix}{L_1 \\cos q_1} \\\\ {L_1 \\sin q_1} \\end{bmatrix}.$$ \r\n",
        "\r\n",
        "The Jacobian\r\n",
        "of this point is a $2\\times 1$ matrix obtained by taking the derivative\r\n",
        "with respect to each of the joint coordinates, which is just $q_1$ in\r\n",
        "this case.\r\n",
        "$$J(\\mathbf{q}) \\equiv \\frac{\\partial \\mathbf{x}}{\\partial \\mathbf{q}}(\\mathbf{q}) = \\begin{bmatrix}{\\partial (L_1 \\cos q_1) / \\partial q_1} \\\\ {\\partial (L_1 \\sin q_1) / \\partial q_1} \\end{bmatrix} = \\begin{bmatrix}{-L_1 \\sin q_1} \\\\ {L_1 \\cos q_1} \\end{bmatrix}.$$\r\n",
        "\r\n",
        "\r\n",
        "Note that this is perpendicular to the direction from the joint to the\r\n",
        "end effector, with the same magnitude.\r\n",
        "\r\n",
        "The significance of the Jacobian in this case is that *it gives the\r\n",
        "instantaneous velocity of the point* $\\mathbf{x}$, in world coordinates, as\r\n",
        "$q_1$ rotates at 1 rad/s. If $q_1$ rotates at another velocity\r\n",
        "$\\dot{q}_1$ (the dot denotes time derivative), then the end effector\r\n",
        "velocity is given by: $$\\dot{\\mathbf{x}} = J(\\mathbf{q}) \\dot{q}_1.$$ This holds\r\n",
        "as a consequence of the chain rule. Note that this equation only holds\r\n",
        "in the 1 joint case; let us now discuss a more general case."
      ]
    },
    {
      "cell_type": "markdown",
      "metadata": {
        "id": "PZKocZ-L2B-0"
      },
      "source": [
        "#### Two joint example\r\n",
        "\r\n",
        "Now consider the two joint planar arm [described above](#2R-manipulator). The end effector has world position\r\n",
        "$$\\mathbf{x}(\\mathbf{q}) = \\begin{bmatrix}{c_1(L_1 + c_2 L_2) - s_1 s_2 L_2} \\\\ {s_1(L_1 + c_2 L_2) + c_1 s_2 L_2} \\end{bmatrix}.$$\r\n",
        "The first column of the Jacobian is the partial derivative with respect\r\n",
        "to $q_1$, keeping $q_2$ constant:\r\n",
        "$$\\frac{\\partial \\mathbf{x}}{\\partial q_1}(\\mathbf{q}) = \\begin{bmatrix}{-s_1(L_1 + c_2 L_2) - c_1 s_2 L_2} \\\\ {c_1(L_1 + c_2 L_2) - s_1 s_2 L_2} \\end{bmatrix}.$$\r\n",
        "The second column is the partial derivative with respect to $q_2$,\r\n",
        "keeping $q_1$ constant:\r\n",
        "$$\\frac{\\partial \\mathbf{x}}{\\partial q_2}(\\mathbf{q}) = \\begin{bmatrix}{-c_1 s_2 L_2 - s_1 c_2 L_2} \\\\ {- s_1 s_2 L_2 + c_1 c_2 L_2} \\end{bmatrix}.$$\r\n",
        "Overall, the Jacobian matrix is a $2\\times 2$ matrix as follows:\r\n",
        "$$J(\\mathbf{q}) = \\begin{bmatrix}{-s_1(L_1 + c_2 L_2) - c_1 s_2 L_2} & {- c_1 s_2 L_2 - s_1 c_2 L_2} \\\\ {c_1(L_1 + c_2 L_2) - s_1 s_2 L_2} & {-s_1 s_2 L_2 + c_1 c_2 L_2} \\end{bmatrix}.$$\r\n",
        "Observe that the first column is simply a vector perpendicular to\r\n",
        "$\\mathbf{x}$ with the same magnitude. The second column is a bit more\r\n",
        "challenging to interpret, but with a bit of scrutiny it can be seen as a\r\n",
        "vector perpendicular and with the same magnitude as the displacement\r\n",
        "vector from the second joint position to $\\mathbf{x}$.\r\n",
        "\r\n",
        "This means that if $q_1$ were to rotate at velocity $\\dot{q}_1$ while\r\n",
        "$q_2$ is held constant, then the end effector would have instantaneous\r\n",
        "velocity: $$\\dot{q}_1 \\frac{\\partial \\mathbf{x}}{\\partial q_1}(\\mathbf{q}).$$\r\n",
        "Likewise, if $q_2$ were to rotate at velocity $\\dot{q}_2$, and $q_1$\r\n",
        "were to be held constant, then the velocity would be:\r\n",
        "$$\\dot{q}_2 \\frac{\\partial \\mathbf{x}}{\\partial q_2}(\\mathbf{q}).$$ If both were\r\n",
        "to rotate simultaneously, then the velocity would be\r\n",
        "$$\\dot{\\mathbf{x}}(\\mathbf{q}) = \\dot{q}_1 \\frac{\\partial \\mathbf{x}}{\\partial q_1}(\\mathbf{q}) + \\dot{q}_2 \\frac{\\partial \\mathbf{x}}{\\partial q_2}(\\mathbf{q}) = J(\\mathbf{q})\\dot{\\mathbf{q}}.$$\r\n",
        "[Fig. 6](#fig:Jacobian2R) illustrates this concept. "
      ]
    },
    {
      "cell_type": "markdown",
      "metadata": {
        "id": "Hm2nNmqQ0P1X"
      },
      "source": [
        "\n",
        "************\n",
        "\n",
        "![fig:Jacobian2R](https://github.com/krishauser/RoboticSystemsBook/blob/master/figures/modeling/jacobian_2R.png?raw=1)\n",
        "\n",
        "<div class=\"figcaption\"><a name=\"fig:Jacobian2R\">Figure 5</a>.\n",
        "The Jacobian relates joint space velocities to Cartesian velocities.\n",
        "The first column of the Jacobian gives the velocity at which the end\n",
        "effector would move if the first joint moves at unit speed, and the\n",
        "second column gives its velocity if the second joint moves at unit\n",
        "velocity. The linear combination of Jacobian columns, weighted by joint\n",
        "speed, gives the overall Cartesian velocity.</div>\n",
        "\n",
        "************\n",
        "\n",
        "\n",
        "### Formula for arbitrary branched robots\n",
        "\n",
        "In general, using the forward kinematics formula given in Chapter 4:\n",
        "$$T_i(\\mathbf{q}) = T_{p[i]}(\\mathbf{q}) T_{i\\rightarrow p[i]}^{ref} L_{z_i,\\mathbf{a}_i}(q_i)$$\n",
        "we can derive the Jacobian of an end effector point on any link $n$. Let\n",
        "$A(n)$ denote the set of *ancestors* of link $n$, that is, $n$, its\n",
        "parent, its parent's parent, and so on down to the root. Let the task\n",
        "space $\\mathbf{x} = f(\\mathbf{q})$ be given by the position of an end effector on\n",
        "the $n$'th link, and $\\mathbf{x}_n$ are its local coordinates.\n",
        "\n",
        "If $j \\notin A(n)$, then joint $j$ does not affect the end effector. In\n",
        "this case, the $j$'th column of the Jacobian is zero.\n",
        "\n",
        "Otherwise, the $j$'th column of the Jacobian is given by:\n",
        "$$\\frac{\\partial f}{\\partial q_j}(\\mathbf{q}) = T_{p[j]}(\\mathbf{q}) T_{j\\rightarrow p[j]}^{ref} \\frac{d L_{z_j,\\mathbf{a}_j}}{d q_j}(q_j) T_{n\\rightarrow j}(\\mathbf{q}) \\mathbf{x}_n$$\n",
        "Where $T_{n\\rightarrow j}(\\mathbf{q}) = T_j^{-1}(\\mathbf{q}) T_n(\\mathbf{q})$ is the\n",
        "transform from local coordinates on link $n$ to local coordinates on\n",
        "link $j$, at configuration $\\mathbf{q}$. Note that\n",
        "$T_{n\\rightarrow j}(\\mathbf{q})$ only depends on the joint angles of $j$'s\n",
        "descendants, not including $j$.\n",
        "\n",
        "#### Planar robots\n",
        "\n",
        "For 2D revolute joints, we have no joint type nor axis, so the local\n",
        "transform is given as: $$L_{z,\\mathbf{a}}(q) \\equiv R(q) = \n",
        "\\left[\\begin{array}{ccc}\n",
        "\\cos q & -\\sin q & 0 \\\\\n",
        "\\sin q & \\cos q & 0 \\\\\n",
        "0 & 0 & 1\n",
        "\\end{array}\\right]$$ in homogeneous coordinates, and hence the matrix\n",
        "derivative is given by $$\\frac{d}{dq} R(q) = \n",
        "\\left[\\begin{array}{ccc}\n",
        "-\\sin q & -\\cos q & 0 \\\\\n",
        "\\cos q & -\\sin q & 0 \\\\\n",
        "0 & 0 & 0\n",
        "\\end{array}\\right].$$ (Note that the bottom left entry dropped from 1 to\n",
        "0, indicating that the derivative of a position quantity is a\n",
        "directional quantity).\n",
        "\n",
        "A more compact expression of this derivative is as follows:\n",
        "$$\\frac{d}{dq} R(q) = R(q)\n",
        "\\left[\\begin{array}{ccc}\n",
        "0 & -1 & 0 \\\\\n",
        "1 & 0 & 0 \\\\\n",
        "0 & 0 & 0 \n",
        "\\end{array}\\right]$$ and hence we obtain the compact expression for the\n",
        "Jacobian $$\\frac{\\partial f}{\\partial q_j}(\\mathbf{q}) = T_j(\\mathbf{q})\n",
        "\\left[\\begin{array}{ccc}\n",
        "0 & -1 & 0 \\\\\n",
        "1 & 0 & 0 \\\\\n",
        "0 & 0 & 0 \n",
        "\\end{array}\\right]\n",
        "T_{n\\rightarrow j}(\\mathbf{q}) \\mathbf{x}_n.$$ This shows that the Jacobian column\n",
        "corresponding to a revolute joint is perpendicular to the vector from\n",
        "the joint to the end effector (rotated $90^\\circ$ CCW).\n",
        "[Fig. 6](#fig:Jacobian3R) illustrates this principle.\n",
        "\n",
        "\n",
        "*************\n",
        "\n",
        "![fig:Jacobian3R](https://github.com/krishauser/RoboticSystemsBook/blob/master/figures/modeling/jacobian_3R.png?raw=1)\n",
        "\n",
        "<div class=\"figcaption\"><a name=\"fig:Jacobian3R\">Figure 6</a>.\n",
        "The Jacobian of a planar 3R robot. Its columns are determined by\n",
        "taking the perpendicular vector to the displacement vector from the\n",
        "joint center to the end effector. The Jacobian is different for\n",
        "different configurations (a) and (b).\n",
        "</div>\n",
        "\n",
        "*************\n",
        "\n",
        "For a prismatic joint, we have a local transform: $$L_{z,\\mathbf{a}}(q) = \n",
        "\\left[\\begin{array}{ccc}\n",
        "1 & 0 & a_x q \\\\\n",
        "0 & 1 & a_y q \\\\\n",
        "0 & 0 & 1\n",
        "\\end{array}\\right]$$ and hence the derivative is\n",
        "$$\\frac{d}{dq} L_{z,\\mathbf{a}}(q) = \n",
        "\\left[\\begin{array}{ccc}\n",
        "0 & 0 & a_x \\\\\n",
        "0 & 0 & a_y \\\\\n",
        "0 & 0 & 0\n",
        "\\end{array}\\right].$$\n",
        "\n",
        "Since this matrix wipes out the $x$ and $y$ coordinates of whatever\n",
        "homogeneous point it multiplies and replaces it with $(a_x,a_y,0)$, we\n",
        "can express the Jacobian column with the simplified expression\n",
        "$$\\frac{\\partial f}{\\partial q_j}(\\mathbf{q}) = T_j(\\mathbf{q}) \\begin{bmatrix}a_{j,x} \\\\ a_{j,y} \\\\ 0\\end{bmatrix}.$$ "
      ]
    },
    {
      "cell_type": "markdown",
      "metadata": {
        "id": "LNTevkp_0P1Z"
      },
      "source": [
        "Note that since the homogeneous coordinate is 0, the translation of the\n",
        "transform $T_j$ does not affect the result, and hence the Jacobian\n",
        "column is simply the world direction of the joint axis $\\mathbf{a}_j$."
      ]
    },
    {
      "cell_type": "markdown",
      "metadata": {
        "id": "38INzv4v2IT2"
      },
      "source": [
        "### 3D robots\r\n",
        "\r\n",
        "For 3D revolute joints, the local transform is given by an axis-angle\r\n",
        "rotation: $$L_{z,\\mathbf{a}}(q) \\equiv R_{aa}(\\mathbf{a},q)$$ The velocity of a\r\n",
        "point $X$ being rotated along with the rotation frame at unit velocity\r\n",
        "$\\dot{q}$ is given by its cross product with the rotation axis:\r\n",
        "$$\\frac{d}{dt} \\mathbf{x} = \\mathbf{a} \\times \\mathbf{x}.$$ Here $\\mathbf{x}$ is the\r\n",
        "post-rotation coordinates of the point. Since multiplication with a\r\n",
        "rotation matrix $R_{aa}(\\mathbf{a},q)$ converts pre-rotation coordinates to\r\n",
        "post-rotation coordinates, the angular velocity of a point given with\r\n",
        "pre-rotation coordinates $\\mathbf{x}_L$ is given by\r\n",
        "$$\\frac{d}{dt} \\mathbf{x} = \\mathbf{a} \\times R_{aa}(\\mathbf{a},q) \\mathbf{x}_L.$$ Since the\r\n",
        "cross product axis and the rotation axis are the same, Rodrigues'\r\n",
        "formula can be used to switch the order of the cross product:\r\n",
        "$$\\mathbf{a} \\times (R_{aa}(\\mathbf{a},q) \\mathbf{x}_L) =  R_{aa}(\\mathbf{a},q) (\\mathbf{a} \\times \\mathbf{x}_L).$$\r\n",
        "Finally, using the skew-symmetric product notation $\\hat{\\cdot}$ used in\r\n",
        "Chapter 2 we obtain\r\n",
        "$$\\frac{d}{dt} R_{aa}(\\mathbf{a},q) \\mathbf{x}_L = R_{aa}(\\mathbf{a},q) \\hat{\\mathbf{a}} \\mathbf{x}_L$$\r\n",
        "and since this holds for all $\\mathbf{x}_L$, we see that\r\n",
        "$$\\frac{d}{dt} R_{aa}(\\mathbf{a},q) = R_{aa}(\\mathbf{a},q) \\hat{\\mathbf{a}}.$$\r\n",
        "Replacing this in the Jacobian expression and converting to homogeneous\r\n",
        "coordinates, we obtain the simplified expression:\r\n",
        "\r\n",
        "$$\\frac{\\partial f}{\\partial q_j}(\\mathbf{q}) = T_j(\\mathbf{q})\r\n",
        "\\left[\\begin{array}{c|c}\r\n",
        "\\hat{\\mathbf{a}} & 0  \\\\\r\n",
        "\\hline\r\n",
        "0 & 0  \r\n",
        "\\end{array}\\right]\r\n",
        "T_{n\\rightarrow j}(\\mathbf{q}) \\mathbf{x}_n.\r\n",
        "\r\n",
        "\\label{eq:JacobianRevolute3D}\r\n",
        "$$\r\n",
        "\r\n",
        "Another way to interpret this is that\r\n",
        "the $j$'th column of the Jacobian is the cross-product between the axis\r\n",
        "of joint $j$ and the vector pointing from joint $j$ to the end effector\r\n",
        "(both given in world coordinates). To see this, note that the axis in\r\n",
        "world coordinates is $R_j\\mathbf{a} = T_j \\begin{bmatrix} \\mathbf{a} \\\\ 0 \\end{bmatrix}$ and the\r\n",
        "displacement vector is $T_n \\mathbf{x}_n - \\mathbf{t}_j$. Here, $R_j$ is the\r\n",
        "orientation of link $j$, $\\mathbf{t}_j$ is its origin, we have implicitly\r\n",
        "assumed dependence on $\\mathbf{q}$, and we slightly abuse notation to convert\r\n",
        "freely between homogeneous and standard coordinates. The displacement\r\n",
        "vector could also be expressed as\r\n",
        "$R_j T_{n\\rightarrow j} \\mathbf{x}_n + \\mathbf{t}_j - \\mathbf{t}_j = R_j T_{n\\rightarrow j} \\mathbf{x}_n$.\r\n",
        "\r\n",
        "Hence, by the distributive property of the cross-product,\r\n",
        "$$R_j\\mathbf{a} \\times R_j T_{n\\rightarrow j} \\mathbf{x}_n = R_j (\\mathbf{a} \\times T_{n\\rightarrow j} \\mathbf{x}_n) = R_j \\hat{\\mathbf{a}} T_{n \\rightarrow j} \\mathbf{x}_n$$\r\n",
        "which is equivalent to ($\\ref{eq:JacobianRevolute3D}$).\r\n",
        "\r\n",
        "For prismatic joints, a derivation similar to the planar case gives the\r\n",
        "simplified expression:\r\n",
        "$$\\frac{\\partial f}{\\partial q_j}(\\mathbf{q}) = T_j(\\mathbf{q}) \\begin{bmatrix}\\mathbf{a}_j \\\\ \\hline 0 \\end{bmatrix}.$$\r\n",
        "Similar derivations exist for helical and other exotic joint types."
      ]
    },
    {
      "cell_type": "markdown",
      "metadata": {
        "id": "o9DVlHbR3cEB"
      },
      "source": [
        "#### Orientation jacobians\r\n",
        "\r\n",
        "For task spaces that include orientation components, the Jacobian of the\r\n",
        "orientation components can also be computed in a straightforward manner.\r\n",
        "The orientation Jacobian $J_\\theta$ converts joint velocities into the\r\n",
        "angular velocity of the link containing the end effector. In 2D, angular\r\n",
        "velocity is simply a scalar and hence $J_\\theta$ is a $1\\times n$\r\n",
        "matrix. In 3D, angular velocity is a 3D vector, and hence $J_\\theta$ is\r\n",
        "a $3 \\times n$ matrix.\r\n",
        "\r\n",
        "First, any prismatic joints do not affect orientation, and hence the\r\n",
        "columns of the orientation Jacobian corresponding to such joints are\r\n",
        "zero.\r\n",
        "\r\n",
        "For revolute joints in 2D, each joint affects the orientation of the end\r\n",
        "effector equally. Hence, each column of $J_\\theta$ corresponding to a\r\n",
        "revolute joint is 1.\r\n",
        "\r\n",
        "In 3D, an angular velocity vector is a vector $\\boldsymbol{\\omega}$ such that for\r\n",
        "any point $\\mathbf{x}$ expressed in world coordinates but attached to link\r\n",
        "$n$, its instantaneous velocity will be:\r\n",
        "$$\\boldsymbol{\\omega}\\times (\\mathbf{x} - \\mathbf{t}_n) + \\dot{\\mathbf{t}}_n$$ where $\\mathbf{t}_n$\r\n",
        "is the origin of link $n$. Hence, the angular velocity at the end\r\n",
        "effector is simply the angular velocity of link $n$. The angular\r\n",
        "velocity of each revolute joint are summed to obtain the angular\r\n",
        "velocity of the end effector:\r\n",
        "$$\\boldsymbol{\\omega} = \\sum_{j\\text{ is revolute}} J_{\\theta,j}(\\mathbf{q})\\dot{q}_j$$\r\n",
        "Hence the $j$'th column of the Jacobian is:\r\n",
        "$$J_{\\theta,j}(\\mathbf{q}) = T_j(\\mathbf{q}) \\begin{bmatrix}\\mathbf{a}_j \\\\ \\hline 0 \\end{bmatrix}$$ where\r\n",
        "the multiplication orients the local axis to the world coordinate frame.\r\n",
        "\r\n",
        "It is important to note that $\\boldsymbol{\\omega}$ is usually not the derivative\r\n",
        "of a given rotation representation, like Euler angles. Instead, it is\r\n",
        "that an additional transformation is typically necessary to obtain the\r\n",
        "derivative of the orientation representation used in the task coordinate\r\n",
        "$\\mathbf{x}$."
      ]
    },
    {
      "cell_type": "markdown",
      "metadata": {
        "id": "eb_gURhJ2hVv"
      },
      "source": [
        "### Significance and interpretation"
      ]
    },
    {
      "cell_type": "markdown",
      "metadata": {
        "id": "BTxbmexe2jWa"
      },
      "source": [
        "#### Relating joint and task velocities\r\n",
        "\r\n",
        "The general formula relating joint space velocities to task space\r\n",
        "velocities is: $$\\dot{\\mathbf{x}} = J(\\mathbf{q}) \\dot{\\mathbf{q}}$$ where $J$ is the\r\n",
        "Jacobian of the task space map. In other words, the $i$'th column of $J$\r\n",
        "gives the velocity at which the end effector would move if the $i$'th\r\n",
        "joint were to move at unit velocity."
      ]
    },
    {
      "cell_type": "markdown",
      "metadata": {
        "id": "GYydJ2NN2lCy"
      },
      "source": [
        "#### As a Taylor expansion\r\n",
        "\r\n",
        "Another interpretation of the Jacobian is as an $n$-dimensional analogue\r\n",
        "of Taylor expansion. Recall that the 1st order Taylor expansion of a\r\n",
        "normal 1-D, differentiable function is the linear approximation:\r\n",
        "$$f(x + \\Delta x) = f(x) + f^\\prime(x)\\cdot \\Delta x + O(\\Delta x^2)$$\r\n",
        "where $O(h^2)$ denotes a term smaller than a constant times $h^2$ as $h$\r\n",
        "decreases asymptotically to 0. This means that a function is\r\n",
        "increasingly better approximated with the line\r\n",
        "$y = f(x) + \\Delta x f^\\prime(x)$ as $\\Delta x$ shrinks toward 0.\r\n",
        "\r\n",
        "The Jacobian appears in the $n$-dimensional Taylor expansion of a\r\n",
        "multidimensional differentiable function:\r\n",
        "$$f(\\mathbf{x} + \\Delta \\mathbf{x}) = f(\\mathbf{x}) + J(\\mathbf{x}) \\Delta \\mathbf{x} + O(\\|\\Delta \\mathbf{x}\\|^2).$$\r\n",
        "This states that an arbitrary function is well-approximated as a\r\n",
        "hyperplane $$\\mathbf{y} = f(\\mathbf{x}) + J(\\mathbf{x}) \\Delta \\mathbf{x}$$ as\r\n",
        "$\\Delta \\mathbf{x}$ shrinks toward 0.\r\n"
      ]
    },
    {
      "cell_type": "markdown",
      "metadata": {
        "id": "C1nq96lb2Mkp"
      },
      "source": [
        "#### Use in error propagation\r\n",
        "\r\n",
        "Another important use of the Jacobian is in error propagation. Suppose\r\n",
        "that at a robot has configuration $\\mathbf{q}$ but with a joint space error\r\n",
        "$\\boldsymbol{\\epsilon}$. Then the task-space error\r\n",
        "$$f(\\mathbf{q}+\\boldsymbol{\\epsilon}) - f(\\mathbf{q})$$ is approximated by the Taylor\r\n",
        "expansion\r\n",
        "$$f(\\mathbf{q}+\\boldsymbol{\\epsilon}) - f(\\mathbf{q}) \\approx J(\\mathbf{q}) \\boldsymbol{\\epsilon}$$ if\r\n",
        "$\\epsilon$ is small. In terms of absolute magnitude, the task space\r\n",
        "error is $\\| J(\\mathbf{q}) \\boldsymbol{\\epsilon}\\|$. We can also bound the error:\r\n",
        "$$\\| J(\\mathbf{q}) \\boldsymbol{\\epsilon}\\| \\leq \\sum_{i=1}^n |\\epsilon_{i}| \\|J_i(\\mathbf{q})\\|$$\r\n",
        "where $J_i$ is the $i$'th column of the Jacobian. As a result if joint\r\n",
        "$i$ had an error, the norm of $J_i$ approximates the corresponding error\r\n",
        "in task space.\r\n",
        "\r\n",
        "In general, in $n$R planar robots, the $i$'th column of the Jacobian is\r\n",
        "simply the vector from the $i$'th joint to the end effector, rotated by\r\n",
        "$90^\\circ$ CCW. This has the significance that if the end effector is\r\n",
        "farther from revolute joint $i$ than joint $j$, then the magnitude of\r\n",
        "the $i$'th column is greater than the magnitude of the $j$'th column.\r\n",
        "Usually, this means that errors and movements of joints close to the\r\n",
        "robot's base have a larger effect than joints closer to the end\r\n",
        "effector.\r\n"
      ]
    },
    {
      "cell_type": "markdown",
      "metadata": {
        "id": "mcq_tNvB2OCT"
      },
      "source": [
        "### Manipulability and singularity identification\r\n",
        "\r\n",
        "TODO\r\n"
      ]
    },
    {
      "cell_type": "markdown",
      "metadata": {
        "id": "_-8bqVXH2Pjw"
      },
      "source": [
        "### Null-space motion computation\r\n",
        "\r\n",
        "TODO "
      ]
    },
    {
      "cell_type": "markdown",
      "metadata": {
        "id": "xV57-a8O0P1b"
      },
      "source": [
        "\n",
        "Numerical IK\n",
        "------------\n",
        "\n",
        "Numerical IK methods are highly general techniques that can accommodate\n",
        "arbitrary robot mechanisms and task spaces, without any need for\n",
        "mechanism-specific mathematics besides forward kinematics and Jacobian\n",
        "computations. As a result they are preferable for use in software\n",
        "packages that are compatible with multiple robot types. However, they\n",
        "have a few drawbacks: they involve much more computation than analytical\n",
        "approaches, only provide point solutions, and may fall prey to local\n",
        "minima. Robotics practitioners must be aware of these drawbacks when\n",
        "building systems based on numerical IK techniques.\n",
        "\n",
        "All numerical approaches share a common iterative structure. First, let\n",
        "$f(\\mathbf{q})$ denote the task space error (rather than task coordinate).\n",
        "These methods are given a seed configuration $\\mathbf{q}_0$, and iteratively\n",
        "improve it to obtain a sequence $\\mathbf{q}_1,\\mathbf{q}_2,\\ldots,\\mathbf{q}_k$ with\n",
        "decreasing error values $\\|f(\\mathbf{q}_i)\\|$. The iteration can terminate\n",
        "when the error decreases below some threshold, or when $i$ exceeds an\n",
        "iteration limit $k$. However, they differ in their approach for\n",
        "calculating these iterates."
      ]
    },
    {
      "cell_type": "markdown",
      "metadata": {
        "id": "oTJ6FtbS5G-Z"
      },
      "source": [
        "### Cyclic Coordinate Descent\r\n",
        "\r\n",
        "Cyclic Coordinate Descent (CCD) is an appealing numerical method that\r\n",
        "only uses geometric reasoning to derive subsequent iterates. The idea is\r\n",
        "to move each joint independently so that it minimizes error between the\r\n",
        "end effector and the target (coordinate descent), and iterate through\r\n",
        "all the joints repeatedly (making it cyclic).\r\n",
        "\r\n",
        "*********************\r\n",
        "\r\n",
        "<a name=\"alg:CCD\">**Algorithm CCD**</a>\r\n",
        "1. **for** $i=1,\\ldots,k$ **do**\r\n",
        "2. &nbsp;&nbsp;&nbsp;$\\mathbf{q}_i \\gets \\mathbf{q}_{i-1}$\r\n",
        "3. &nbsp;&nbsp;&nbsp;**for** all joints $j = 1,...,n$ $do$\r\n",
        "4. &nbsp;&nbsp;&nbsp; &nbsp;&nbsp;&nbsp;Compute $q_j^* = \\arg \\min_{q_j} \\|f(\\mathbf{q}_i)\\|$\r\n",
        "5. &nbsp;&nbsp;&nbsp; &nbsp;&nbsp;&nbsp;Set $\\mathbf{q}_{i,j} \\gets q_j^*$\r\n",
        "6. **return** $\\mathbf{q}_k$\r\n",
        "\r\n",
        "*********************\r\n",
        "\r\n",
        "CCD iterates by performing $k$ passes through the joints as listed in\r\n",
        "[Algorithm CCD](#alg:CCD). On each pass, it loops through the $n$ joints, and\r\n",
        "modifies each joint $j$ assuming the rest of the robot is fixed.\r\n",
        "Specifically, line 4 finds the value that minimizes the error keeping\r\n",
        "the rest of $\\mathbf{q}_i$ constant, and this is updated in $\\mathbf{q}_i$ in line 5.\r\n",
        "This procedure iterates until $N$ passes have been made, or\r\n",
        "convergence has been reached. Note that the error $\\|f(\\mathbf{q}_i)\\|$ will\r\n",
        "never increase. However, it may terminate without convergence in the\r\n",
        "case that a singularity is reached.\r\n",
        "\r\n",
        "To make CCD converge quickly, the single-joint minimization in Line 4\r\n",
        "should be fast. In many cases there are closed-form solutions to this\r\n",
        "problem. For 2D robots with positioning tasks, this consists of finding\r\n",
        "the angle $\\theta_j$ between the $j$'th joint and the end effector and\r\n",
        "the angle $\\theta_j^\\prime$ between the $j$'th joint and the target.\r\n",
        "Then $q_j$ is displaced from its current value by\r\n",
        "$\\theta_j^\\prime - \\theta_j$.\r\n",
        "\r\n",
        "The figure below shows the result of CCD for a 2R manipulator reaching the point (1,0.5).  The first plot shows the sequence of configurations starting from $q_0=(0,0)$, the second shows the end effector point for the sequence, and the third shows the error at each iteration.\r\n"
      ]
    },
    {
      "cell_type": "code",
      "metadata": {
        "code_folding": [
          0
        ],
        "cellView": "form",
        "id": "Sn5u3SFk0P1c",
        "outputId": "886dea35-2107-4a4e-9446-3a8114beaf6d"
      },
      "source": [
        "#@title\n",
        "#Code for generating the CCD figure\n",
        "xD = np.array([1.,0.5])\n",
        "q0 = np.array([0.,0.])\n",
        "L = [1,1]\n",
        "def fk_all(q):\n",
        "    theta = 0\n",
        "    res = []\n",
        "    joint = np.array([0.,0.])\n",
        "    for i in range(len(L)):\n",
        "        theta += q[i]\n",
        "        ci = np.cos(theta)\n",
        "        si = np.sin(theta)\n",
        "        joint = joint + np.array([ci*L[i],si*L[i]])\n",
        "        res.append(joint)\n",
        "    return res\n",
        "def error(q):\n",
        "    return np.linalg.norm(fk_all(q)[-1] - xD)\n",
        "def CCD_i(q,i):\n",
        "    xs = fk_all(q)\n",
        "    ee = xs[-1]\n",
        "    #joint positions\n",
        "    js = [np.array([0,0])] + xs[:-1]\n",
        "    jointi = js[i]\n",
        "    theta_target = np.arctan2(xD[1]-jointi[1],xD[0]-jointi[0])\n",
        "    theta_ee = np.arctan2(ee[1]-jointi[1],ee[0]-jointi[0])\n",
        "    dtheta = theta_target - theta_ee\n",
        "    qnext = np.copy(q)\n",
        "    qnext[i] += dtheta\n",
        "    return qnext\n",
        "iterates = [q0]\n",
        "for i in range(10):\n",
        "    iterates.append(CCD_i(iterates[-1],1))\n",
        "    iterates.append(CCD_i(iterates[-1],0))\n",
        "e = [error(q) for q in iterates]\n",
        "xy = [fk_all(q)[-1] for q in iterates]\n",
        "iterates = np.vstack(iterates)\n",
        "fig = plt.figure(figsize=(12,4))\n",
        "ax1 = fig.add_subplot(131)\n",
        "ax1.plot(iterates[:,0],iterates[:,1],color='k',zorder=1)\n",
        "ax1.scatter(iterates[:,0],iterates[:,1],c=range(len(iterates)),zorder=2)\n",
        "ax1.set_xlabel('q1')\n",
        "ax1.set_ylabel('q2')\n",
        "ax2 = fig.add_subplot(132)\n",
        "ax2.plot([v[0] for v in xy],[v[1] for v in xy],zorder=1)\n",
        "ax2.scatter([xD[0]],[xD[1]],color='r',zorder=2)\n",
        "ax2.set_xlabel('x')\n",
        "ax2.set_ylabel('y')\n",
        "ax3 = fig.add_subplot(133)\n",
        "ax3.semilogy(range(len(e)),e)\n",
        "ax3.set_xlabel(\"Iteration\")\n",
        "ax3.set_ylabel(\"Error\")\n",
        "fig.tight_layout()\n",
        "plt.show()"
      ],
      "execution_count": null,
      "outputs": [
        {
          "output_type": "display_data",
          "data": {
            "image/png": "[encoded data removed]",
            "text/plain": [
              "<Figure size 864x288 with 3 Axes>"
            ]
          },
          "metadata": {
            "tags": [],
            "needs_background": "light"
          }
        }
      ]
    },
    {
      "cell_type": "markdown",
      "metadata": {
        "id": "HlHKVkhg0P1g"
      },
      "source": [
        "In 3D, the situation is similar, except the\n",
        "angles are calculated on the plane orthogonal to the joint axis. When\n",
        "combined position and orientation tasks are considered, the derivation\n",
        "of the optimal solution is more difficult because the solution must\n",
        "trade off between the two competing objectives. We refer the interested\n",
        "reader to external readings for more details.\n",
        "\n",
        "CCD in general is not as sensitive to the initial seed as other methods,\n",
        "and reduces error quickly in the first few iterations. However, it may\n",
        "be slow in converging to tight tolerances. The reason is that certain\n",
        "end effector motions can only be attained by a coordinated, simultaneous\n",
        "motion of two or more joints, and individual moves along either\n",
        "coordinate axis increases error (the error function contains a diagonal\n",
        "\"valley\").  An example of this is shown in the below figure, where a 4R serial manipulator with unit lengths\n",
        "is used to get toward the point (4,0).  The start configuration is $q=(\\pi/2,\\pi/2,\\pi/2,\\pi/2)$, and the solution\n",
        "is straightened out, $q=(0,0,0,0)$.  Even after 40 iterations, the method still has a relatively large error.\n",
        "\n",
        "Due to this behavior, CCD is often used as a precomputation step to\n",
        "get reasonably close to the target, and then some other numerical\n",
        "procedure is used for the final steps.\n"
      ]
    },
    {
      "cell_type": "code",
      "metadata": {
        "code_folding": [
          0
        ],
        "cellView": "form",
        "id": "FK98q2HF0P1g",
        "outputId": "804de607-5cc3-49af-a5fa-dfa955578315"
      },
      "source": [
        "#@title\n",
        "#Code for generating the 4R CCD figure\n",
        "q0 = np.array([math.pi/2,math.pi/2,math.pi/2,math.pi/2])\n",
        "xD = np.array([4,0])\n",
        "L = [1,1,1,1]\n",
        "iterates = [q0]\n",
        "for i in range(10):\n",
        "    for k in range(3,-1,-1):\n",
        "        iterates.append(CCD_i(iterates[-1],k))\n",
        "e = [error(q) for q in iterates]\n",
        "xy = [fk_all(q)[-1] for q in iterates]\n",
        "iterates = np.vstack(iterates)\n",
        "fig = plt.figure(figsize=(8,4))\n",
        "ax2 = fig.add_subplot(121)\n",
        "ax2.plot([v[0] for v in xy],[v[1] for v in xy],zorder=1)\n",
        "ax2.scatter([xD[0]],[xD[1]],color='r',zorder=2)\n",
        "ax2.set_xlabel('x')\n",
        "ax2.set_ylabel('y')\n",
        "ax3 = fig.add_subplot(122)\n",
        "ax3.semilogy(range(len(e)),e)\n",
        "ax3.set_xlabel(\"Iteration\")\n",
        "ax3.set_ylabel(\"Error\")\n",
        "ax3.set_ylim(1e-6,10)\n",
        "fig.tight_layout()\n",
        "plt.show()"
      ],
      "execution_count": null,
      "outputs": [
        {
          "output_type": "display_data",
          "data": {
            "image/png": "[encoded data removed]",
            "text/plain": [
              "<Figure size 576x288 with 2 Axes>"
            ]
          },
          "metadata": {
            "tags": [],
            "needs_background": "light"
          }
        }
      ]
    },
    {
      "cell_type": "markdown",
      "metadata": {
        "id": "V2RzxVw-0P1i"
      },
      "source": [
        "### Root-finding methods\n",
        "\n",
        "The class of root-finding methods attempt to solve for a zero of the\n",
        "error function $f(\\mathbf{q})=0$ using iterative solutions of the 1st Taylor\n",
        "expansion. In particular, we will discuss the Newton-Raphson method, a\n",
        "multi-dimensional analogue of Newton's method in 1D."
      ]
    },
    {
      "cell_type": "markdown",
      "metadata": {
        "id": "qDiKpiiE4_BD"
      },
      "source": [
        "#### Derivation from Taylor expansion\r\n",
        "\r\n",
        "For a 1D function $f(x)$, Newton's method repeatedly approximates the\r\n",
        "curve at an iterate $x_i$ as a line through $(x_i,f(x_i))$ using Taylor\r\n",
        "expansion, and solves for the intersection of the line and the $x$ axis.\r\n",
        "The iteration in Newton's method sets\r\n",
        "$$x_{i+1} = x_i - f(x_i) / f^\\prime(x_i).$$ If the line is locally a\r\n",
        "good fit to $f$, then the next iteration gets very close to the root. In\r\n",
        "this case we say that the method *converges*. In fact, it can be proven\r\n",
        "to obtain a quadratic order of convergence for most \"well-behaved\"\r\n",
        "functions.\r\n",
        "\r\n",
        "In the multidimensional case, we seek the next iterate\r\n",
        "$\\mathbf{q}_{i+1} = \\mathbf{q}_i + \\Delta \\mathbf{q}_i$ to solve the following Taylor\r\n",
        "expansion: $$\\label{eq:NewtonRaphson}\r\n",
        "0 = f(\\mathbf{q}_i) + J(\\mathbf{q}_i) \\Delta \\mathbf{q}_i.$$ In the nonredundant case\r\n",
        "where $n = m$, the Jacobian is square and this system of linear\r\n",
        "equations can be solved via matrix inversion as long as $J(\\mathbf{q}_i)$ is\r\n",
        "invertible. The matrix is invertible as long as the robot is not at a\r\n",
        "singularity.\r\n",
        "\r\n",
        "However, in the redundant $n > m$ case, the Jacobian is not even square.\r\n",
        "Here there is a linear subspace of values of $\\Delta \\mathbf{q}_i$ that\r\n",
        "satisfy this equation. Luckily there is generalization of the matrix\r\n",
        "inverse known as the *pseudoinverse* that allows for solving for a\r\n",
        "unique value of $\\Delta \\mathbf{q}_i$ that not only\r\n",
        "solves ($\\ref{eq:NewtonRaphson}$) but also minimizes the amount of deviation\r\n",
        "from the previous iterate. See\r\n",
        "[Appendix A.1](LinearAlgebra.ipynb#Matrix-pseudoinverse) for more information. The pseudoinverse\r\n",
        "solution $\\Delta \\mathbf{q}_i = -J(\\mathbf{q}_i)^+ f(\\mathbf{q}_i)$ is the solution\r\n",
        "that minimizes the joint space deviation $\\| \\Delta \\mathbf{q}_i \\|$.\r\n",
        "\r\n",
        "The below figures show how quickly Newton-Raphson finds a very accurate solution for the 4R manipulator that CCD had trouble with above.  Within 8 iterations the error is less than 1/1000 units, and in 15 iterations the error is approximately 10<sup>-7</sup> units."
      ]
    },
    {
      "cell_type": "code",
      "metadata": {
        "code_folding": [
          0
        ],
        "cellView": "form",
        "id": "0UNaIiu70P1i",
        "outputId": "3e4ab06d-a04a-4a4f-b10e-fde3f2668917"
      },
      "source": [
        "#@title\n",
        "#Code for the Newton-Raphson example \n",
        "\n",
        "q0 = np.array([math.pi/2,math.pi/2,math.pi/2,math.pi/2])\n",
        "\n",
        "def fk_jac(q):\n",
        "    xs = fk_all(q)\n",
        "    js = [np.array([0.,0.])] + xs[:-1]\n",
        "    cols = []\n",
        "    for i in range(len(L)):\n",
        "        d = xD - js[i]\n",
        "        cols.append([-d[1],d[0]])\n",
        "    return np.array(cols).T\n",
        "\n",
        "def basic_newton(q0,N):\n",
        "    #uses standard pseudoinverse to determine newton step\n",
        "    trace = [q0]\n",
        "    for i in range(N):\n",
        "        q = trace[-1]\n",
        "        J = np.linalg.pinv(fk_jac(q))\n",
        "        f = fk_all(q)[-1] - xD\n",
        "        dq = -np.dot(J,f)\n",
        "        qnext = q+dq\n",
        "        trace.append(qnext)\n",
        "    return trace\n",
        "\n",
        "trace = basic_newton(q0,20)\n",
        "xy = [fk_all(q)[-1] for q in trace]\n",
        "err = [error(q) for q in trace]\n",
        "fig = plt.figure(figsize=(8,4))\n",
        "ax1 = fig.add_subplot(121)\n",
        "ax1.plot([v[0] for v in xy],[v[1] for v in xy])\n",
        "ax1.scatter([xD[0]],[xD[1]],color='r',zorder=2)\n",
        "ax1.set_xlabel('x')\n",
        "ax1.set_ylabel('y')\n",
        "ax1.axis('equal')\n",
        "ax2 = fig.add_subplot(122)\n",
        "ax2.semilogy(range(len(err)),err)\n",
        "ax2.set_xlabel('Iterations')\n",
        "ax2.set_ylabel('Error')\n",
        "fig.tight_layout()\n",
        "plt.show()"
      ],
      "execution_count": null,
      "outputs": [
        {
          "output_type": "display_data",
          "data": {
            "image/png": "[encoded data removed]",
            "text/plain": [
              "<Figure size 576x288 with 2 Axes>"
            ]
          },
          "metadata": {
            "tags": [],
            "needs_background": "light"
          }
        }
      ]
    },
    {
      "cell_type": "markdown",
      "metadata": {
        "id": "4xzDuU6M0P1j"
      },
      "source": [
        "There is also a variant of the pseudoinverse called the *weighted\n",
        "pseudoinverse* in which the solution does not minimize $\\| x \\|$ but\n",
        "rather minimizes a weighted norm $x^T W x$ where $W$ is a symmetric\n",
        "weight matrix. In the context of IK, $W$ is usually a diagonal matrix\n",
        "that weights the relative movement of each joint, with higher weights\n",
        "penalizing larger movements. \n",
        "\n",
        "#### Step direction and size, divergence\n",
        "\n",
        "In total, the Newton-Raphson method chooses the step direction as\n",
        "follows: $$\\label{eq:NewtonRaphsonStep}\n",
        "\\Delta \\mathbf{q}_i = - J^+(\\mathbf{q}_i) f(\\mathbf{q}_i)$$\n",
        "\n",
        "Unfortunately, Newton's method does not always converge if the initial\n",
        "guess is too far from a root. The sequence of iterates may oscillate or\n",
        "even diverge toward infinity. The step size may also become huge as the\n",
        "robot approaches a singularity, where taking the inverse effectively approaches\n",
        "dividing by zero. \n",
        "\n",
        "In the following example, the 4R robot is asked to reach the point (2,0.001) from the outstretched configuration $q=(0,0,0,0)$.  Since the robot starts at a singularity, the initial step size is huge!  It moves over 1,000 rad, which almost certainly would not be a preferred solution."
      ]
    },
    {
      "cell_type": "code",
      "metadata": {
        "code_folding": [
          0
        ],
        "cellView": "form",
        "id": "EC4TqL-u0P1j",
        "outputId": "49bf7eb3-efb0-48e8-a2fb-c89a121d80d8"
      },
      "source": [
        "#@title\n",
        "#Code for the large step size Newton-Raphson example\n",
        "\n",
        "xD = np.array([2.0,0.001])\n",
        "q0 = np.array([0,0,0,0])\n",
        "\n",
        "trace = basic_newton(q0,10)\n",
        "xy = [fk_all(q)[-1] for q in trace]\n",
        "err = [error(q) for q in trace]\n",
        "fig = plt.figure(figsize=(12,4))\n",
        "ax1 = fig.add_subplot(131)\n",
        "ax1.plot(range(1,len(trace)),[np.linalg.norm(trace[i]-trace[i-1]) for i in range(1,len(trace))])\n",
        "ax1.set_ylabel('Step size')\n",
        "ax1.set_xlabel('Iteration')\n",
        "ax2 = fig.add_subplot(132)\n",
        "ax2.plot([v[0] for v in xy],[v[1] for v in xy])\n",
        "ax2.scatter([xD[0]],[xD[1]],color='r',zorder=2)\n",
        "ax2.set_xlabel('x')\n",
        "ax2.set_ylabel('y')\n",
        "ax2.axis('equal')\n",
        "ax3 = fig.add_subplot(133)\n",
        "ax3.semilogy(range(len(err)),err)\n",
        "ax3.set_xlabel('Iterations')\n",
        "ax3.set_ylabel('Error')\n",
        "fig.tight_layout()\n",
        "plt.show()"
      ],
      "execution_count": null,
      "outputs": [
        {
          "output_type": "display_data",
          "data": {
            "image/png": "[encoded data removed]",
            "text/plain": [
              "<Figure size 864x288 with 3 Axes>"
            ]
          },
          "metadata": {
            "tags": [],
            "needs_background": "light"
          }
        }
      ]
    },
    {
      "cell_type": "markdown",
      "metadata": {
        "id": "tPlIPh3n0P1k"
      },
      "source": [
        "There are multiple ways of keeping the step size small. One\n",
        "straightforward method is known as a line search , in which the entire\n",
        "step $\\Delta \\mathbf{q}_i$ is not taken, but rather a scaled step\n",
        "$$\\mathbf{q}_{i+1} = \\mathbf{q}_i + \\alpha_i \\Delta \\mathbf{q}_i$$ is taken, with\n",
        "$\\alpha_i > 0$ a parameter chosen at each step. The step size is usually\n",
        "taken to obtain a sufficient decrease in the error function value. One\n",
        "simple way of doing this is to start with some value of $\\alpha_i$, and\n",
        "if it increases the error function value, then to scale it by some\n",
        "number $< 1$. This repeats until a suitable step size is found. A\n",
        "decrease will be eventually found as $\\alpha_i$, unless the problem is\n",
        "at a local minimum, or a numerical error has occurred.\n",
        "\n",
        "Another method is to penalize steps that are too large in the\n",
        "pseudoinverse itself, which is known as a *damped pseudoinverse* method\n",
        ". In this method, the step size is allowed to deviate from solving the\n",
        "root finding problem by instead minimizing the regularized least squares\n",
        "function:\n",
        "$$\\min_{\\Delta \\mathbf{q}} \\| f(\\mathbf{q}) + J(\\mathbf{q})\\Delta \\mathbf{q} \\|^2 + \\gamma^2 \\| \\Delta \\mathbf{q} \\|^2.$$\n",
        "The $\\gamma$ term affects how much the step length is penalized compared\n",
        "to the error term. It can be shown that the result is simply\n",
        "$$J^+_\\gamma = V (\\Sigma + \\gamma I)^{-1} U^T$$ where $U \\Sigma V^T$ is\n",
        "the SVD of $J(\\mathbf{q})$.\n",
        "\n",
        "As the figure below shows, the damped pseudoinverse regulates the step size more strongly as $\\gamma$ increases.  However, this comes at a cost of a slower convergence rate.  Adding a line search is extremely helpful, as the initial step size is not too large and the error is guaranteed not to increase on each step.\n"
      ]
    },
    {
      "cell_type": "code",
      "metadata": {
        "code_folding": [
          0
        ],
        "cellView": "form",
        "id": "mYMQG62p0P1k",
        "outputId": "41029699-6814-4afc-bdf7-9d172c8dd7ac"
      },
      "source": [
        "#@title\n",
        "#Code for the damped pseudoinverse + line search figures\n",
        "\n",
        "def damped_pinv(A,gamma):\n",
        "    u,s,vh = np.linalg.svd(A)\n",
        "    #only take the first K rows\n",
        "    vh = vh[:len(s),:]\n",
        "    s += np.array([gamma]*len(s))\n",
        "    sinv = np.divide(1.0,s)\n",
        "    return np.dot(np.dot(vh.T,np.diag(sinv)),u.T)\n",
        "\n",
        "def damped_newton(q0,N,gamma):\n",
        "    #uses damped pseudoinverse to determine newton step\n",
        "    trace = [q0]\n",
        "    for i in range(N):\n",
        "        q = trace[-1]\n",
        "        J = damped_pinv(fk_jac(q),gamma)\n",
        "        f = fk_all(q)[-1] - xD\n",
        "        dq = -np.dot(J,f)\n",
        "        qnext = q+dq\n",
        "        trace.append(qnext)\n",
        "    return trace\n",
        "\n",
        "def damped_newton_linesearch(q0,N,gamma):\n",
        "    #uses damped pseudoinverse and simple line search with bisection to determine newton step\n",
        "    trace = [q0]\n",
        "    for i in range(N):\n",
        "        q = trace[-1]\n",
        "        J = damped_pinv(fk_jac(q),gamma)\n",
        "        f = fk_all(q)[-1] - xD\n",
        "        dq = -np.dot(J,f)\n",
        "        alpha = 1.0\n",
        "        f0 = np.dot(f,f)\n",
        "        while alpha > 1e-6:\n",
        "            qnext = q+alpha*dq\n",
        "            f = fk_all(qnext)[-1] - xD\n",
        "            fnext = np.dot(f,f)\n",
        "            if fnext < f0:\n",
        "                break\n",
        "            else:\n",
        "                alpha *= 0.5\n",
        "        trace.append(qnext)\n",
        "    return trace\n",
        "\n",
        "fig = plt.figure(figsize=(12,4))\n",
        "ax1 = fig.add_subplot(131)\n",
        "ax2 = fig.add_subplot(132)\n",
        "ax3 = fig.add_subplot(133)\n",
        "\n",
        "N=20\n",
        "gammas = [1,0.1,0.01,0.001]\n",
        "for gamma in gammas:\n",
        "    label = '$\\gamma$='+str(gamma)\n",
        "    trace = damped_newton(q0,N,gamma)\n",
        "    xy = [fk_all(q)[-1] for q in trace]\n",
        "    err = [error(q) for q in trace]\n",
        "    ax1.plot(range(1,len(trace)),[np.linalg.norm(trace[i]-trace[i-1]) for i in range(1,len(trace))],label=label)\n",
        "    ax2.plot([v[0] for v in xy],[v[1] for v in xy])\n",
        "    ax2.scatter([xD[0]],[xD[1]],color='r',zorder=2)\n",
        "    ax3.semilogy(range(len(err)),err)\n",
        "label = '$\\gamma$=0.001 + linesearch'\n",
        "trace = damped_newton_linesearch(q0,N,0.001)\n",
        "xy = [fk_all(q)[-1] for q in trace]\n",
        "err = [error(q) for q in trace]\n",
        "ax1.plot(range(1,len(trace)),[np.linalg.norm(trace[i]-trace[i-1]) for i in range(1,len(trace))],label=label)\n",
        "ax2.plot([v[0] for v in xy],[v[1] for v in xy])\n",
        "ax2.scatter([xD[0]],[xD[1]],color='r',zorder=2)\n",
        "ax3.semilogy(range(len(err)),err)   \n",
        "\n",
        "ax1.set_ylabel('Step size')\n",
        "ax1.set_xlabel('Iteration')\n",
        "ax1.legend()\n",
        "ax2.set_xlabel('x')\n",
        "ax2.set_ylabel('y')\n",
        "ax2.axis('equal')\n",
        "ax3.set_xlabel('Iterations')\n",
        "ax3.set_ylabel('Error')\n",
        "\n",
        "fig.tight_layout()\n",
        "plt.show()"
      ],
      "execution_count": null,
      "outputs": [
        {
          "output_type": "display_data",
          "data": {
            "image/png": "[encoded data removed]",
            "text/plain": [
              "<Figure size 864x288 with 3 Axes>"
            ]
          },
          "metadata": {
            "tags": [],
            "needs_background": "light"
          }
        }
      ]
    },
    {
      "cell_type": "markdown",
      "metadata": {
        "id": "mgvTMQsd0P1l"
      },
      "source": [
        "### Minimization methods\n",
        "\n",
        "Minimization methods attempt to minimize the error function\n",
        "$\\| f(\\mathbf{q}) \\|$ (usually expressed as minimizing squared error\n",
        "$\\| f(\\mathbf{q}) \\|^2$ for ease of computation). They are similar to\n",
        "root-finding methods, but produce more \"reasonable\" results when a\n",
        "solution does not exist, since the result should be as close as possible\n",
        "to attaining the target task. The simplest method is *gradient descent*\n",
        "but higher-order methods are also available as described in\n",
        "[Appendix B.2](Optimization.ipynb#Gradient-descent).\n",
        "\n",
        "### Incorporating other constraints\n",
        "\n",
        "Soft preferences, such as minimizing $g(\\mathbf{q})$ can designate other\n",
        "desired criteria to be achieved in redundant systems. In minimization\n",
        "methods, preferences can be formulated by augmenting the objective\n",
        "function with a small cost term: $\\|f(\\mathbf{q})\\|^2 + \\epsilon g(\\mathbf{q})$.\n",
        "The drawback of this approach is that if $\\epsilon$ is too large, the\n",
        "optimum of the augmented objective will no longer meet the task\n",
        "constraint, but if it is too small then it will not significantly affect\n",
        "the descent direction. In root finding methods, the direction of each\n",
        "step can be optimized in the null space of the task Jacobian to move in\n",
        "the gradient descent direction $-\\nabla g(\\mathbf{q})$ while also respecting\n",
        "the constraint. Specifically, the null space projection is given by\n",
        "$-(I - J^+ J ) \\nabla g(\\mathbf{q})$ which can be added onto the step\n",
        "direction (with some scaling factor).\n",
        "\n",
        "The easiest type of hard constraint to incorporate is joint limits,\n",
        "where each joint $q_i$ is limited to the range $[a_i,b_i]$. In numerical\n",
        "methods each iterate can be limited to the hyper-box\n",
        "$[a_1,b_1] \\times \\cdots \\times [a_n,b_n]$ simply by projecting each\n",
        "joint value into its range. For even faster convergence when a joint is\n",
        "meeting its joint limit, higher order methods (Newton-Raphson, Newton,\n",
        "and Quasi-Newton methods) will eliminate the direction of motion from\n",
        "consideration when determining the step size. In Newton-Raphson, this is\n",
        "done by setting the column of the Jacobian matrix corresponding to\n",
        "constrained joints to zero before computing the pseudoinverse. In\n",
        "Newton and Quasi-Newton optimization, both the row and column of the\n",
        "Hessian matrix are eliminated before inversion.\n",
        "\n",
        "More complex constraints, such as obstacle avoidance, may be expressed\n",
        "in the form $h(\\mathbf{q}) \\leq 0$, but are harder to accommodate. It is not\n",
        "appropriate to simply check the feasibility of the solution after\n",
        "optimizing, since it will very likely be infeasible. More sophisticated\n",
        "constrained optimization models, like nonlinear programming, express all\n",
        "constraints simultaneously and solve them using more advanced methods\n",
        "like sequential quadratic programming. Such methods are outside of the\n",
        "scope of this book.\n",
        "\n",
        "### Local minimum issues\n",
        "\n",
        "All numerical methods presented above suffer from the issue of *local\n",
        "minima*, in which the error cannot be reduced with local movements, but\n",
        "instead a large step is needed to make progress toward a solution.\n",
        "Imagining an error \"landscape\", the landscape may potentially have many\n",
        "peaks and valleys, and one valley will contain the true optimal\n",
        "solution. When an iterate is near a local minimum, the method would need\n",
        "to choose a step direction to jump out of the local minimum. However,\n",
        "such a direction is not obvious from local information.\n",
        "\n",
        "This is indeed a problem with numerical IK techniques, particularly in\n",
        "the presence of joint limits, because in practice, some significant\n",
        "fraction of seed configurations will not converge to a solution. The\n",
        "problem of finding a global solution is known as *global optimization*.\n",
        "\n",
        "#### CCD + optimization\n",
        "\n",
        "As mentioned above, CCD rarely falls into local minima, so an effective\n",
        "solution would be to combine CCD to get relatively close to an optimum,\n",
        "with some other optimization technique for the final convergence steps.\n",
        "\n",
        "#### Random restarts\n",
        "\n",
        "Another effective technique is known as *random restart* optimization.\n",
        "In this method, if the initial seed fails to yield a solution after\n",
        "local optimization, then a new seed is picked at random. This restart\n",
        "process is repeated up to $N$ times or until a solution is found.\n",
        "\n",
        "If the fraction of seed configurations that lead to failure is $p$, then\n",
        "the probability that this method leads to a failure is $p^N$, which is\n",
        "quite small for large $N$. In fact, the expected number of restarts\n",
        "needed to find a solution is $1/p$. The main drawback of random restarts\n",
        "is when the task is infeasible, then the entirety of the $N$ random\n",
        "restarts is required, which may be computationally expensive if $N$ is\n",
        "large.\n",
        "\n",
        "#### Simulated annealing\n",
        "\n",
        "Another method is simulated annealing, which uses random jumps in\n",
        "configuration space and accepts error-increasing steps with some\n",
        "probability. This and other related methods, like evolutionary\n",
        "algorithms, are known as metaheuristics, and can lead to high-quality\n",
        "solutions where other techniques fail. However, in practice, these\n",
        "techniques are much slower to converge than competing techniques.\n",
        "\n",
        "#### IK databases\n",
        "\n",
        "The final approach we will mention is a data-driven method. First, in a\n",
        "preprocessing step, IK solutions are tabulated for a large number of\n",
        "points in task space, computed exhaustively using some other global\n",
        "optimization method. Then, when a new IK problem is queried, the nearest\n",
        "task point to the query point is retrieved, and the prior solution is\n",
        "used as a seed. When a large number of solutions have been previously\n",
        "computed, the retrieved solution is likely to be very close to the\n",
        "globally optimal solution to the new problem."
      ]
    },
    {
      "cell_type": "markdown",
      "metadata": {
        "id": "yuJbX3JD4nkf"
      },
      "source": [
        "Applying IK in practice\r\n",
        "-----------------------"
      ]
    },
    {
      "cell_type": "markdown",
      "metadata": {
        "id": "9trIXS5J0P1l"
      },
      "source": [
        "### Programming task spaces\n",
        "\n",
        "One issue we have not yet addressed is how to define IK problems on a\n",
        "computer rather than mathematically. This is not so much of a problem\n",
        "with analytical methods --- you have spent hours deriving the solution\n",
        "and coding it up so you know exactly what the inputs and outputs need to\n",
        "be. But the strength of numerical methods is that you can very easily\n",
        "change the IK problem you'd like to solve. If your robot is supposed to\n",
        "pick up a cup, hold it upright during transit, and then place it\n",
        "somewhere on a table, you will need to solve three entirely different IK\n",
        "problems! How should they be specified?\n",
        "\n",
        "Each IK software library has some data structure to specify a primitive\n",
        "*task*, which is usually a Cartesian goal for one link of the robot. So,\n",
        "in basic form a task is specified by a link index $L$, and a desired\n",
        "rigid transform $T_L$ (from link to world coordinates). However, the\n",
        "user can configure which Cartesian components should be included to\n",
        "obtain different effects. The typical types of tasks available are\n",
        "position only, position and orientation, or orientation only. More\n",
        "sophisticated tasks may include position about some axes, orientation of\n",
        "some axis, or some combination of the two. These are enabled or disabled\n",
        "according to various flags.\n",
        "\n",
        "Taking our cup-picking problem as an example:\n",
        "\n",
        "-   To pick up a cup, the robot's hand should be constrained to a\n",
        "    position $\\mathbf{x}_G$ and orientation $R_G$ so that it makes contact\n",
        "    with the cup (a grasp pose). This would be a *fixed* constraint,\n",
        "    with a 6D task space.\n",
        "\n",
        "-   Next, while keeping the cup oriented upward, the orientation of the\n",
        "    hand about the $z$ axis should be kept constant. This means that our\n",
        "    constraint is the $z$ axis in the hand's local frame, $R_G^T \\mathbf{z}$,\n",
        "    should be matched to $\\mathbf{z}$ in world coordinates. Since we don't\n",
        "    care about position, and we don't care how the robot rotates about\n",
        "    $z$, this would be an *axis* constraint, which has a 2D task space.\n",
        "\n",
        "-   Finally, while putting the cup down on a flat surface, we don't care\n",
        "    too much about where on the surface the cup gets placed, but we do\n",
        "    need the cup to stay upright and the bottom of the cup to be at a\n",
        "    height $z_S$. So, we need to include the prior orientation\n",
        "    constraint, plus an additional 1D position constraint. To implement\n",
        "    this, we can compute one point on the bottom of the cup in local\n",
        "    coordinates of the hand. Let's say we recorded such a point\n",
        "    $\\mathbf{x}_B$ in world coordinates back when we first picked up the cup.\n",
        "    In hand-local coordinates, this point is $R_G^T(\\mathbf{x}_B - \\mathbf{x}_G)$.\n",
        "    Now, the new world coordinates of this point need to be at height\n",
        "    $z_S$, which is a *plane* constraint.\n",
        "\n",
        "To implement an axis constraint, a local direction $\\mathbf{d}_L$ is matched\n",
        "to a world direction $\\mathbf{d}_D$. Such a constraint can be specified with\n",
        "a flag and either 1) $\\mathbf{d}_L$, $\\mathbf{d}_D$, or 2) $T_L$ and either\n",
        "direction (the other quantity can be derived from $T_L$).\n",
        "\n",
        "To implement a plane constraint, $T_L$ and the normal to the plane in\n",
        "world coordinates $\\mathbf{n}$ must be specified.\n",
        "\n",
        "Support of these various tasks is mixed in various software packages.\n",
        "Klamp't supports arbitrary numbers of tasks, each of which can have\n",
        "position and orientation components enabled or disabled. The data\n",
        "structure that specifies each task is called an IKObjective. Orocos KDL\n",
        "only supports tasks that define a full Cartesian transform of a link.\n",
        "\n",
        "The OpenRAVE ikfast module supports several task types, each of which\n",
        "constrains some combination position and orientation components (11 as\n",
        "of time of writing). This module is noteworthy in that it provides a\n",
        "method to derive analytic IK expressions for your robot; after a few\n",
        "minutes to an hour of computation, it generates code that can be\n",
        "compiled to solve IK problems very quickly (and exhaustively). It does\n",
        "require that you know your task spaces well in advance, and it does\n",
        "sometimes fail to generate expressions for certain kinematic structures."
      ]
    },
    {
      "cell_type": "markdown",
      "metadata": {
        "id": "5B3bDIHx4yLw"
      },
      "source": [
        "### Common problems\r\n",
        "\r\n",
        "Using IK can be fraught with bugs if used carelessly. Usually when an\r\n",
        "engineer uses IK, he/she is trying to program a high-level specification\r\n",
        "of some application as quickly as possible, and can quickly gloss over\r\n",
        "*whether enough information is available* to employ IK properly.\r\n",
        "\r\n",
        "Let us recap all of the items necessary to employ IK on a robot.\r\n",
        "\r\n",
        "-   The robot's kinematic structure is known.\r\n",
        "\r\n",
        "-   The coordinates of the tool center point are known.\r\n",
        "\r\n",
        "-   The coordinate frame of the end effector link is known.\r\n",
        "\r\n",
        "-   A rotation matrix defining the desired orientation of the end\r\n",
        "    effector link is known.\r\n",
        "\r\n",
        "-   All coordinates are given with respect to the assumed reference\r\n",
        "    frame (and units) of the solver.\r\n",
        "\r\n",
        "Minor positioning errors can occur if any of these values are not\r\n",
        "properly *calibrated*, i.e., measured to high accuracy. We will revisit\r\n",
        "calibration a later chapter. However, major errors can result if\r\n",
        "reference coordinate frames are misunderstood or interpreted\r\n",
        "incorrectly.\r\n",
        "\r\n",
        "For example, suppose the reference frame of the end effector link has\r\n",
        "the gripper fingers pointing in the $z$ direction and open by traveling\r\n",
        "along the $x$ axis direction. But, suppose the programmer assumed that\r\n",
        "fingers point in the $x$ direction and $z$ is the local axis as though\r\n",
        "the robot were picking up a cup. Then by specifying the identity matrix\r\n",
        "as the end effector orientation, --- a seemingly sensible orientation to\r\n",
        "lift a cup with this mistaken frame convention --- the programmer will\r\n",
        "have asked the robot to grab the cup with fingers pointing straight\r\n",
        "upward! This is why it is so important to adopt strict and explicit\r\n",
        "coordinate conventions, and also to test in simulation. Now, a careless\r\n",
        "programmer might test the solver on the real robot\\... and if the IK\r\n",
        "solver succeeds, then the robot will be driven straight through the\r\n",
        "table! It is much better to start in simulation: ideally the IK solver\r\n",
        "will succeed with a bizarre configuration, which, upon inspection, suggests a bug. If the IK\r\n",
        "solver fails, the programmer needs to do more digging to discover the\r\n",
        "root of the problem. To help this, visualization tools can be used in\r\n",
        "the process of *visual debugging* to inspect reference frames and\r\n",
        "variables in a more intuitive way than looking at numbers.\r\n",
        "\r\n",
        "Moreover, if analytical IK is being used, the following must also hold:\r\n",
        "\r\n",
        "-   The task space defined by the IK subroutine match that of your\r\n",
        "    application.\r\n",
        "\r\n",
        "-   The robot structure matches that assumed by the IK subroutine\r\n",
        "    (including joint axes, link frame conventions, etc).\r\n",
        "\r\n",
        "-   Joint values are 0 at the robot's assumed reference position.\r\n",
        "\r\n",
        "-   The first joint (or the first set of intersecting joints) of the\r\n",
        "    robot is at the origin of the world frame.\r\n",
        "\r\n",
        "If any of these do not hold, it is the responsibility of the user of the\r\n",
        "subroutine to calculate the appropriate Cartesian transformations to\r\n",
        "transform the input appropriately, and to apply the appropriate joint\r\n",
        "offsets to transform the output appropriately."
      ]
    },
    {
      "cell_type": "markdown",
      "metadata": {
        "id": "VXk3fXjY4uMg"
      },
      "source": [
        "### IK and Cartesian motion\r\n",
        "\r\n",
        "IK is commonly used in two ways:\r\n",
        "\r\n",
        "* To determine an endpoint for a motion.\r\n",
        "\r\n",
        "* To move a robot's end effector along a given task space path, such as a straight line in workspace. \r\n",
        "\r\n",
        "In Case 1, we may simply determine a desired joint space value $q_D$ that matches the end effector\r\n",
        "$\\mathbf{x}(q_D)$ maps to the task space coordinates $\\mathbf{x}_D$.  Then, the robot can move from the current value\r\n",
        "of $q$ to $q_D$ in a straight line in joint space. However, as [we have seen before](#Nonlinear-mapping-between-C-space-and-workspace),\r\n",
        "such a motion does not usually move in a straight line in workspace due to the nonlinearity of forward kinematics.  If we want the end effector to move in a designated Cartesian trajectory, then we must be more careful.\r\n",
        "\r\n",
        "Case 2 is a *Cartesian path following* problem, which asks to generate a trajectory $q(t)$ so that $\\mathbf{x}(q(t)) = \\mathbf{x}_D(t)$ for $t\\in[0,1]$.  It may be tempting to simply write an algorithm like this:\r\n",
        "\r\n",
        "*************\r\n",
        "\r\n",
        "<a name=\"alg:NaivePathFollowing\">Algorithm 1</a>. **Naive Cartesian path following**\r\n",
        "\r\n",
        "1. Let $q_0$ be the current configuration\r\n",
        "\r\n",
        "2. **For** $i=1,\\ldots,N$:\r\n",
        "\r\n",
        "3. &nbsp;&nbsp;&nbsp;Let $t=i/N$.\r\n",
        "\r\n",
        "4. &nbsp;&nbsp;&nbsp;Use a IK solver to find $q$ satisfying $\\mathbf{x}(q) = \\mathbf{x}_D(t)$, picking the solution closest to $q_{i-1}$.\r\n",
        "\r\n",
        "5.  &nbsp;&nbsp;&nbsp;$q_i \\gets q$.\r\n",
        "\r\n",
        "6. **Return** the joint space path connecting $q_0,q_1,\\ldots,q_N$\r\n",
        "\r\n",
        "*************\r\n",
        "\r\n",
        "For example, in step 4, a numerical IK method may simply use $q_{i-1}$ as the initial seed.  An analytical method for a nonredundant robot should enumerate all solutions and pick the closest one.  The choice of the resolution $N$ is also important, because it will determine how closely $\\mathbf{x}(q(t))$ tracks the desired trajectory.  For example, if a long screw needs to be drilled along a precise path, a very fine resolution will be needed.  In fact, industrial robot controllers will solve these problems at or near the control frequency (several hundreds of times per second)\r\n",
        "\r\n",
        "It is important to note that there are a number of caveats that may cause this procedure to fail or to create unusual artifacts: \r\n",
        "\r\n",
        "1.  The configuration may run into joint limits, preventing further progress.\r\n",
        "\r\n",
        "2.  Picking an IK solution that causes collisions.\r\n",
        "\r\n",
        "3.  Passing through or near singularities, causing the desired joint\r\n",
        "    velocities to exceed their limits.\r\n",
        "\r\n",
        "4.  Tolerances of numerical methods can cause small but noticeable\r\n",
        "    oscillations (or large jumps near singularities).\r\n"
      ]
    },
    {
      "cell_type": "markdown",
      "metadata": {
        "id": "15R6OSw70P1o"
      },
      "source": [
        "Summary\n",
        "-------\n",
        "\n",
        "Key takeaways:\n",
        "\n",
        "-   Inverse kinematics (IK) attempts to find a configuration (or\n",
        "    configurations) for an end effector to reach a Cartesian target.\n",
        "\n",
        "-   The task space defines whether the Cartesian target indicates\n",
        "    position, orientation, or some subset of those parameters. The task\n",
        "    space can also include targets for multiple end effectors.\n",
        "\n",
        "-   Analytical IK inverts the forward kinematics equations using\n",
        "    geometric and/or algebraic reasoning. They produce all solutions for\n",
        "    non-redundant robots, but rely on analysis of a known structure and\n",
        "    task space.\n",
        "\n",
        "-   The Jacobian is the matrix of partial derivatives of the forward\n",
        "    kinematics function. It relates joint velocities to task space\n",
        "    velocities.\n",
        "\n",
        "-   The Jacobian can be used for a variety of calculations, including\n",
        "    singularity identification and numerical IK.\n",
        "\n",
        "-   Numerical IK methods iteratively move a guessed configuration toward\n",
        "    an IK solution by progressively reducing the error of the constraint\n",
        "    function.\n",
        "\n",
        "-   Numerical IK methods are prone to falling into local minima. Random\n",
        "    restarts or good initial guesses are needed to improve reliability.\n",
        "\n",
        "-   Some robot developers provide analytical IK solvers specific to\n",
        "    their mechanism. Many robotics software packages provide numerical\n",
        "    IK solvers for general mechanisms."
      ]
    },
    {
      "cell_type": "markdown",
      "metadata": {
        "id": "dShTD-RH0P1p"
      },
      "source": [
        "Exercises\n",
        "---------\n",
        "\n",
        "1.  Consider a planar \"spider robot\" with 3 arms, each consisting of a     2R manipulator, connected at a center point. Each of the \"hands\" (end effectors of each arm) must be placed at locations $\\mathbf{x}_1,\\mathbf{x}_2,\\mathbf{x}_3$, respectively. Define a configuration\n",
        "    space of the robot. What is the task space of the IK constraints?\n",
        "    What is the intrinsic dimension of the self-motion manifold? For\n",
        "    what values of $\\mathbf{x}_1,\\mathbf{x}_2,\\mathbf{x}_3$ would the solution space be\n",
        "    empty?\n",
        "\n",
        "2.  Derive an analytical IK solution for a 3R planar manipulator with\n",
        "    both position and orientation tasks. Hint: start by considering the\n",
        "    desired location of the third joint, and use the planar 2R solution\n",
        "    to place the third joint there.\n",
        "\n",
        "3.  Derive an analytical IK solution for the 3R 3D manipulator (ZYY) in\n",
        "    the general case where the end effector has local coordinates\n",
        "    $\\mathbf{x}_3$ on the third link, and the task is to place the end\n",
        "    effector at coordinates $\\mathbf{x}$.\n",
        "\n",
        "4.  Derive the configuration space for a closed 4-bar linkage with link\n",
        "    lengths $L_1,\\ldots,L_4$, assuming the first bar is fixed in world\n",
        "    coordinates.\n",
        "\n",
        "5.  Perform error propagation to derive an expression relating joint\n",
        "    space error to the maximum possible Cartesian end effector\n",
        "    positioning error of an $n$R planar serial robot with unit length\n",
        "    links. At what configurations is the maximum error achieved?\n",
        "\n",
        "6.  (Implementation) Experimentally evaluate how often a numerical IK solver falls into\n",
        "    local minima on a 6DOF manipulator. (For example, use the\n",
        "    `puma760.rob` or `tx90l.rob` model in Klamp't) To do so, sample some\n",
        "    number of reachable end effector transforms by sampling a\n",
        "    configuration at random. Then, for each of those transforms, and\n",
        "    attempt numerical IK using a seed configuration sampled at random.\n",
        "\n",
        "7.  (Implementation) Implement the naive Cartesian path following algorithm\n",
        "    for a simple robot (the 2R robot, for example).  Give it an input path $\\mathbf{x}_D(t)$ \n",
        "    so that all points along the path are reachable.  How finely do you need to discretize\n",
        "    the path so that the configuration space path, when interpolated, deviates from $\\mathbf{x}_D(t)$ \n",
        "    no more than 1mm?  Now input a path that goes unreachable.  What happens to the configurations\n",
        "    as you approach the limit?"
      ]
    },
    {
      "cell_type": "markdown",
      "metadata": {
        "id": "t5hu323m0P1q"
      },
      "source": [
        "## Interactive examples\n",
        "\n",
        "### Planar 2R manipulator IK"
      ]
    },
    {
      "cell_type": "code",
      "metadata": {
        "code_folding": [
          0
        ],
        "scrolled": false,
        "id": "lPEpLgpN0P1q",
        "outputId": "32653af4-34fb-4229-8f26-d93bc40db4d2",
        "colab": {
          "referenced_widgets": [
            "4afb3f061b6745d38aaa995b57e76e9a",
            "08b282032baa4806958bb4a7971f99b5"
          ]
        }
      },
      "source": [
        "#Code for the interactive example (run me and the next code block!)\n",
        "import time\n",
        "from klampt import *\n",
        "from klampt.math import so3,vectorops\n",
        "from klampt.model import ik\n",
        "import math\n",
        "from IPython.display import HTML,clear_output\n",
        "import ipywidgets as widgets\n",
        "from klampt.vis import ipython as ipyklampt\n",
        "\n",
        "world = WorldModel()\n",
        "world.readFile(\"data/planar2R.rob\")\n",
        "robot = world.robot(0)\n",
        "ee_local = (1,0,0)  #end effector coordinates\n",
        "robot.link(0).appearance().setColor(0.4,0.4,0.4)\n",
        "robot.link(1).appearance().setColor(0.2,0.2,0.2)\n",
        "#joint limits\n",
        "qmin = [-math.pi/2,-math.pi/2]\n",
        "qmax = [math.pi/2,math.pi/2]\n",
        "robot.setJointLimits(qmin,qmax)\n",
        "vis.init(\"IPython\")\n",
        "vis.resizeWindow(400,400)\n",
        "vis.add(\"world\",world)\n",
        "\n",
        "#look down\n",
        "vis.setViewport({u'near': 0.1, u'target': {u'y': 0, u'x': 0, u'z': 0}, u'far': 1000, u'position': {u'y': 6.702563444149367, u'x': 0.27057631353305844, u'z': -0.049312632332197764}, u'up': {u'y': 0.44113772676914204, u'x': -0.003726563135538217, u'z': -0.897431679153433}})\n",
        "#add a ghost\n",
        "vis.add(\"ghost\",robot.getConfig(),color=(0,1,0,0.5))\n",
        "\n",
        "EPSILON = 1e-8\n",
        "L1 = 1.0\n",
        "L2 = 1.0\n",
        "\n",
        "def ik_2R_analytical(L1,L2,x,y):\n",
        "    \"\"\"Solve IK for a 2R robot with link lengths L1 and L2.\n",
        "    \n",
        "    Returns a pair (N,solutions)\n",
        "    - N: number of solutions (can be 0, 1, 2, or infinity)\n",
        "    - solutions: a tuple of solution configurations. If N=infinity,\n",
        "      solutions is the tuple (None,q2).\n",
        "    \"\"\"\n",
        "    r2 = x**2+y**2\n",
        "    c2 = (r2-L1**2-L2**2)/(2*L1*L2)\n",
        "    if c2 > 1.0 or c2 < -1.0:\n",
        "        return (0,())\n",
        "    q2_1 = math.acos(c2)\n",
        "    q2s = [q2_1]\n",
        "    if abs(q2_1) > EPSILON and abs(q2_1-math.pi) > EPSILON:\n",
        "        q2s.append(-q2_1)\n",
        "    solns = []\n",
        "    for q2 in q2s:\n",
        "        ex = 1.0+math.cos(q2)\n",
        "        ey = math.sin(q2)\n",
        "        if abs(ex)<EPSILON and abs(ey) < EPSILON:\n",
        "            #infinite solutions\n",
        "            return (float('inf'),(None,q2))\n",
        "        theta = math.atan2(y,x)\n",
        "        etheta = math.atan2(ey,ex)\n",
        "        solns.append((theta-etheta,q2))\n",
        "    return (len(solns),solns)\n",
        "\n",
        "def ik_2R_numerical(q0,x,y):\n",
        "    robot.setConfig(q0)\n",
        "    obj = ik.objective(robot.link(1),local=ee_local,world=(x,y,0))\n",
        "    solver = ik.solver(obj)\n",
        "    solver.solve()\n",
        "    return q0\n",
        "\n",
        "#called whenever configuration is edited\n",
        "link0_vis_path = robot.link(0).getName()\n",
        "link1_vis_path = robot.link(1).getName()\n",
        "def point_update_cb(point):\n",
        "    global L1,L2\n",
        "    N,solns = ik_2R_analytical(L1,L2,point[0],point[1])\n",
        "    if N == 0:\n",
        "        #no solution\n",
        "        vis.setColor(link0_vis_path,1,0,0)\n",
        "        vis.setColor(link1_vis_path,1,0,0)\n",
        "    elif N == 1 or N == 2:\n",
        "        vis.setColor(link0_vis_path,0.4,0.4,0.4)\n",
        "        vis.setColor(link1_vis_path,0.2,0.2,0.2)\n",
        "        robot.setConfig(solns[0])\n",
        "        vis.add(\"ghost\",solns[1],color=(0,1,0,0.5))\n",
        "    else:\n",
        "        #infinite solutions\n",
        "        vis.setColor(link0_vis_path,1,1,0)\n",
        "        vis.setColor(link1_vis_path,1,1,0)\n",
        "        robot.setConfig((0,solns[0][1]))\n",
        "    vis.update()\n",
        "pt = [0,0,0]\n",
        "point_widget = ipyklampt.EditPoint(pt,[-2,-2,-1],[2,2,1],klampt_widget=vis.nativeWindow(),callback=point_update_cb)\n",
        "\n",
        "controls = widgets.HBox([point_widget])\n",
        "\n",
        "vis.show()\n",
        "display(controls)"
      ],
      "execution_count": null,
      "outputs": [
        {
          "output_type": "display_data",
          "data": {
            "application/vnd.jupyter.widget-view+json": {
              "model_id": "4afb3f061b6745d38aaa995b57e76e9a",
              "version_major": 2,
              "version_minor": 0
            },
            "text/plain": [
              "KlamptWidgetAdaptor(height=400, rpc={'type': 'multiple', 'calls': [{'up': {'y': 0.44113772676914204, 'z': -0.8…"
            ]
          },
          "metadata": {
            "tags": []
          }
        },
        {
          "output_type": "display_data",
          "data": {
            "application/vnd.jupyter.widget-view+json": {
              "model_id": "08b282032baa4806958bb4a7971f99b5",
              "version_major": 2,
              "version_minor": 0
            },
            "text/plain": [
              "HBox(children=(VBox(children=(FloatSlider(value=0.0, description='x', max=2.0, min=-2.0, step=0.001), FloatSli…"
            ]
          },
          "metadata": {
            "tags": []
          }
        }
      ]
    },
    {
      "cell_type": "code",
      "metadata": {
        "id": "o2NPk4vN0P1r"
      },
      "source": [
        ""
      ],
      "execution_count": null,
      "outputs": []
    }
  ]
}