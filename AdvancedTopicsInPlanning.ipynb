{
 "cells": [
  {
   "cell_type": "markdown",
   "metadata": {},
   "source": [
    "# Section III. MOTION PLANNING\n",
    "\n",
    "# Chapter 12. Advanced Topics in Planning\n",
    "\n",
    "Multi-goal planning\n",
    "-------------------------\n",
    "\n",
    "### Planning with goal sets\n",
    "\n",
    "### Tours\n",
    "\n",
    "### Inspection planning\n",
    "\n",
    "\n",
    "Multi-agent planning\n",
    "--------------------\n",
    "\n",
    "Computational complexity (NP hard on graph)\n",
    "\n",
    "Deadlock\n",
    "\n",
    "Coordination graph\n",
    "\n",
    "Manipulation planning and locomotion planning\n",
    "---------------------------------------------\n",
    "\n",
    "Duality between manipulation and locomotion\n",
    "\n",
    "Planning on closed chain manifolds\n",
    "\n",
    "Grasp planning.\n",
    "\n",
    "Multi-modal planning. Transitions\n",
    "\n",
    "Task and motion planning\n",
    "------------------------\n",
    "\n",
    "AI planning and scheduling\n",
    "\n",
    "Semantics\n",
    "\n",
    "Knowledge base\n"
   ]
  },
  {
   "cell_type": "code",
   "execution_count": null,
   "metadata": {},
   "outputs": [],
   "source": []
  }
 ],
 "metadata": {
  "kernelspec": {
   "display_name": "Python 3",
   "language": "python",
   "name": "python3"
  },
  "language_info": {
   "codemirror_mode": {
    "name": "ipython",
    "version": 3
   },
   "file_extension": ".py",
   "mimetype": "text/x-python",
   "name": "python",
   "nbconvert_exporter": "python",
   "pygments_lexer": "ipython3",
   "version": "3.5.2"
  },
  "latex_envs": {
   "LaTeX_envs_menu_present": true,
   "autoclose": false,
   "autocomplete": false,
   "bibliofile": "biblio.bib",
   "cite_by": "apalike",
   "current_citInitial": 1,
   "eqLabelWithNumbers": true,
   "eqNumInitial": 1,
   "hotkeys": {
    "equation": "Ctrl-E",
    "itemize": "Ctrl-I"
   },
   "labels_anchors": false,
   "latex_user_defs": true,
   "report_style_numbering": false,
   "user_envs_cfg": false
  },
  "toc": {
   "base_numbering": 1,
   "nav_menu": {},
   "number_sections": true,
   "sideBar": true,
   "skip_h1_title": true,
   "title_cell": "Table of Contents",
   "title_sidebar": "Contents",
   "toc_cell": false,
   "toc_position": {},
   "toc_section_display": true,
   "toc_window_display": true
  }
 },
 "nbformat": 4,
 "nbformat_minor": 2
}
