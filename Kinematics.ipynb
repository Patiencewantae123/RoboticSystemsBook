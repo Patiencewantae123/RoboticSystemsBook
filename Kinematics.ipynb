{
 "cells": [
  {
   "cell_type": "markdown",
   "metadata": {},
   "source": [
    "# Section II. MODELING\n",
    "\n",
    "Chapter 5. Robot Kinematics \n",
    "==============================="
   ]
  },
  {
   "cell_type": "markdown",
   "metadata": {},
   "source": [
    "Kinematics is the study of the relationship between a robot's joint\n",
    "coordinates and its spatial layout, and is a fundamental and classical\n",
    "topic in robotics. Kinematics can yield very accurate calculations in\n",
    "many problems, such as positioning a gripper at a place in space,\n",
    "designing a mechanism that can move a tool from point A to point B, or\n",
    "predicting whether a robot's motion would collide with obstacles.\n",
    "Kinematics is concerned with only the instantaneous values of the\n",
    "robot's coordinates, and ignores their movement under forces and torques\n",
    "(which will be covered later when we discuss dynamics). The kinematics\n",
    "problem may be rather trivial for certain robots, like mobile robots\n",
    "that are essentially rigid bodies, but requires involved study for other\n",
    "robots with many joints, such as humanoid robots and parallel\n",
    "mechanisms.\n",
    "\n",
    "This chapter will describe the kinematics of several common robot\n",
    "mechanisms and define the concepts of configuration space and workspace.\n",
    "It will also present the process of forward kinematics, which performs\n",
    "the geometric calculations needed to map configuration space to\n",
    "workspace.\n",
    "\n",
    "Configuration space and workspace\n",
    "---------------------------------\n",
    "\n",
    "A robot's kinematic structure is described by a set of *links*, which\n",
    "for most purposes are considered to be rigid bodies, and *joints*\n",
    "connecting them and constraining their relative movement, for example,\n",
    "rotational or translational joints.\n",
    "\n",
    "A robot's layout, at some instant in time, can be described by one of\n",
    "two methods:\n",
    "\n",
    "1.  A list of coordinates for each joint (typically an angle or\n",
    "    translation distance) expressed relative to some *reference frame*,\n",
    "    aka *zero position*.\n",
    "\n",
    "2.  A spatial representation of its links in the 2D or 3D world in which\n",
    "    it operates, e.g., matrices describing the frame of each link\n",
    "    relative to some world coordinate system.\n",
    "\n",
    "The list of joint coordinates are known as the *configuration* of the\n",
    "robot. The 2D or 3D world in which the robot lives is known as its\n",
    "*workspace*.\n",
    "\n",
    "The importance of a configuration is that it is a *non-redundant,\n",
    "minimal representation* of the robot's layout. This stands in contrast\n",
    "to the representation of storing each link's frame (also known as\n",
    "*maximal coordinates*), but the constraints imposed by each joint might\n",
    "not be satisfied by a given maximal coordinate representation.\n",
    "\n",
    "### Defining robot structures\n",
    "\n",
    "A wide variety of robot mechanisms can be described by categorizing\n",
    "their arrangement of joints and joint types. For the moment we will\n",
    "ignore the size and shape of links, and simply focus on broad\n",
    "categorization.\n",
    "\n",
    "First, there are three typical joint types, each describing the form of\n",
    "relative transformations allowed between the two links to which it is\n",
    "attached:\n",
    "\n",
    "-   Revolute: the attached links rotate about a common axis.\n",
    "\n",
    "-   Prismatic: the attached links translate about a common axis.\n",
    "\n",
    "-   Spherical: the attached links rotate about a point.\n",
    "\n",
    "More exotic joints, like helical (screw) joints, may also exist. One may\n",
    "also speak of *fixed joints* where the attached links are rigidly fixed\n",
    "together; since mathematically the two links could be considered as one,\n",
    "this is primarily for representational convenience. Is is customary to\n",
    "refer to one of the attached links as the *parent* and the other the\n",
    "*child*.\n",
    "\n",
    "Second, mechanisms can be described by their *topology*, which describes\n",
    "how links and joints interconnect:\n",
    "\n",
    "-   Serial: the links and joints form a single ordered chain, with the\n",
    "    child link of one joint being the parent of the next.\n",
    "\n",
    "-   Branched: each link can have zero or more child links, but cutting\n",
    "    any joint would detach the system into two disconnected mechanisms.\n",
    "    Like a human body, in which fingers are attached to the hand, toes\n",
    "    are attached to the feet, and arms, legs, and head are attached to\n",
    "    the torso.\n",
    "\n",
    "-   Parallel: the series of joints forms at least one closed loop. I.e.,\n",
    "    there exist joints that, if cut, would not divide the system into\n",
    "    two disconnected halves.\n",
    "\n",
    "The topology can be inspected by plotting a *link graph*, which is a\n",
    "network structure in which vertices are links and edges are joints.\n",
    "Serial mechanisms have a linear link graph, branched mechanisms are\n",
    "trees (i.e., graphs without loops), and parallel mechanisms have loops.\n",
    "\n",
    "Serial mechanisms are usually characterized using an alphanumeric\n",
    "notation which lists the initials of the joint types in order from the\n",
    "base down the chain. For simplicity, when multiple joints of the same\n",
    "type are repeated, like \"XXX\", this is listed as \"\\#X\" where \"\\#\" is the\n",
    "number of repetitions. Examples include:\n",
    "\n",
    "-   3P (PPP): xyz gantry\n",
    "\n",
    "-   3P3R (PPPRRR): 6-axis CNC machine\n",
    "\n",
    "-   6R (RRRRRR): revolute joint industrial robot\n",
    "\n",
    "A third characterization defines whether the robot is affixed to the\n",
    "world or left free to move in space:\n",
    "\n",
    "-   Fixed base: a base link is rigidly affixed to the world, like in an\n",
    "    industrial robot.\n",
    "\n",
    "-   Floating base: all links are free to rotate and translate in\n",
    "    workspace, like in a humanoid robot.\n",
    "\n",
    "-   Mobile base: the workspace is 3D, but a base link can rotate and\n",
    "    translate on a 2D plane, like in a car.\n",
    "\n",
    "### Configurations and configuration space\n",
    "\n",
    "As mentioned above, the configuration of a robot is a minimal set of\n",
    "coordinates defining the position of all links. For serial or branched\n",
    "fixed-base mechanisms, this is simply a list of individual joint\n",
    "coordinates. For floating/mobile bases, the configuration is slightly\n",
    "more complex, requiring the introduction of *virtual linkages* to\n",
    "account for the movement of the base link. The situation for parallel\n",
    "mechanisms is even more complex, and we will withhold this discussion\n",
    "for later.\n",
    "\n",
    "#### Degrees of freedom\n",
    "\n",
    "The *degrees of freedom* (dof) of a system define the span of its freely\n",
    "and independently moving dimensions, and the number of degrees of\n",
    "freedom is also known as its *mobility* $M$. In the case of a serial or\n",
    "branched fixed base mechanism, the degrees of freedom are the union of\n",
    "all individual joint degrees of freedom, and the mobility is the sum of\n",
    "the mobilities of all individual joints: $$M = \\sum_{i=1}^n f_i$$ where\n",
    "there are $n$ joints and $f_i$ is the mobility of the $i$'th joint, with\n",
    "$f_i = 1$ for revolute, prismatic, and helical joints, and $f_i = 3$ for\n",
    "spherical joints.\n",
    "\n",
    "The degrees of freedom for a single joint are expressed as the offset of\n",
    "the two attached links from their layout in a given *reference frame*.\n",
    "For revolute joints, the one dof is a joint angle defining the offset\n",
    "from a joint's zero position along its axis of rotation. For prismatic\n",
    "joints, the one dof is a translation along the axis relative to its zero\n",
    "position. Spherical joint dofs can be represented by Euler angles.\n",
    "\n",
    "#### Floating bases and virtual linkages\n",
    "\n",
    "For floating and mobile bases, the movement of the robot takes place not\n",
    "only via joint movement but also of the overall translation and rotation\n",
    "of the mechanism in space. As a result the number of degrees of freedom\n",
    "are increased. To represent this in a more straightforward manner, we\n",
    "treat floating base robots as fixed-base robots by means of attaching a\n",
    "*virtual linkage* that expresses the mobility of the root link.\n",
    "\n",
    "It may be improper to think of a \"base link\" because there is no link\n",
    "attached to the environment, but it is customary to speak of a *root\n",
    "link* from which calculations begin. For a 2D floating base, the $(x,y)$\n",
    "translation and rotation $\\theta$ of the robot's root link with respect\n",
    "to its reference frame can be expressed as a virtual linkage of\n",
    "additional 2PR manipulator. A similar construction gives the virtual\n",
    "linkage for a robot with a mobile base.\n",
    "\n",
    "In 3D floating base robots, the virtual linkage is customarily treated\n",
    "as a 3P3R robot with degrees of freedom corresponding to the $(x,y,z)$\n",
    "translation of the root link and the Euler angle representation\n",
    "$(\\phi,\\theta,\\psi)$ of its rotation. Any Euler angle convention may be\n",
    "used for this linkage, except that it is often advisable not to use\n",
    "conventions that have a singularity at the identity. In the future we\n",
    "shall use roll-pitch-yaw (ZYX) convention.\n",
    "\n",
    "As a result of the inclusion of the virtual linkage, for a floating base\n",
    "in 3D, the mobility is increased by 6: $M = 6 + \\sum_{i=1}^n f_i.$ In\n",
    "2D, or for mobile bases in 3D, mobility is increased by 3.\n",
    "\n",
    "#### Joint limits and configuration space\n",
    "\n",
    "Joint mobility is usually limited by mechanical limitations or physical\n",
    "stops. Such prismatic and revolute joints will be associated with *joint\n",
    "limits*, which define an interval of joint values $[a,b]$ that are valid\n",
    "irrespective of the configuration of the remaining links.\n",
    "\n",
    "Some revolute joints may have no stops, such as a motor driving a drill\n",
    "bit or wheel, and these are known as continuous rotation joints. The\n",
    "revolute joints associated with virtual linkages also have continuous\n",
    "rotation. In these cases, the joint's degree of freedom moves in\n",
    "$SO(2)$.\n",
    "\n",
    "The Cartesian product of all joint ranges is the *configuration space*\n",
    "of the robot.\n",
    "\n",
    "As an example, consider a 2RPR mechanism where all the axes are aligned\n",
    "with the Z axis. The first two joints define position in the $(x,y)$\n",
    "plane, and are limited to the range $[-\\pi/2,\\pi/2]$. The third joint\n",
    "moves a drill up and down in the range $[z_{min},z_{max}]$, and the\n",
    "final joint drives the continuous rotation of the drill bit. Here, the\n",
    "configuration space is\n",
    "$$[-\\pi/2,\\pi/2]^2 \\times [z_{min},z_{max}] \\times SO(2).$$\n",
    "\n",
    "#### Configurations for parallel mechanisms\n",
    "\n",
    "Often, it is significantly harder to determine the configuration space\n",
    "of parallel mechanisms. We can no longer consider each joint\n",
    "independent, since the movement of each joint in a closed loop affects\n",
    "the movement of other joints. However, there is a formula to determine\n",
    "the mobility $M$ of these mechanisms.\n",
    "\n",
    "Conceptually, the formula calculates the number of dofs of the maximal\n",
    "coordinate representation, and then subtracts the number of dofs removed\n",
    "by each joint. That is, if there are $n$ links and $m$ joints, each with\n",
    "mobility $f_1,\\ldots,f_m$, then the mobility is given by\n",
    "$$M = 3 n - \\sum_{j=1}^m (3-f_j).$$ in 2D and\n",
    "$$M = 6 n - \\sum_{j=1}^m (6-f_j).$$ in 3D.\n",
    "\n",
    "As an example, for a 4-bar linkage in 2D, there are $n=4$ links and\n",
    "$m=4$ joints each with mobility 1. If one link is frozen to the\n",
    "environment, this could be considered a fifth fixed joint with mobility 0. Hence, the mobility is:\n",
    "$$M = 3 \\cdot 4 - 4 \\cdot (3-1) - (3-0) = 12 - 8 - 3 = 1$$ which\n",
    "indicates the entire structure has only a single degree of freedom. (We\n",
    "shall see in later lectures that it is not trivial to parameterize this\n",
    "degree of freedom).\n",
    "\n",
    "### End effectors and reachable workspaces\n",
    "\n",
    "\"Workspace\" is somewhat of an overloaded term in robotics; it is also\n",
    "used to refer to the range of positions and orientations of a certain\n",
    "privileged link, known as the *end effector*. End effectors are\n",
    "typically at the far end of a serial chain of links, and are often where\n",
    "tool points are located since these links have the largest range of\n",
    "motion. Depending on context, the workspace may refer to positions only,\n",
    "both positions and orientations, or, less frequently, orientations only.\n",
    "(It is due to this ambiguity that some authors prefer the term \"task\n",
    "space\" to speak specifically of an end-effector's spatial range, but the\n",
    "dual usage of \"workspace\" is widespread in the field.)\n",
    "\n",
    "The *reachable workspace* of an end effector is the region in workspace\n",
    "that can be reached by any valid configuration, in the absence of\n",
    "obstacles. Typically the notion of \"validity\" is defined such that joint\n",
    "limits are respected, but other constraints like self-collision\n",
    "avoidance may also be respected as well. The size and shape of the\n",
    "reachable workspace are important to consider when designing or\n",
    "selecting a robot for a given task, as well as determining the location\n",
    "to place a fixed-base robot in its workcell.\n",
    "\n",
    "Calculating the reachable workspace in 2D or 3D space of an end\n",
    "effector's position can be done through a recursive geometric\n",
    "construction: first sweep the point about the range of motion of the\n",
    "last joint to obtain a curve, then sweep the curve about the range of\n",
    "motion of the second-to-last joint to obtain a surface, and then sweep\n",
    "the surface about the third-to-last to obtain a volume, and so on.\n",
    "\n",
    "The process becomes more challenging when orientation is also\n",
    "considered, but this is nevertheless extremely important to consider for\n",
    "most robots since the orientation of the end effector must often be\n",
    "constrained to perform the desired function. In 2D space, the reachable\n",
    "workspace can be pictured as a 3D volume, with $(x,y)$ components on the\n",
    "plane and $\\theta$ plotted on the $z$ axis. In 3D space the combined\n",
    "position and orientation workspace is 6D, which is very hard to compute\n",
    "or visualize. Instead, one may speak of a *fixed-orientation reachable\n",
    "workspace* which contains the range of end effector positions reachable\n",
    "with the orientation of the end effector held fixed at some useful angle\n",
    "(for example, pointing up or down or sideways, depending on the task).\n",
    "\n",
    "### Examples\n",
    "\n",
    "****************\n",
    "\n",
    "![fig:2RWorkspace](figures/modeling/2R_workspace.svg)\n",
    "\n",
    "<div class=\"figcaption\"><a href=\"fig:2RWorkspace\">Figure 1</a>. A 2R manipulator, with joint limits and a second link somewhat shorter than the first has a reachable (position) workspace that is a portion of an annulus (planar donut shape).</div>\n",
    "\n",
    "****************"
   ]
  },
  {
   "cell_type": "markdown",
   "metadata": {},
   "source": [
    "Forward kinematics\n",
    "------------------\n",
    "\n",
    "Forward kinematics is the process of calculating the frames of a robot's\n",
    "links, given a configuration and the robot's kinematic structure as\n",
    "input. The forward kinematics of a robot can be mathematically derived\n",
    "in closed form, which is useful for further analysis during mechanism\n",
    "design, or it can be computed in a software library in microseconds for\n",
    "tasks like motion prediction, collision detection, or rendering.\n",
    "\n",
    "We shall only describe forward kinematics for serial and articulated\n",
    "robots; methods for parallel robots will be covered in the next chapter.\n",
    "\n",
    "### 2D forward kinematics for a serial robot\n",
    "\n",
    "First, let us derive the forward kinematics for an $n$R serial robot.\n",
    "There are $n$ links $l_1,\\ldots,l_n$, with the 1st link attached to the\n",
    "world by a revolute joint, and the remaining $n-1$ links attached to the\n",
    "prior link by a revolute joint. Assume that at the 0 position, the\n",
    "links' coordinate frames are defined by their reference transforms to\n",
    "the world coordinate system: $$T_1^{ref}, T_2^{ref},\\ldots, T_n^{ref}.$$\n",
    "To make notation more convenient we shall represent these by $3\\times 3$\n",
    "matrices in homogeneous coordinates. We shall also assume that each\n",
    "joint $j_1,\\ldots,j_n$ is placed at the origin of the frame of $l_i$,\n",
    "and each joint angle $q_i$ gives the angle of link $l_i$ *relative* to\n",
    "its parent link, not in absolute heading.\n",
    "\n",
    "#### Deriving the general-purpose formula\n",
    "\n",
    "When the first joint rotates by angle $q_1$, the frame of the first link $T_1(q_1)$ is changed. $T_1(q_1)$ can be derived by observing how a point $X$ attached to $l_i$ would be moved. Let $\\textbf{x}_1$ be the coordinates of this point relative to the link's frame (augmented with a 1, in homogeneous coordinates).\n",
    "\n",
    "First, observe that relative to $l_1$'s reference frame, $X$ has coordinates $R(q_1)\\textbf{x}_1$ because the link was rotated about the origin:\n",
    "$$\\textbf{x}_1^{ref} = R(q_{1}) \\textbf{x}_{1} = \\begin{bmatrix} {\\cos q_1} & {-\\sin q_1} & {0} \\\\ {\\sin q_1} & {\\cos q_1} & {0} \\\\ 0 & 0 & 1 \n",
    "\\end{bmatrix}.$$\n"
   ]
  },
  {
   "cell_type": "markdown",
   "metadata": {},
   "source": [
    "\n",
    "Next, we can convert coordinates in $l_1$'s\n",
    "reference frame to the world via multiplication by $T_1^{ref}$ to obtain\n",
    "the final value of $X$'s world coordinates, $\\textbf{x}_W$:\n",
    "$$\\textbf{x}_W = T_1^{ref} R(q_1) \\textbf{x}_1.$$ We can now define\n",
    "$T_1(q_1) \\equiv T_1^{ref} R(q_1)$ as the frame of link 1.\n",
    "\n",
    "Let us proceed to link 2, which moves in space as a function of both\n",
    "$q_1$ and $q_2$. Imagine $X$ now be a point attached to link 2, and let\n",
    "$\\textbf{x}_2$ be its coordinates with respect to the link's frame. Due to\n",
    "the serial nature of the chain, we can imagine first rotating link 2 by\n",
    "angle $q_2$ and then rotating link 1 by angle $q_1$. To perform this\n",
    "operation, let us proceed with the following order of transformations:\n",
    "\n",
    "1.  Rotate link 2, i.e, converts from link 2's moved frame to link 2's\n",
    "    reference frame: $\\textbf{x}_2 \\rightarrow \\textbf{x}_2^{ref}$,\n",
    "\n",
    "2.  Change coordinates to link 1, i.e., convert from link 2's reference\n",
    "    frame to link 1's moved frame: $\\textbf{x}_2^{ref} \\rightarrow \\textbf{x}_1$,\n",
    "\n",
    "3.  Apply link 1's transform, i.e., rotate link 1 and perform the change\n",
    "    of coordinates to the world frame: $V{x}_1 \\rightarrow V{x}_W$.\n",
    "\n",
    "As before the first transform consists of a rotation about the origin:\n",
    "$$\\textbf{x}_2^{ref} = R(q_2) \\textbf{x}_2.$$ Next, we convert to link 1's\n",
    "coordinates. Note that those coordinates will be the same whether link 1\n",
    "is rotated or not, since the entire substructure after link 1 rotates in\n",
    "unison. As a result we can perform this change of coordinates at the\n",
    "reference configuration, which yields the following formula:\n",
    "$$\\textbf{x}_1 = (T_1^{ref})^{-1} T_2^{ref} \\textbf{x}_2^{ref}$$ which first\n",
    "changes from $T_2$'s reference frame to the world, then back to $T_1$'s\n",
    "reference frame.\n",
    "\n",
    "Finally, the third step is simply an application of $T_1(q_1)$ as\n",
    "before: $$\\textbf{x}_W = T_1(q_1) \\textbf{x}_1.$$ Putting this all together, we\n",
    "obtain the equation:\n",
    "$$\\textbf{x}_W = T_1(q_1) (T_1^{ref})^{-1} T_2^{ref} R(q_2) \\textbf{x}_2 = T_2(q_1,q_2) \\textbf{x}_2$$\n",
    "where $T_2(q_1,q_2) = T_1(q_1) (T_1^{ref})^{-1} T_2^{ref} R(q_2)$.\n",
    "\n",
    "Repeating this step down the chain, we find the following recursive\n",
    "equation holds for $i > 1$:\n",
    "$$T_{i}(q_1,\\ldots,q_i) = T_{i-1}(q_1,\\ldots,q_{i-1}) (T_{i-1}^{ref})^{-1} T_i^{ref} R(q_i).$$\n",
    "This can be simplified further by assuming the reference *parent\n",
    "transforms* are given by the relative transforms\n",
    "$T_{i\\rightarrow i-1}^{ref} \\equiv (T_{i-1}^{ref})^{-1} T_i^{ref}$. The\n",
    "simplified equation is:\n",
    "$$T_{i}(q) = T_{i-1}(q) T_{i\\rightarrow i-1}^{ref} R(q_i).\n",
    "\\label{eq:RecursiveForwardKinematics}$$ Reading this equation from right\n",
    "to left, the three steps described above become clear: 1) rotate about\n",
    "the joint, 2) convert to the coordinates of the parent link, 3)\n",
    "transform by the parent's transform.\n",
    "\n",
    "#### Canonical examples\n",
    "\n",
    "Let us now work out an example analytically. By judiciously choosing\n",
    "reference frames, a canonical planar $n$R robot is defined by link\n",
    "lengths $L_1,\\ldots, L_{n-1}$ giving the distance between subsequent\n",
    "joints. The reference transform of link 1 is placed $L_0$ units away\n",
    "from the world coordinate system on the $x$ axis, and the reference\n",
    "transform of link $i > 1$ to be placed $L_{i}$ units away from its\n",
    "parent along the $x$ axis. We will also define an end effector point at\n",
    "distance $L_n$ from the origin of the $n$th joint, also translated along\n",
    "the $x$ axis.\n",
    "\n",
    "With this convention, we have the reference transforms given by:\n",
    "\n",
    "$$T_{i\\rightarrow i-1}^{ref} = \\begin{bmatrix}\n",
    "1 & 0 & L_{i-1} \\\\\n",
    "0 & 1 & 0 \\\\\n",
    "0 & 0 & 1 \n",
    "\\end{bmatrix}$$\n",
    "\n",
    "Hence, we derive the first link's transform:\n",
    "\n",
    "$$T_1(q_1) = \\begin{bmatrix} 1 & 0 & L_0  \\\\ 0 & 1 & 0 \\\\ 0 & 0 & 1 \\end{bmatrix} \\begin{bmatrix} \\cos q_1 & -\\sin q_1 & 0 \\\\ \\sin q_1 & \\cos q_1 & 0 \\\\ 0 & 0 & 1 \\end{bmatrix} = \\begin{bmatrix} \\cos q_1 & -\\sin q_1 & L_0 \\\\ \\sin q_1 & \\cos q_1 & 0 \\\\ 0 & 0 & 1 \\end{bmatrix}$$\n",
    "\n",
    "Then, the second link's transform are given by:\n",
    "$$T_2(q_1,q_2) = T_1(q_1) \n",
    "\\begin{bmatrix}\n",
    "1 & 0 & L_1 \\\\\n",
    "0 & 1 & 0 \\\\\n",
    "0 & 0 & 1 \n",
    "\\end{bmatrix}\n",
    "\\begin{bmatrix}\n",
    "\\cos q_2 & -\\sin q_2 & 0 \\\\\n",
    "\\sin q_2 & \\cos q_2 & 0 \\\\\n",
    "0 & 0 & 1 \n",
    "\\end{bmatrix} $$\n",
    "$${} = \\begin{bmatrix}\n",
    "c_1 & -s_1 & L_0 \\\\\n",
    "s_1 & c_1 & 0 \\\\\n",
    "0 & 0 & 1 \n",
    "\\end{bmatrix}\n",
    "\\begin{bmatrix}\n",
    "c_2 & -s_2 & L_1 \\\\\n",
    "s_2 & c_2 & 0 \\\\\n",
    "0 & 0 & 1 \n",
    "\\end{bmatrix} = \\begin{bmatrix}\n",
    "c_{12} & -s_{12} & L_0 + c_1 L_1\\\\\n",
    "s_{12} & c_{12} & s_1 L_1 \\\\\n",
    "0 & 0 & 1 \n",
    "\\end{bmatrix}$$\n",
    "\n",
    "where the shorthand $c_i = \\cos q_i$, $s_i = \\sin q_i$,\n",
    "and $c_{12} = \\cos (q_1 + q_2)$, $s_{12} = \\sin (q_1 + q_2)$ is used,\n",
    "and some trigonometric operations were used to simplify the final\n",
    "equality.\n",
    "\n",
    "If this were a 2R manipulator, and we wished to derive the coordinates\n",
    "of the end effector point, we simply apply this transform to the point\n",
    "$(L_2, 0, 1)$ to obtain:\n",
    "$$T_2(q_1,q_2) \\begin{bmatrix}L_2 \\\\ 0 \\\\ 1 \\end{bmatrix} = \\begin{bmatrix} L_0 + c_1 L_1 + c_{12} L_2 \\\\ s_1 L_1 + s_{12}L_2 \\\\ 1 \\end{bmatrix}$$\n"
   ]
  },
  {
   "cell_type": "markdown",
   "metadata": {},
   "source": [
    "This notation is shown below in [Fig. 2](#fig:planar2RNotation)\n",
    "\n",
    "*************\n",
    "\n",
    "![fig:planar2RNotation](figures/modeling/planar_2R.svg)\n",
    "\n",
    "<div class=\"figcaption\"> <a name=\"fig:planar2RNotation\">Figure 2</a>.\n",
    "    Standard notation for a 2R manipulator.\n",
    "</div>\n",
    "\n",
    "*************\n",
    "\n",
    "More generally, if we are given an $n$ link robot and define\n",
    "$c_{1,...,k} = \\cos(\\sum_{i=1}^k q_i)$ and\n",
    "$s_{1,...,k} = \\sin(\\sum_{i=1}^k q_i)$, we have the world coordinates of\n",
    "the end effector point given by:\n",
    "$$T_n(\\textbf{q})\\begin{bmatrix}L_n \\\\ 0 \\\\ 1 \\end{bmatrix} = \\begin{bmatrix}L_0 \\\\ 0 \\\\ 1 \\end{bmatrix} + \\sum_{i=1}^n \\begin{bmatrix}L_i c_{1,\\ldots,i} \\\\ L_i s_{1,\\ldots,i} \\\\ 0 \\end{bmatrix}.$$"
   ]
  },
  {
   "cell_type": "markdown",
   "metadata": {},
   "source": [
    "### 2D forward kinematics for branched revolute robots\n",
    "\n",
    "Branched robots can be handled by a similar formula, except additional\n",
    "bookkeeping is necessary to represent the robot's structure. We order\n",
    "the parent and child of each joint with the convention that each link is\n",
    "the child of exactly one joint, and hence has only one parent. The\n",
    "parent of link $i$ is denoted $p[i]$, with the base link attached by a\n",
    "joint to the world, denoted by $p[i] = W$.\n",
    "\n",
    "The modification to\n",
    "($\\ref{eq:RecursiveForwardKinematics}$) is simple. Rather than using\n",
    "the prior index in the recursive formula, we use the parent index:\n",
    "$$T_{i}(q) = T_{p[i]}(q) T_{i\\rightarrow p[i]}^{ref} R(q_i)\n",
    "\\label{eq:RecursiveForwardKinematicsBranched}$$ if $p[i] \\neq W$ and\n",
    "$$T_{i}(q) = T_{i}^{ref} R(q_i)\n",
    "\\label{eq:RecursiveForwardKinematicsBase}$$ otherwise.\n",
    "\n",
    "### Handling 2D prismatic joints\n",
    "\n",
    "To handle prismatic joints in 2D, we must modify the forward kinematics\n",
    "to replace the rotations $R(q_i)$ with a translation that depend on\n",
    "$q_i$. In addition to link lengths, we will also need to define the axis\n",
    "of translation $\\textbf{a}_i = (a_{i,x},a_{i,y})$, with coordinates given\n",
    "relative to the child link's frame.\n",
    "\n",
    "For those, we will replace the expression of $R(q_i)$ with the\n",
    "following: $$P(q_i) =  \\begin{bmatrix}\n",
    "1 & 0 & a_{i,x} q_i \\\\\n",
    "0 & 1 & a_{i,y} q_i \\\\\n",
    "0 & 0 & 1\n",
    "\\end{bmatrix}.$$"
   ]
  },
  {
   "cell_type": "markdown",
   "metadata": {},
   "source": [
    "For example, we derive the transform of the second link of an RP\n",
    "manipulator, whose prismatic axis moves along the $x$ axis, as follows:\n",
    "$$ T_2(q_1,q_2) = T_1(q_1) \\begin{bmatrix} 1 & 0 & L_1 \\\\ 0 & 1 & 0 \\\\ 0 & 0 & 1  \\end{bmatrix} \\begin{bmatrix}\n",
    "1 & 0 & q_2 \\\\\n",
    "0 & 1 & 0 \\\\\n",
    "0 & 0 & 1\n",
    "\\end{bmatrix} $$\n",
    "\n",
    "$${} = \\begin{bmatrix}\n",
    "c_1 & -s_1 & L_0 \\\\\n",
    "s_1 & c_1 & 0 \\\\\n",
    "0 & 0 & 1 \n",
    "\\end{bmatrix}\n",
    "\\begin{bmatrix}\n",
    "1 & 0 & L_1+q_2 \\\\\n",
    "0 & 1 & 0 \\\\\n",
    "0 & 0 & 1 \n",
    "\\end{bmatrix}  $$\n",
    "\n",
    "$${} = \\begin{bmatrix}\n",
    "c_1 & -s_1 & L_0 + c_1(L_1 + q_2) \\\\\n",
    "s_1 & c_1 & s_1(L_1 + q_2) \\\\\n",
    "0 & 0 & 1 \n",
    "\\end{bmatrix}$$"
   ]
  },
  {
   "cell_type": "markdown",
   "metadata": {},
   "source": [
    "To represent this compactly, we slightly modify\n",
    "($\\ref{eq:RecursiveForwardKinematicsBranched}$). Let us define for\n",
    "$i=1,\\ldots,n$, the following kinematic parameters:\n",
    "\n",
    "-   The parent index $p[i]$.\n",
    "\n",
    "-   The reference transform $T_{i\\rightarrow p[i]}^{ref}$\n",
    "\n",
    "-   An indicator variable $z_i$ which is 1 if the joint is revolute, and\n",
    "    0 if the joint is prismatic.\n",
    "\n",
    "-   The translational axis $\\textbf{a}_i$, given in link $i$'s local frame.\n",
    "    (Ignored for revolute joints.)\n",
    "\n",
    "Then, the forward kinematics are defined by:\n",
    "$$T_{i}(q) = T_{p[i]}(q) T_{i\\rightarrow p[i]}^{ref} L_{z_i,\\textbf{a}_i}(q_i)\n",
    "\\label{eq:RecursiveForwardKinematicsGeneralized}$$ where $T_{W}(q)$ is\n",
    "the identity and $L_{z_i,\\textbf{a}_i}(q_i)$ is the local joint transform\n",
    "$$L_{z,\\textbf{a}}(q) = \n",
    "\\begin{bmatrix}\n",
    "\\cos zq & -\\sin zq & (1-z) a_x q \\\\\n",
    "\\sin zq & \\cos zq & (1-z) a_y q \\\\\n",
    "0 & 0 & 1\n",
    "\\end{bmatrix}.$$\n",
    "\n",
    "### 3D forward kinematics\n",
    "\n",
    "In 3D, forward kinematics is essentially identical to\n",
    "($\\ref{eq:RecursiveForwardKinematicsGeneralized}$), except that\n",
    "homogeneous coordinate matrices are $4\\times 4$, and both prismatic and\n",
    "revolute joints must be defined according an axis\n",
    "$\\textbf{a}_i = (a_{i,x},a_{i,y},a_{i,z})$. As before, this axis is specified\n",
    "in coordinates relative to the child link's frame.\n",
    "\n",
    "In the case of a prismatic joint, we replace $L_{0,\\textbf{a}}(q_i)$ with the\n",
    "matrix:\n",
    "$$L_{0,\\textbf{a}}(q_i) = \\left[\\begin{array}{cccc}\n",
    "1 & 0 & 0 & a_{i,x} q_i \\\\\n",
    "0 & 1 & 0 & a_{i,y} q_i \\\\\n",
    "0 & 0 & 1 & a_{i,z} q_i \\\\\n",
    "0 & 0 & 0 & 1\n",
    "\\end{array}\\right].$$ In the case of a revolute joint, we use the\n",
    "axis-angle parametrization:\n",
    "$$L_{1,\\textbf{a}}(q_i) = \\left[\\begin{array}{ccc|c}\n",
    "  &                   &   & 0 \\\\\n",
    "  & R_{aa}(\\textbf{a},q_i) &   & 0 \\\\\n",
    "  &                   &   & 0 \\\\\n",
    "\\hline\n",
    "0 & 0 & 0 & 1\n",
    "\\end{array}\\right].$$ (This *block matrix* representation indicates that\n",
    "the upper-left $3\\times 3$ matrix is replaced by the rotation matrix\n",
    "derived from the axis-angle parameterization $R_{aa}$.)\n",
    "\n",
    "### Examples \n",
    "\n",
    "Consider a 2RP spherical manipulator whose first axis rotates about the\n",
    "$z$ axis, the second about the $y$ axis, and the prismatic joint\n",
    "translates about the $x$ axis. All reference frames are aligned with the\n",
    "world frame (that is, $L_1=0$ in\n",
    "[Fig. 3](#fig:2RPManipulator)).\n",
    "\n",
    "******************\n",
    "\n",
    "![fig:2RPManipulator](figures/modeling/2RP.png)\n",
    "\n",
    "<div class=\"figcaption\"><a name=\"fig:2RPManipulator\">Figure 3</a>\n",
    "A spherical manipulator. Without loss of generality, we can consider\n",
    "the \"shoulder\" to be the world origin ($L_1=0$), and the third\n",
    "configuration variable $q_3$ to be the distance of the end effector to\n",
    "the shoulder. (Generalizing to other coordinate conventions simply\n",
    "requires adding the right\n",
    "offsets.</div>\n",
    "\n",
    "******************\n",
    "\n",
    "With this definition, $T_{i\\rightarrow p[i]}^{ref} = I$ for each link.\n",
    "So, the transform of the third link is given by $$T_3(q) = \n",
    "\\left[\\begin{array}{ccc|c}\n",
    "  &          &   & 0 \\\\\n",
    "  & R_z(q_1) &   & 0 \\\\\n",
    "  &          &   & 0 \\\\\n",
    "\\hline\n",
    "0 & 0 & 0 & 1\n",
    "\\end{array}\\right]\n",
    "\\left[\\begin{array}{ccc|c}\n",
    "  &          &   & 0 \\\\\n",
    "  & R_y(q_2) &   & 0 \\\\\n",
    "  &          &   & 0 \\\\\n",
    "\\hline\n",
    "0 & 0 & 0 & 1\n",
    "\\end{array}\\right]\n",
    "\\left[\\begin{array}{ccc|c}\n",
    "  &   &   & q_3 \\\\\n",
    "  & I &   & 0 \\\\\n",
    "  &   &   & 0 \\\\\n",
    "\\hline\n",
    "0 & 0 & 0 & 1\n",
    "\\end{array}\\right]$$\n"
   ]
  },
  {
   "cell_type": "markdown",
   "metadata": {},
   "source": [
    "The first two matrix multiplications compute the\n",
    "homogeneous representation of \n",
    "$$\n",
    " R_z(q_1) R_y(q_2)\n",
    " = \\left[\\begin{array}{ccc}\n",
    " c_1 & -s_1 & 0 \\\\\n",
    " s_1 &  c_1 & 0 \\\\\n",
    " 0   &   0  & 1\n",
    " \\end{array}\\right]\n",
    " \\left[\\begin{array}{ccc}\n",
    " c_2  & 0 & s_2 \\\\\n",
    " 0    & 1 & 0   \\\\\n",
    " -s_2 & 0 & c_2\n",
    " \\end{array}\\right] = \n",
    " \\left[\\begin{array}{ccc}\n",
    " c_1 c_2  & -s_1 & c_1 s_2 \\\\\n",
    " s_1 c_2  & c_1  & s_1 s_2  \\\\\n",
    " -s_2     & 0    & c_2\n",
    " \\end{array}\\right].\n",
    "$$\n"
   ]
  },
  {
   "cell_type": "markdown",
   "metadata": {},
   "source": [
    "Hence, the final result is\n",
    "\n",
    "$$T_3(q) = \n",
    "\\left[\\begin{array}{ccc|c}\n",
    "  &                  &   &   \\\\\n",
    "  & R_z(q_1)R_y(q_2) &   & R_z(q_1)R_y(q_2)\\textbf{e}_1 q_3 \\\\\n",
    "  &                  &   &    \\\\\n",
    "\\hline\n",
    "0 & 0 & 0 & 1\n",
    "\\end{array}\\right]$$ where again we have used block matrix\n",
    "representation, and $\\textbf{e}_1 = (1,0,0)$. In other words, the origin of\n",
    "the third frame is:\n",
    "$$T_3(q)\\left[\\begin{array}{c}0 \\\\ 0 \\\\ 0 \\\\ 1\\end{array}\\right] =\n",
    "\\left[\\begin{array}{c} \\\\ R_z(q_1)R_y(q_2)\\textbf{e}_1 q_3  \\\\ \\\\ \\hline 1 \\end{array}\\right] =\n",
    "\\left[\\begin{array}{c} c_1 c_2 q_3 \\\\ s_1 c_2 q_3 \\\\ -s_2 q_3 \\\\ 1 \\end{array}\\right].$$\n",
    "Note that the vertical component of this point is proportional to the\n",
    "*negative* of $\\sin q_2$, which may not be expected because $q_2$ could\n",
    "be mistakenly be considered to be an elevation angle of the translation\n",
    "axis. The reason is that rotations about the $y$ axis rotate CCW about\n",
    "the $(z,x)$ plane, not the $(x,z)$ plane. To change the interpretation\n",
    "so that $q_2$ measures the elevation angle, the second axis of rotation\n",
    "could be rotated so that $\\textbf{a}_2 = (0,-1,0)$, or equivalently, that the\n",
    "reference transform $T_2^{ref}$ rotates $\\pi$ radians about either the\n",
    "$x$ or $z$ axis.\n",
    "\n",
    "### Kinematics conventions\n",
    "\n",
    "As we defined the layout of a robot's kinematic structure above, we\n",
    "store the following parameters for each link $i=1,\\ldots,n$: parents\n",
    "$p[i]$, reference relative transforms $T_{i\\rightarrow p[i]}^{ref}$,\n",
    "joint types $z_i$, and translational or rotational axes $\\textbf{a}_i$ .\n",
    "\n",
    "However, our 2RP example showed that there are multiple choices of\n",
    "frames and axes that define the exact same robot dimensions. In fact,\n",
    "there are an infinite number of equivalent representations formed by\n",
    "modifying reference frames and joint axes so that the axes represent the\n",
    "same quantities in world coordinates. Moreover, we may rotate or\n",
    "translate a link's reference frame arbitrarily around its joint axis, as\n",
    "long as we correct for the shift in its zero position. For some\n",
    "purposes, it is useful to reduce the number of parameters specifying a\n",
    "robot's reference frame by choosing a *convention*. We have already seen\n",
    "a convention where we have chosen to place joint axes at the origin of\n",
    "the child frame; in general, the joint could have been placed\n",
    "arbitrarily in space.\n",
    "\n",
    "#### Planar robot convention\n",
    "\n",
    "We have also seen the standard convention for 2D planar robots in the\n",
    "$n$R example, in which we chose to align the reference frame with the\n",
    "$x$ axis. Here, by a change of world frame and zero positions, we need\n",
    "only represent the lengths between joints $L_0,L_1,...,L_n$. By a shift\n",
    "of the world frame, we could also eliminate the parameter $L_0$.\n",
    "\n",
    "In the case where prismatic joints are present, we only need represent\n",
    "the direction of translation $\\textbf{a}_i$. But even these two parameters\n",
    "are excessive, since directions are unit vectors. Hence, we can simply\n",
    "represent the heading angle $\\theta_i$ such that\n",
    "$\\textbf{a}_i = (\\cos \\theta_i, \\sin \\theta_i)$.\n",
    "\n",
    "As a result, a minimum set of kinematic parameters for a 2D robot are\n",
    "the link lengths $L_1,\\ldots,L_n$ and the headings of any translational\n",
    "axes $\\theta_i$.\n",
    "\n",
    "#### Denavit-Hartenberg convention\n",
    "\n",
    "*Denavit-Hartenberg convention* is a well-known minimal parameter\n",
    "convention for 3D serial robot kinematics. In this convention, joint\n",
    "axes are always aligned to the $z$ axis of each child link, and the\n",
    "offset between joints is always pointing along the $x$ axis of the\n",
    "parent link. It is usually not the most convenient representation for\n",
    "the purposes of robot design and forward kinematics calculations, but\n",
    "due to the minimal number of parameters used (4 per link) it remains\n",
    "popular for robot structure optimization problems, like in robot\n",
    "calibration.\n",
    "\n",
    "### A single-pass forward kinematics algorithm\n",
    "\n",
    "Forward kinematics can be computed through a single pass through the\n",
    "links, and for typical robots (at most hundreds of links), this process\n",
    "can be performed in a matter of microseconds.\n",
    "\n",
    "To do so, we order links so that the parent occurs earlier in the\n",
    "ordering than $i$, i.e., $p[i] < i$. By convention, the base link is\n",
    "index 1 and has its parent equal to the world: $p[1] = W$. (Such an\n",
    "ordering exists, and can be calculated by a *topological sort* on the\n",
    "link graph, such as a depth first search.)\n",
    "\n",
    "Forward kinematics can then be calculated as given as\n",
    "[Algorithm 1](#alg:ForwardKinematics):\n",
    "\n",
    "*************\n",
    "\n",
    "<a name=\"alg:ForwardKinematics\">Algorithm 1</a>. **Forward kinematics**\n",
    "\n",
    "1. $T_W(q) \\gets I$.\n",
    "\n",
    "2. **For** $i=1,\\ldots,N$ in topologically sorted order:\n",
    "\n",
    "3. &nbsp;&nbsp;&nbsp;Use ($\\ref{eq:RecursiveForwardKinematicsGeneralized}$) to calculate\n",
    "$T_i(q)$ using the stored value of $T_{p[i]}(q)$.\n",
    "\n",
    "4.  &nbsp;&nbsp;&nbsp;Store $T_i(q)$.\n",
    "\n",
    "5. **Return** $T_1,\\ldots,T_N$\n",
    "\n",
    "*************\n",
    "\n",
    "After the algorithm is complete, all link frames $T_1,\\ldots,T_N$ are calculated with\n",
    "respect to the world frame.\n",
    "\n",
    "### Robot kinematic definition files\n",
    "\n",
    "Although deriving a closed-form symbolic expression for forward\n",
    "kinematics is helpful for some purposes, it is often more convenient and\n",
    "less error-prone to let a software package calculate forward kinematics\n",
    "using Algorithm 1. These packages will use the kinematic parameters from\n",
    "a given robot specification (usually a file) for forward kinematics\n",
    "calculations.\n",
    "\n",
    "ROS introduced the Universal Robot Description Format (URDF), which\n",
    "defines the kinematics of a robot (as well as masses, geometry, joint\n",
    "limits, and more) using an XML-based syntax. Although this was not the\n",
    "first type of robot file format, it became popularized due to the\n",
    "success of ROS, and now URDF files are widely used in many other\n",
    "robotics packages (including Klamp't). The main elements of URDF files\n",
    "are links and joints, given under the following structure:\n",
    "\n",
    "```xml\n",
    "<robot name=\"My 2R robot\">\n",
    "  <link name=\"base_link\"> \n",
    "     ...\n",
    "  </link> \n",
    "  \n",
    "  <link name=\"link_1\"> \n",
    "     ...    \n",
    "  </link> \n",
    "  \n",
    "  <link name=\"link_2\"> \n",
    "     ...\n",
    "  </link> \n",
    "  \n",
    "  <joint name=\"joint_1\" type=\"revolute\">\n",
    "    ...\n",
    "    <parent link=\"base_link\"/>\n",
    "    <child link=\"link_1\"/>\n",
    "  </joint>\n",
    "  \n",
    "  <joint name=\"joint_2\" type=\"revolute\">\n",
    "     ...\n",
    "    <parent link=\"link_1\"/>\n",
    "    <child link=\"link_2\"/>\n",
    "  </joint>\n",
    "</robot>\n",
    "```\n",
    "\n",
    "The ordering of links and joints in the file does not matter. Note that\n",
    "although this is only a 2R robot, there are actually three links\n",
    "including a privileged \"base\\_link\" that is attached to the world. Each\n",
    "joint connects two links, which are given by the \"parent\" and \"child\"\n",
    "attributes. URDF only supports robots with tree topology --- this is\n",
    "enforced by requiring a link to be a child of at most one joint.\n",
    "Somewhat contrary to our definition, there is no notion of a link's\n",
    "reference frame in URDF, and rather, reference frames are associated\n",
    "with 1) a link's inertial frame, 2) a link's visual geometry's frame, 3)\n",
    "link's collision geometry's frame, or 4) a joint. The closest analogue\n",
    "in URDF to our definition of a link's frame is actually *the frame of\n",
    "the joint for which it is a child*.\n",
    "\n",
    "The link element contains three sub-elements: visual, collision, and\n",
    "inertial. Respectively, these describe the appearance of the link for\n",
    "visualization purposes, the shape of the link for collision detection\n",
    "purposes, and the link's inertial parameters, like it's mass and center\n",
    "of mass. An example of a grey cylinder extending 1 unit along the x axis\n",
    "is as follows:\n",
    "\n",
    "```xml\n",
    "<link name=\"link_1\">\n",
    "  <visual>\n",
    "    <origin xyz=\"0 0 0\" rpy=\"0 1.5708 0\" />\n",
    "    <geometry>\n",
    "      <cylinder length=\"1\" radius=\"0.1\"/>\n",
    "    </geometry>\n",
    "    <material name=\"grey\">\n",
    "      <color rgba=\"0.6 0.6 .6 1\"/>\n",
    "    </material>\n",
    "  </visual>\n",
    "  <collision>\n",
    "    <origin xyz=\"0 0 0\" rpy=\"0 1.5708 0\" />\n",
    "    <geometry>\n",
    "      <cylinder length=\"1.0\" radius=\"0.1\"/>\n",
    "    </geometry>\n",
    "  </collision>\n",
    "  <inertial>\n",
    "    <mass value=\"2.0\"/>\n",
    "    <inertia ixx=\"0.2\" ixy=\"0.0\" ixz=\"0.0\" iyy=\"0.6\" iyz=\"0.0\" izz=\"0.6\"/>\n",
    "  </inertial>\n",
    "</link>\n",
    "```\n",
    "\n",
    "Origins of frames are given in world coordinates, with roll-pitch-yaw\n",
    "convention for the orientation of each frame. We will discuss geometry\n",
    "and inertial properties in later chapters.\n",
    "\n",
    "A joint can contain a number of items for simulation, but its primary\n",
    "sub-elements are as follows:\n",
    "\n",
    "```xml\n",
    "<joint name=\"joint_2\" type=\"revolute\">\n",
    "  <origin xyz=\"1 0 0\" rpy=\"0 0 0\"/>\n",
    "  <axis xyz=\"0 1 0\"/>\n",
    "  <parent link=\"link_1\" />\n",
    "  <child link=\"link_2\" />\n",
    "</joint>\n",
    "```\n",
    "\n",
    "The most relevant elements to the kinematic structure of a robot are the\n",
    "origin and axis elements, which respectively give the reference\n",
    "transform $T_{i}^{ref}$ and joint axis $\\textbf{a}_i$ (both in world\n",
    "coordinates).\n",
    "\n",
    "Besides revolute and prismatic types, joints can also be of a \"fixed\"\n",
    "type, which simply attaches two links together, at the joint's frame of\n",
    "reference. This is often used in URDF files simply to define dummy\n",
    "frames that do not correspond to any moving part of the robot, but\n",
    "rather define useful reference frames attached to the robot, such as\n",
    "camera reference frames or end effector points. As an example, an\n",
    "end-effector frame for the 2R robot above could be defined with\n",
    "\n",
    "```xml\n",
    "<link name=\"end_effector\">\n",
    "</link>\n",
    "<joint name=\"end_effector\" type=\"fixed\">\n",
    "  <origin xyz=\"2 0 0\"/>\n",
    "</joint>\n",
    "```\n",
    "\n",
    "Several software libraries, such as Klamp't and Orocos KDL, will compute\n",
    "forward kinematics for any robot specified in URDF format. As an example\n",
    "in Klamp't, the following code prints the end effector position of the\n",
    "2R robot given above at the configuration $(\\pi/4,\\pi/4)$:\n"
   ]
  },
  {
   "cell_type": "code",
   "execution_count": 9,
   "metadata": {},
   "outputs": [
    {
     "name": "stdout",
     "output_type": "stream",
     "text": [
      "World position of point at q=(pi/4,pi/4): [0.7071067811865476, 1.707106781186548, 0.0]\n",
      "World position of the end_effector frame [0.7071067811865476, 1.707106781186548, 0.0]\n"
     ]
    }
   ],
   "source": [
    "#Code for doing basic forward kinematics with Klamp't\n",
    "from __future__ import print_function,division\n",
    "from klampt import *\n",
    "import math\n",
    "world = WorldModel()\n",
    "res = world.readFile(\"data/planar2R.urdf\")\n",
    "assert res, \"There was an error loading data/planar2R.urdf\"\n",
    "robot = world.robot(0)\n",
    "#modifies the current configuration of the robot -- the 3rd element is just the end effector frame\n",
    "robot.setConfig([math.pi/4,math.pi/4,0])\n",
    "#returns the world coordinates of a point on link_2 whose local coordinates are [1,0,0]\n",
    "print(\"World position of point at q=(pi/4,pi/4):\",robot.link(\"link_2\").getWorldPosition([1,0,0]))\n",
    "#or, with the end effector frame added... \n",
    "#getTransform() returns a pair (R,t) giving the rotation and translation of the\n",
    "#end effector frame, so the R,t = ... syntax extracts the translation only\n",
    "R,t = robot.link(\"end_effector\").getTransform()\n",
    "print(\"World position of the end_effector frame\",t)"
   ]
  },
  {
   "cell_type": "markdown",
   "metadata": {},
   "source": [
    "Note that Klamp't numbers the links as they are listed in the URDF file, and assigns a configuration degree-of-freedom to each link.  Hence, the 4-element configuration provided in line 7 addresses the links base_link, link_1, link_2, and the dummy end_effector frame."
   ]
  },
  {
   "cell_type": "markdown",
   "metadata": {},
   "source": [
    "Summary\n",
    "-------\n",
    "\n",
    "Key takeaways:\n",
    "\n",
    "-   The kinematics of a robot relate the joint angles of a robot to the\n",
    "    coordinate frames of its links.\n",
    "\n",
    "-   A robot's configuration is a minimal expression of its links\n",
    "    position, and usually consists of the robot's joint angles. The\n",
    "    variables defining the configuration are the robot's degrees of\n",
    "    freedom.\n",
    "\n",
    "-   The topology of a robot structure is defined by its joint types\n",
    "    (e.g., revolute, prismatic, and spherical) and how they are\n",
    "    connected. Along with its link lengths and joint axes, this defines\n",
    "    its kinematic structure.\n",
    "\n",
    "-   A robot's reachable workspace is the range of end effector locations\n",
    "    it could reach (and optionally orientations).\n",
    "\n",
    "-   Forward kinematics computes the coordinate frames corresponding to\n",
    "    robot's configuration. It can be computed for all links in a serial\n",
    "    or branched robot with a single-pass algorithm.\n",
    "\n",
    "-   Software for calculating forward kinematics should be available in\n",
    "    any major robotics package."
   ]
  },
  {
   "cell_type": "markdown",
   "metadata": {},
   "source": [
    "Exercises\n",
    "---------\n",
    "\n",
    "TODO\\...\n",
    "\n",
    "1.  Describe the configuration space of 1) a door (with a handle), 2)\n",
    "    your arm, 3) a bicycle, 4) a car, and 5) your body while standing.\n",
    "    How many links, joints, and closed loops do each system have? How\n",
    "    many degrees of freedom are available in each system?\n",
    "\n",
    "2.  Suppose a 2R manipulator with unit link lengths and joint limits of\n",
    "    $\\pm 45^\\circ$. Illustrate the workspace of its end effector\n",
    "    position as precisely as possible. Then, illustrate the workspace of\n",
    "    its end effector $y$ position and angle $\\theta$.\n",
    "\n",
    "3.  Suppose in an $n$-link serial robot, we've computed all the frames\n",
    "    for configuration $\\bf{q}$. Now, suppose only one joint angle $i$ is\n",
    "    changed from $q_i \\rightarrow q_i^\\prime$. What is the minimal\n",
    "    number of operations that must we perform to determine\n",
    "    $T_n(\\bf{q}^\\prime)$?\n",
    "\n",
    "4.  Implement a workspace approximation algorithm that takes a 6-link\n",
    "    industrial robot as input, and calculates an approximate\n",
    "    end-effector position workspace. You should loop through all\n",
    "    combinations of joint angles within its joint range, up to a\n",
    "    resolution of $10^\\circ$, and for each configuration calculates the\n",
    "    end effector position using forward kinematics. Output and plot\n",
    "    these points using a 3D graphing program, such as Matlab or Excel.\n",
    "    What kind of shape do the points approximate? How densely or\n",
    "    sparsely is this shape sampled?\n"
   ]
  },
  {
   "cell_type": "markdown",
   "metadata": {},
   "source": [
    "## Interactive examples\n",
    "\n",
    "The following interactive examples require Klampt-jupyter-extension and Klamp't to be installed on your system.  Instructions can be found at\n",
    "[https://github.com/krishauser/Klampt-jupyter-extension](https://github.com/krishauser/Klampt-jupyter-extension)"
   ]
  },
  {
   "cell_type": "markdown",
   "metadata": {},
   "source": [
    "### 2R planar robot\n",
    "\n",
    "This example lets you manipulate the configuration of a simple 2R robot to observe how the frames of its links change as joint values change.  The coordinates of the end effector point (1,0,0) are also updated."
   ]
  },
  {
   "cell_type": "code",
   "execution_count": 2,
   "metadata": {
    "code_folding": [
     0
    ]
   },
   "outputs": [
    {
     "data": {
      "application/vnd.jupyter.widget-view+json": {
       "model_id": "1f4c09ff20b34a2aa3cd7244d77ee5c2",
       "version_major": 2,
       "version_minor": 0
      },
      "text/plain": [
       "KlamptWidget(camera={'near': 0.1, 'target': {'y': 0, 'x': 0, 'z': 0}, 'far': 1000, 'position': {'y': 6.7025634…"
      ]
     },
     "metadata": {},
     "output_type": "display_data"
    },
    {
     "data": {
      "application/vnd.jupyter.widget-view+json": {
       "model_id": "80ca3387f2fb4035a68b086c5630e177",
       "version_major": 2,
       "version_minor": 0
      },
      "text/plain": [
       "VBox(children=(FloatSlider(value=0.0, description='Link 0', max=6.28319, step=0.001), FloatSlider(value=0.0, d…"
      ]
     },
     "metadata": {},
     "output_type": "display_data"
    }
   ],
   "source": [
    "#Code for the interactive example (run me!)\n",
    "import time\n",
    "from klampt import *\n",
    "from klampt.math import so3,vectorops\n",
    "import math\n",
    "from IPython.display import HTML,clear_output\n",
    "import ipywidgets as widgets\n",
    "from klampt.vis import ipython as ipyklampt\n",
    "\n",
    "world = WorldModel()\n",
    "world.readFile(\"data/planar2R.rob\")\n",
    "robot = world.robot(0)\n",
    "ee_local = (1,0,0)  #end effector coordinates\n",
    "robot.link(0).appearance().setColor(0.4,0.4,0.4)\n",
    "robot.link(1).appearance().setColor(0.2,0.2,0.2)\n",
    "kvis = ipyklampt.KlamptWidget(world,width=400,height=400)\n",
    "#look down\n",
    "kvis.setCamera({u'near': 0.1, u'target': {u'y': 0, u'x': 0, u'z': 0}, u'far': 1000, u'position': {u'y': 6.702563444149367, u'x': 0.27057631353305844, u'z': -0.049312632332197764}, u'up': {u'y': 0.44113772676914204, u'x': -0.003726563135538217, u'z': -0.897431679153433}})\n",
    "\n",
    "#called whenever configuration is edited\n",
    "def config_update_cb(index,value):\n",
    "    kvis.beginRpc()\n",
    "    for i in range(robot.numLinks()):\n",
    "        Ti = robot.link(i).getTransform()\n",
    "        kvis.addXform(\"xform\"+str(i),length=0.5,width=2.0)\n",
    "        kvis.setTransform(\"xform\"+str(i),R=Ti[0],t=vectorops.add(Ti[1],[0,0,0.1]))\n",
    "    x,y,z = robot.link(robot.numLinks()-1).getWorldPosition(ee_local)\n",
    "    kvis.addSphere(\"ee_position\",x,y,z,0.05)\n",
    "    kvis.addText(\"wcoords\",text=\"World coords: %f %f %f\"%(x,y,z),position=(1,1))\n",
    "    kvis.endRpc()\n",
    "config_widget = ipyklampt.EditConfig(world.robot(0),kvis,link_selector='all',callback=config_update_cb)\n",
    "\n",
    "x,y,z = robot.link(1).getWorldPosition(ee_local)\n",
    "\n",
    "display(kvis)\n",
    "display(config_widget)"
   ]
  },
  {
   "cell_type": "markdown",
   "metadata": {},
   "source": [
    "### RP planar robot"
   ]
  },
  {
   "cell_type": "code",
   "execution_count": 2,
   "metadata": {
    "code_folding": [
     0
    ]
   },
   "outputs": [
    {
     "data": {
      "application/vnd.jupyter.widget-view+json": {
       "model_id": "5ae2d528ec2044fc897482f436520b05",
       "version_major": 2,
       "version_minor": 0
      },
      "text/plain": [
       "KlamptWidget(camera={'near': 0.1, 'target': {'y': 0, 'x': 0, 'z': 0}, 'far': 1000, 'position': {'y': 6.7025634…"
      ]
     },
     "metadata": {},
     "output_type": "display_data"
    },
    {
     "data": {
      "application/vnd.jupyter.widget-view+json": {
       "model_id": "fd8ae4b1832b492f8380221af57e4c06",
       "version_major": 2,
       "version_minor": 0
      },
      "text/plain": [
       "VBox(children=(FloatSlider(value=0.0, description='Link 0', max=6.28319, step=0.001), FloatSlider(value=1.0, d…"
      ]
     },
     "metadata": {},
     "output_type": "display_data"
    }
   ],
   "source": [
    "#Code for the interactive example (run me!)\n",
    "import time\n",
    "from klampt import *\n",
    "from klampt.math import so3,vectorops\n",
    "import math\n",
    "from IPython.display import HTML,clear_output\n",
    "import ipywidgets as widgets\n",
    "from klampt.vis import ipython as ipyklampt\n",
    "\n",
    "world = WorldModel()\n",
    "world.readFile(\"data/planarRP.rob\")\n",
    "robot = world.robot(0)\n",
    "ee_local = (1,0,0)  #end effector coordinates\n",
    "robot.link(0).appearance().setColor(0.4,0.4,0.4)\n",
    "robot.link(1).appearance().setColor(0.2,0.2,0.2)\n",
    "kvis = ipyklampt.KlamptWidget(world,width=400,height=400)\n",
    "#look down\n",
    "kvis.setCamera({u'near': 0.1, u'target': {u'y': 0, u'x': 0, u'z': 0}, u'far': 1000, u'position': {u'y': 6.702563444149367, u'x': 0.27057631353305844, u'z': -0.049312632332197764}, u'up': {u'y': 0.44113772676914204, u'x': -0.003726563135538217, u'z': -0.897431679153433}})\n",
    "\n",
    "#called whenever configuration is edited\n",
    "def config_update_cb(index,value):\n",
    "    kvis.beginRpc()\n",
    "    for i in range(robot.numLinks()):\n",
    "        Ti = robot.link(i).getTransform()\n",
    "        kvis.addXform(\"xform\"+str(i),length=0.5,width=2.0)\n",
    "        kvis.setTransform(\"xform\"+str(i),R=Ti[0],t=vectorops.add(Ti[1],[0,0,0.1]))\n",
    "    x,y,z = robot.link(robot.numLinks()-1).getWorldPosition(ee_local)\n",
    "    kvis.addSphere(\"ee_position\",x,y,z,0.05)\n",
    "    kvis.addText(\"wcoords\",text=\"World coords: %f %f %f\"%(x,y,z),position=(1,1))\n",
    "    kvis.endRpc()\n",
    "config_widget = ipyklampt.EditConfig(world.robot(0),kvis,link_selector='all',callback=config_update_cb)\n",
    "\n",
    "x,y,z = robot.link(1).getWorldPosition(ee_local)\n",
    "\n",
    "display(kvis)\n",
    "display(config_widget)"
   ]
  },
  {
   "cell_type": "markdown",
   "metadata": {},
   "source": [
    "### 6DOF industrial manipulator "
   ]
  },
  {
   "cell_type": "code",
   "execution_count": 1,
   "metadata": {
    "code_folding": [
     0
    ]
   },
   "outputs": [
    {
     "name": "stdout",
     "output_type": "stream",
     "text": [
      "***  klampt.vis: using Qt5 as the visualization backend  ***\n"
     ]
    },
    {
     "data": {
      "application/vnd.jupyter.widget-view+json": {
       "model_id": "a2942de3b05d412a9674a7e824e2a101",
       "version_major": 2,
       "version_minor": 0
      },
      "text/plain": [
       "KlamptWidget(height=400, scene={'metadata': {'version': 4.4, 'type': 'Object', 'fullscene': True, 'generator':…"
      ]
     },
     "metadata": {},
     "output_type": "display_data"
    },
    {
     "data": {
      "application/vnd.jupyter.widget-view+json": {
       "model_id": "f664b21e4a5a4fd5bd3621de7256b7b4",
       "version_major": 2,
       "version_minor": 0
      },
      "text/plain": [
       "VBox(children=(FloatSlider(value=0.0, description='Link 1', max=3.12413936106985, min=-3.12413936106985, step=…"
      ]
     },
     "metadata": {},
     "output_type": "display_data"
    }
   ],
   "source": [
    "#Code for the interactive example (run me!)\n",
    "import time\n",
    "from klampt import *\n",
    "from klampt.math import so3,vectorops\n",
    "import math\n",
    "from IPython.display import HTML,clear_output\n",
    "import ipywidgets as widgets\n",
    "from klampt.vis import ipython as ipyklampt\n",
    "\n",
    "world = WorldModel()\n",
    "world.readFile(\"data/tx90l.rob\")\n",
    "robot = world.robot(0)\n",
    "ee_local = (0,0,0)  #end effector coordinates\n",
    "robot.link(0).appearance().setColor(0.4,0.4,0.4)\n",
    "robot.link(1).appearance().setColor(0.2,0.2,0.2)\n",
    "kvis = ipyklampt.KlamptWidget(world,width=400,height=400)\n",
    "\n",
    "#called whenever configuration is edited\n",
    "def config_update_cb(index,value):\n",
    "    kvis.beginRpc()\n",
    "    for i in range(robot.numLinks()):\n",
    "        Ti = robot.link(i).getTransform()\n",
    "        kvis.addXform(\"xform\"+str(i),length=0.5,width=2.0)\n",
    "        kvis.setTransform(\"xform\"+str(i),R=Ti[0],t=Ti[1])\n",
    "    x,y,z = robot.link(robot.numLinks()-1).getWorldPosition(ee_local)\n",
    "    kvis.addSphere(\"ee_position\",x,y,z,0.05)\n",
    "    kvis.addText(\"wcoords\",text=\"World coords: %f %f %f\"%(x,y,z),position=(1,1))\n",
    "    kvis.endRpc()\n",
    "config_widget = ipyklampt.EditConfig(world.robot(0),kvis,link_selector='all',callback=config_update_cb)\n",
    "\n",
    "x,y,z = robot.link(1).getWorldPosition(ee_local)\n",
    "\n",
    "display(kvis)\n",
    "display(config_widget)"
   ]
  },
  {
   "cell_type": "code",
   "execution_count": null,
   "metadata": {},
   "outputs": [],
   "source": []
  }
 ],
 "metadata": {
  "kernelspec": {
   "display_name": "cs498ir-virtualenv",
   "language": "python",
   "name": "cs498ir-virtualenv"
  },
  "language_info": {
   "codemirror_mode": {
    "name": "ipython",
    "version": 3
   },
   "file_extension": ".py",
   "mimetype": "text/x-python",
   "name": "python",
   "nbconvert_exporter": "python",
   "pygments_lexer": "ipython3",
   "version": "3.7.5"
  },
  "latex_envs": {
   "LaTeX_envs_menu_present": true,
   "autoclose": false,
   "autocomplete": true,
   "bibliofile": "biblio.bib",
   "cite_by": "apalike",
   "current_citInitial": 1,
   "eqLabelWithNumbers": true,
   "eqNumInitial": 1,
   "hotkeys": {
    "equation": "Ctrl-E",
    "itemize": "Ctrl-I"
   },
   "labels_anchors": false,
   "latex_user_defs": true,
   "report_style_numbering": false,
   "user_envs_cfg": false
  },
  "toc": {
   "base_numbering": 1,
   "nav_menu": {},
   "number_sections": true,
   "sideBar": true,
   "skip_h1_title": true,
   "title_cell": "Table of Contents",
   "title_sidebar": "Contents",
   "toc_cell": false,
   "toc_position": {
    "height": "calc(100% - 180px)",
    "left": "10px",
    "top": "150px",
    "width": "307.2px"
   },
   "toc_section_display": true,
   "toc_window_display": true
  },
  "widgets": {
   "application/vnd.jupyter.widget-state+json": {
    "state": {
     "005d4c6862ac4cb3909b59150f021677": {
      "model_module": "klampt-jupyter-widget",
      "model_module_version": "0.1.0",
      "model_name": "KlamptModel",
      "state": {
       "_camera": {
        "far": 1000,
        "near": 0.1,
        "position": {
         "x": -0.8273207626199235,
         "y": 1.5477906034379822,
         "z": 2.7418417360615597
        },
        "r": 1,
        "target": {
         "x": 0,
         "y": 0,
         "z": 0
        },
        "up": {
         "x": -0.16091427565201663,
         "y": 0.9842510242948026,
         "z": -0.07318823037905163
        }
       },
       "camera": {
        "far": 1000,
        "near": 0.1,
        "position": {
         "x": 0.27057631353305844,
         "y": 6.702563444149367,
         "z": -0.049312632332197764
        },
        "target": {
         "x": 0,
         "y": 0,
         "z": 0
        },
        "up": {
         "x": -0.003726563135538217,
         "y": 0.44113772676914204,
         "z": -0.897431679153433
        }
       },
       "drawn": 0,
       "events": [],
       "height": 400,
       "layout": "IPY_MODEL_d50f6952df734b508601180b4c3b603e",
       "rpc": {
        "calls": [
         {
          "length": 0.5,
          "name": "xform0",
          "type": "add_xform",
          "width": 2
         },
         {
          "matrix": [
           1,
           0,
           0,
           0,
           0,
           1,
           0,
           0,
           0,
           0,
           1,
           0.2,
           0,
           0,
           0,
           1
          ],
          "object": "xform0",
          "type": "set_transform"
         },
         {
          "length": 0.5,
          "name": "xform1",
          "type": "add_xform",
          "width": 2
         },
         {
          "matrix": [
           0.6516792995087568,
           -0.7584946213334516,
           0,
           1,
           0.7584946213334516,
           0.6516792995087568,
           0,
           0,
           0,
           0,
           1,
           0.2,
           0,
           0,
           0,
           1
          ],
          "object": "xform1",
          "type": "set_transform"
         }
        ],
        "type": "multiple"
       },
       "scene": {
        "geometries": [
         {
          "data": {
           "faces": [
            0,
            0,
            1,
            3,
            0,
            0,
            3,
            2,
            0,
            4,
            6,
            7,
            0,
            4,
            7,
            5,
            0,
            0,
            4,
            5,
            0,
            0,
            5,
            1,
            0,
            2,
            3,
            7,
            0,
            2,
            7,
            6,
            0,
            0,
            2,
            6,
            0,
            0,
            6,
            4,
            0,
            1,
            5,
            7,
            0,
            1,
            7,
            3
           ],
           "scale": 1,
           "vertices": [
            0,
            -0.05,
            -0.05,
            0,
            -0.05,
            0.05,
            0,
            0.05,
            -0.05,
            0,
            0.05,
            0.05,
            1,
            -0.05,
            -0.05,
            1,
            -0.05,
            0.05,
            1,
            0.05,
            -0.05,
            1,
            0.05,
            0.05
           ]
          },
          "type": "Geometry",
          "uuid": "53a7b7dc-b69f-4ac2-8514-0503813c8345"
         },
         {
          "data": {
           "faces": [
            0,
            0,
            1,
            3,
            0,
            0,
            3,
            2,
            0,
            4,
            6,
            7,
            0,
            4,
            7,
            5,
            0,
            0,
            4,
            5,
            0,
            0,
            5,
            1,
            0,
            2,
            3,
            7,
            0,
            2,
            7,
            6,
            0,
            0,
            2,
            6,
            0,
            0,
            6,
            4,
            0,
            1,
            5,
            7,
            0,
            1,
            7,
            3
           ],
           "scale": 1,
           "vertices": [
            0,
            -0.05,
            -0.05,
            0,
            -0.05,
            0.05,
            0,
            0.05,
            -0.05,
            0,
            0.05,
            0.05,
            1,
            -0.05,
            -0.05,
            1,
            -0.05,
            0.05,
            1,
            0.05,
            -0.05,
            1,
            0.05,
            0.05
           ]
          },
          "type": "Geometry",
          "uuid": "cf420855-d768-496f-8cc2-92a7cb25a825"
         }
        ],
        "materials": [
         {
          "color": 12550015,
          "emissive": 0,
          "type": "MeshPhongMaterial",
          "uuid": "5403d214-e6b6-4b2a-9bdb-7305a5a9ec16"
         },
         {
          "color": 8372095,
          "emissive": 0,
          "type": "MeshPhongMaterial",
          "uuid": "9410713d-0412-4c14-9153-e50d87f7ae6f"
         }
        ],
        "metadata": {
         "fullscene": true,
         "generator": "Klampt three.js export",
         "type": "Object",
         "version": 4.4
        },
        "object": {
         "children": [
          {
           "children": [
            {
             "children": [
              {
               "geometry": "cf420855-d768-496f-8cc2-92a7cb25a825",
               "material": "9410713d-0412-4c14-9153-e50d87f7ae6f",
               "matrix": [
                1,
                0,
                0,
                0,
                0,
                1,
                0,
                0,
                0,
                0,
                1,
                0,
                1,
                0,
                0,
                1
               ],
               "name": "Link 1",
               "type": "Mesh",
               "uuid": "d7d05349-75d0-42e6-a060-382fd5c43ea8"
              }
             ],
             "geometry": "53a7b7dc-b69f-4ac2-8514-0503813c8345",
             "material": "5403d214-e6b6-4b2a-9bdb-7305a5a9ec16",
             "matrix": [
              1,
              0,
              0,
              0,
              0,
              1,
              0,
              0,
              0,
              0,
              1,
              0,
              0,
              0,
              0,
              1
             ],
             "name": "Link 0",
             "type": "Mesh",
             "uuid": "9d45319c-7c63-40ea-9aa5-3d471b40389a"
            }
           ],
           "matrix": [
            1,
            0,
            0,
            0,
            0,
            1,
            0,
            0,
            0,
            0,
            1,
            0,
            0,
            0,
            0,
            1
           ],
           "name": "planar2R",
           "type": "Group",
           "uuid": "f39b2dd4-426f-45fc-a108-51ba7052e21b"
          },
          {
           "color": 16777215,
           "intensity": 1,
           "name": "DirectionalLight 1",
           "position": [
            2,
            -3,
            9
           ],
           "target": {
            "position": [
             0,
             null,
             null
            ]
           },
           "type": "DirectionalLight",
           "uuid": "30231acb-a2d9-4a93-983a-ae667794385e"
          }
         ],
         "matrix": [
          1,
          0,
          0,
          0,
          0,
          0,
          -1,
          0,
          0,
          1,
          0,
          0,
          0,
          0,
          0,
          1
         ],
         "name": "world",
         "type": "Scene",
         "uuid": "35355497-1656-4acb-80e5-2b84ade79392"
        }
       },
       "transforms": {
        "metadata": {
         "fullscene": false,
         "generator": "Klampt three.js export",
         "type": "Object",
         "version": 4.4
        },
        "object": [
         {
          "matrix": [
           1,
           0,
           0,
           0,
           0,
           0,
           -1,
           0,
           0,
           1,
           0,
           0,
           0,
           0,
           0,
           1
          ],
          "name": "world"
         },
         {
          "matrix": [
           1,
           0,
           0,
           0,
           0,
           1,
           0,
           0,
           0,
           0,
           1,
           0,
           0,
           0,
           0,
           1
          ],
          "name": "planar2R"
         },
         {
          "matrix": [
           1,
           0,
           0,
           0,
           0,
           1,
           0,
           0,
           0,
           0,
           1,
           0,
           0,
           0,
           0,
           1
          ],
          "name": "Link 0"
         },
         {
          "matrix": [
           0.651679,
           0.758495,
           0,
           0,
           -0.758495,
           0.651679,
           0,
           0,
           0,
           0,
           1,
           0,
           1,
           0,
           0,
           1
          ],
          "name": "Link 1"
         }
        ]
       },
       "width": 400
      }
     },
     "0595bbfbde6b4e248a9a8c0d62376347": {
      "model_module": "@jupyter-widgets/controls",
      "model_module_version": "1.4.0",
      "model_name": "VBoxModel",
      "state": {
       "children": [
        "IPY_MODEL_30a3e6f7aa4049b5bb865294efdd964c",
        "IPY_MODEL_2ef82ee362d8432b85ecc7e8400d009e"
       ],
       "layout": "IPY_MODEL_7ec63221bb884306b56c3859adc3733d"
      }
     },
     "098f22e8e9f6453ebba4a0ff3ce9d3f6": {
      "model_module": "klampt-jupyter-widget",
      "model_module_version": "0.1.0",
      "model_name": "KlamptModel",
      "state": {
       "_camera": {
        "far": 1000,
        "near": 0.1,
        "position": {
         "x": 0.27057631353305844,
         "y": 6.702563444149367,
         "z": -0.049312632332197764
        },
        "r": 1,
        "target": {
         "x": 0,
         "y": 0,
         "z": 0
        },
        "up": {
         "x": -0.003726563135538217,
         "y": 0.44113772676914204,
         "z": -0.897431679153433
        }
       },
       "camera": {
        "far": 1000,
        "near": 0.1,
        "position": {
         "x": 0.27057631353305844,
         "y": 6.702563444149367,
         "z": -0.049312632332197764
        },
        "target": {
         "x": 0,
         "y": 0,
         "z": 0
        },
        "up": {
         "x": -0.003726563135538217,
         "y": 0.44113772676914204,
         "z": -0.897431679153433
        }
       },
       "drawn": 0,
       "events": [],
       "height": 400,
       "layout": "IPY_MODEL_f7ea97a551f44d13a88f2cf70219d167",
       "rpc": {
        "calls": [
         {
          "length": 0.5,
          "name": "xform0",
          "type": "add_xform",
          "width": 2
         },
         {
          "matrix": [
           0.6516792995087568,
           -0.7584946213334516,
           0,
           0,
           0.7584946213334516,
           0.6516792995087568,
           0,
           0,
           0,
           0,
           1,
           0.1,
           0,
           0,
           0,
           1
          ],
          "object": "xform0",
          "type": "set_transform"
         },
         {
          "length": 0.5,
          "name": "xform1",
          "type": "add_xform",
          "width": 2
         },
         {
          "matrix": [
           -0.1506281811835521,
           -0.988590487023487,
           0,
           0.6516792995087568,
           0.988590487023487,
           -0.1506281811835521,
           0,
           0.7584946213334516,
           0,
           0,
           1,
           0.1,
           0,
           0,
           0,
           1
          ],
          "object": "xform1",
          "type": "set_transform"
         }
        ],
        "type": "multiple"
       },
       "scene": {
        "geometries": [
         {
          "data": {
           "faces": [
            0,
            0,
            1,
            3,
            0,
            0,
            3,
            2,
            0,
            4,
            6,
            7,
            0,
            4,
            7,
            5,
            0,
            0,
            4,
            5,
            0,
            0,
            5,
            1,
            0,
            2,
            3,
            7,
            0,
            2,
            7,
            6,
            0,
            0,
            2,
            6,
            0,
            0,
            6,
            4,
            0,
            1,
            5,
            7,
            0,
            1,
            7,
            3
           ],
           "scale": 1,
           "vertices": [
            0,
            -0.05,
            -0.05,
            0,
            -0.05,
            0.05,
            0,
            0.05,
            -0.05,
            0,
            0.05,
            0.05,
            1,
            -0.05,
            -0.05,
            1,
            -0.05,
            0.05,
            1,
            0.05,
            -0.05,
            1,
            0.05,
            0.05
           ]
          },
          "type": "Geometry",
          "uuid": "e46631dc-b2dc-4ad7-8526-24cfd2de3f31"
         },
         {
          "data": {
           "faces": [
            0,
            0,
            1,
            3,
            0,
            0,
            3,
            2,
            0,
            4,
            6,
            7,
            0,
            4,
            7,
            5,
            0,
            0,
            4,
            5,
            0,
            0,
            5,
            1,
            0,
            2,
            3,
            7,
            0,
            2,
            7,
            6,
            0,
            0,
            2,
            6,
            0,
            0,
            6,
            4,
            0,
            1,
            5,
            7,
            0,
            1,
            7,
            3
           ],
           "scale": 1,
           "vertices": [
            0,
            -0.05,
            -0.05,
            0,
            -0.05,
            0.05,
            0,
            0.05,
            -0.05,
            0,
            0.05,
            0.05,
            1,
            -0.05,
            -0.05,
            1,
            -0.05,
            0.05,
            1,
            0.05,
            -0.05,
            1,
            0.05,
            0.05
           ]
          },
          "type": "Geometry",
          "uuid": "ebad6e37-6273-44d6-8100-eb63d3c426e0"
         }
        ],
        "materials": [
         {
          "color": 6710886,
          "emissive": 0,
          "type": "MeshPhongMaterial",
          "uuid": "dbc66b83-26e7-43b5-a75d-232aa9bfb923"
         },
         {
          "color": 3355443,
          "emissive": 0,
          "type": "MeshPhongMaterial",
          "uuid": "84192fdd-558c-4c3e-bb85-eff63aea74ac"
         }
        ],
        "metadata": {
         "fullscene": true,
         "generator": "Klampt three.js export",
         "type": "Object",
         "version": 4.4
        },
        "object": {
         "children": [
          {
           "children": [
            {
             "children": [
              {
               "geometry": "ebad6e37-6273-44d6-8100-eb63d3c426e0",
               "material": "84192fdd-558c-4c3e-bb85-eff63aea74ac",
               "matrix": [
                1,
                0,
                0,
                0,
                0,
                1,
                0,
                0,
                0,
                0,
                1,
                0,
                1,
                0,
                0,
                1
               ],
               "name": "Link 1",
               "type": "Mesh",
               "uuid": "31bd6c96-f734-4fd9-bfd3-589c26d82386"
              }
             ],
             "geometry": "e46631dc-b2dc-4ad7-8526-24cfd2de3f31",
             "material": "dbc66b83-26e7-43b5-a75d-232aa9bfb923",
             "matrix": [
              1,
              0,
              0,
              0,
              0,
              1,
              0,
              0,
              0,
              0,
              1,
              0,
              0,
              0,
              0,
              1
             ],
             "name": "Link 0",
             "type": "Mesh",
             "uuid": "b1d50bc1-6d2d-4a07-8ba4-70b73cdb9da3"
            }
           ],
           "matrix": [
            1,
            0,
            0,
            0,
            0,
            1,
            0,
            0,
            0,
            0,
            1,
            0,
            0,
            0,
            0,
            1
           ],
           "name": "planar2R",
           "type": "Group",
           "uuid": "77297d95-3c57-4667-9370-e6760f020ed7"
          },
          {
           "color": 16777215,
           "intensity": 1,
           "name": "DirectionalLight 1",
           "position": [
            2,
            -3,
            9
           ],
           "target": {
            "position": [
             0,
             null,
             null
            ]
           },
           "type": "DirectionalLight",
           "uuid": "62293257-0ad7-4c37-ab6b-5d8cea091d9b"
          }
         ],
         "matrix": [
          1,
          0,
          0,
          0,
          0,
          0,
          -1,
          0,
          0,
          1,
          0,
          0,
          0,
          0,
          0,
          1
         ],
         "name": "world",
         "type": "Scene",
         "uuid": "e667d8aa-807f-4132-9d21-11569036d946"
        }
       },
       "transforms": {
        "metadata": {
         "fullscene": false,
         "generator": "Klampt three.js export",
         "type": "Object",
         "version": 4.4
        },
        "object": [
         {
          "matrix": [
           1,
           0,
           0,
           0,
           0,
           0,
           -1,
           0,
           0,
           1,
           0,
           0,
           0,
           0,
           0,
           1
          ],
          "name": "world"
         },
         {
          "matrix": [
           1,
           0,
           0,
           0,
           0,
           1,
           0,
           0,
           0,
           0,
           1,
           0,
           0,
           0,
           0,
           1
          ],
          "name": "planar2R"
         },
         {
          "matrix": [
           0.651679,
           0.758495,
           0,
           0,
           -0.758495,
           0.651679,
           0,
           0,
           0,
           0,
           1,
           0,
           0,
           0,
           0,
           1
          ],
          "name": "Link 0"
         },
         {
          "matrix": [
           0.651679,
           0.758495,
           0,
           0,
           -0.758495,
           0.651679,
           0,
           0,
           0,
           0,
           1,
           0,
           1,
           0,
           0,
           1
          ],
          "name": "Link 1"
         }
        ]
       },
       "width": 400
      }
     },
     "0b66df20db494461847216793e7b4868": {
      "model_module": "@jupyter-widgets/base",
      "model_module_version": "1.1.0",
      "model_name": "LayoutModel",
      "state": {}
     },
     "0c149cb83ac34cbaaa2725367745a205": {
      "model_module": "@jupyter-widgets/controls",
      "model_module_version": "1.4.0",
      "model_name": "SliderStyleModel",
      "state": {
       "description_width": ""
      }
     },
     "0f67349b83284167a72b20a2aac7b2be": {
      "model_module": "@jupyter-widgets/base",
      "model_module_version": "1.1.0",
      "model_name": "LayoutModel",
      "state": {}
     },
     "0f90ca2db88d4b489007542f58def84e": {
      "model_module": "@jupyter-widgets/controls",
      "model_module_version": "1.4.0",
      "model_name": "SliderStyleModel",
      "state": {
       "description_width": ""
      }
     },
     "0fce05c7ef35485c993c3d377d6315a8": {
      "model_module": "@jupyter-widgets/base",
      "model_module_version": "1.1.0",
      "model_name": "LayoutModel",
      "state": {}
     },
     "1775e3f0cb7f4f47a4514993e1c9af26": {
      "model_module": "@jupyter-widgets/base",
      "model_module_version": "1.1.0",
      "model_name": "LayoutModel",
      "state": {}
     },
     "1ad9d292b6414d5fb30c666e49245cef": {
      "model_module": "@jupyter-widgets/base",
      "model_module_version": "1.1.0",
      "model_name": "LayoutModel",
      "state": {}
     },
     "1c5cda58587c43948b9b54e5680edcc6": {
      "model_module": "@jupyter-widgets/controls",
      "model_module_version": "1.4.0",
      "model_name": "SliderStyleModel",
      "state": {
       "description_width": ""
      }
     },
     "1e8e304f15d34fb4af1c894a3d40aa51": {
      "model_module": "@jupyter-widgets/controls",
      "model_module_version": "1.4.0",
      "model_name": "FloatSliderModel",
      "state": {
       "description": "Link 1",
       "layout": "IPY_MODEL_3a9147e59ecb48e086d1ee81aa15e85f",
       "max": 6.28319,
       "step": 0.001,
       "style": "IPY_MODEL_9a6299369585472089f081809d167758"
      }
     },
     "1eff3a335db54ee79f35a5f76cc062c0": {
      "model_module": "@jupyter-widgets/base",
      "model_module_version": "1.1.0",
      "model_name": "LayoutModel",
      "state": {}
     },
     "1ffe535f0772495eb0a09cb15b829395": {
      "model_module": "@jupyter-widgets/controls",
      "model_module_version": "1.4.0",
      "model_name": "SliderStyleModel",
      "state": {
       "description_width": ""
      }
     },
     "2167c9da627041ebb87f95bdc1c56d7e": {
      "model_module": "@jupyter-widgets/controls",
      "model_module_version": "1.4.0",
      "model_name": "FloatSliderModel",
      "state": {
       "description": "Link 0",
       "layout": "IPY_MODEL_bd33e8d66eb7470489b44f60d4a304cc",
       "max": 6.28319,
       "step": 0.001,
       "style": "IPY_MODEL_7944fe5806b44368b6148f0bbcbce952"
      }
     },
     "21f09e3d078d4fa8b51b1c73ab2ffe98": {
      "model_module": "@jupyter-widgets/controls",
      "model_module_version": "1.4.0",
      "model_name": "SliderStyleModel",
      "state": {
       "description_width": ""
      }
     },
     "23f00f01e8494097a5859e5dc01f66d2": {
      "model_module": "@jupyter-widgets/base",
      "model_module_version": "1.1.0",
      "model_name": "LayoutModel",
      "state": {}
     },
     "2454e4f63e0f4dc5a73c7b18cf357448": {
      "model_module": "@jupyter-widgets/controls",
      "model_module_version": "1.4.0",
      "model_name": "SliderStyleModel",
      "state": {
       "description_width": ""
      }
     },
     "29420a7c14c94291aac6dd55ee141023": {
      "model_module": "@jupyter-widgets/base",
      "model_module_version": "1.1.0",
      "model_name": "LayoutModel",
      "state": {}
     },
     "2afcf402acc044a59c0a50a0bf5e4c0e": {
      "model_module": "@jupyter-widgets/base",
      "model_module_version": "1.1.0",
      "model_name": "LayoutModel",
      "state": {}
     },
     "2b60efd78ab043379b9e37fa88e4791b": {
      "model_module": "@jupyter-widgets/base",
      "model_module_version": "1.1.0",
      "model_name": "LayoutModel",
      "state": {}
     },
     "2b9b4951a37d4ecdb893f83de604d527": {
      "model_module": "klampt-jupyter-widget",
      "model_module_version": "0.1.0",
      "model_name": "KlamptModel",
      "state": {
       "_camera": {
        "far": 1000,
        "near": 0.1,
        "position": {
         "x": 0.27057631353305844,
         "y": 6.702563444149367,
         "z": -0.049312632332197764
        },
        "r": 1,
        "target": {
         "x": 0,
         "y": 0,
         "z": 0
        },
        "up": {
         "x": -0.003726563135538217,
         "y": 0.44113772676914204,
         "z": -0.897431679153433
        }
       },
       "camera": {
        "far": 1000,
        "near": 0.1,
        "position": {
         "x": 0.27057631353305844,
         "y": 6.702563444149367,
         "z": -0.049312632332197764
        },
        "target": {
         "x": 0,
         "y": 0,
         "z": 0
        },
        "up": {
         "x": -0.003726563135538217,
         "y": 0.44113772676914204,
         "z": -0.897431679153433
        }
       },
       "drawn": 0,
       "events": [],
       "height": 400,
       "layout": "IPY_MODEL_0b66df20db494461847216793e7b4868",
       "rpc": {
        "matrix": [
         -0.00020367320369524267,
         -0.999999979258613,
         0,
         0.8978211168075223,
         0.999999979258613,
         -0.00020367320369524267,
         0,
         0.44036035495318304,
         0,
         0,
         1,
         0,
         0,
         0,
         0,
         1
        ],
        "object": "xform",
        "type": "set_transform"
       },
       "scene": {
        "geometries": [
         {
          "data": {
           "faces": [
            0,
            0,
            1,
            3,
            0,
            0,
            3,
            2,
            0,
            4,
            6,
            7,
            0,
            4,
            7,
            5,
            0,
            0,
            4,
            5,
            0,
            0,
            5,
            1,
            0,
            2,
            3,
            7,
            0,
            2,
            7,
            6,
            0,
            0,
            2,
            6,
            0,
            0,
            6,
            4,
            0,
            1,
            5,
            7,
            0,
            1,
            7,
            3
           ],
           "scale": 1,
           "vertices": [
            0,
            -0.05,
            -0.05,
            0,
            -0.05,
            0.05,
            0,
            0.05,
            -0.05,
            0,
            0.05,
            0.05,
            1,
            -0.05,
            -0.05,
            1,
            -0.05,
            0.05,
            1,
            0.05,
            -0.05,
            1,
            0.05,
            0.05
           ]
          },
          "type": "Geometry",
          "uuid": "a2dcf823-ca6b-47ad-8abc-d3bf7ad51f33"
         },
         {
          "data": {
           "faces": [
            0,
            0,
            1,
            3,
            0,
            0,
            3,
            2,
            0,
            4,
            6,
            7,
            0,
            4,
            7,
            5,
            0,
            0,
            4,
            5,
            0,
            0,
            5,
            1,
            0,
            2,
            3,
            7,
            0,
            2,
            7,
            6,
            0,
            0,
            2,
            6,
            0,
            0,
            6,
            4,
            0,
            1,
            5,
            7,
            0,
            1,
            7,
            3
           ],
           "scale": 1,
           "vertices": [
            0,
            -0.05,
            -0.05,
            0,
            -0.05,
            0.05,
            0,
            0.05,
            -0.05,
            0,
            0.05,
            0.05,
            1,
            -0.05,
            -0.05,
            1,
            -0.05,
            0.05,
            1,
            0.05,
            -0.05,
            1,
            0.05,
            0.05
           ]
          },
          "type": "Geometry",
          "uuid": "dfd5f551-7e85-4106-9458-584b79c64368"
         }
        ],
        "materials": [
         {
          "color": 12550015,
          "emissive": 0,
          "type": "MeshPhongMaterial",
          "uuid": "8ab31b51-2850-466b-9b49-f3bbf22078fb"
         },
         {
          "color": 8372095,
          "emissive": 0,
          "type": "MeshPhongMaterial",
          "uuid": "d86a66e8-a127-4482-aa6b-503052a6053a"
         }
        ],
        "metadata": {
         "fullscene": true,
         "generator": "Klampt three.js export",
         "type": "Object",
         "version": 4.4
        },
        "object": {
         "children": [
          {
           "children": [
            {
             "children": [
              {
               "geometry": "dfd5f551-7e85-4106-9458-584b79c64368",
               "material": "d86a66e8-a127-4482-aa6b-503052a6053a",
               "matrix": [
                1,
                0,
                0,
                0,
                0,
                1,
                0,
                0,
                0,
                0,
                1,
                0,
                1,
                0,
                0,
                1
               ],
               "name": "Link 1",
               "type": "Mesh",
               "uuid": "36d1e40b-1bb2-40d0-9ffe-635aeb8fa679"
              }
             ],
             "geometry": "a2dcf823-ca6b-47ad-8abc-d3bf7ad51f33",
             "material": "8ab31b51-2850-466b-9b49-f3bbf22078fb",
             "matrix": [
              1,
              0,
              0,
              0,
              0,
              1,
              0,
              0,
              0,
              0,
              1,
              0,
              0,
              0,
              0,
              1
             ],
             "name": "Link 0",
             "type": "Mesh",
             "uuid": "fe23228d-757b-48ab-bb1d-6c0ef6e44e88"
            }
           ],
           "matrix": [
            1,
            0,
            0,
            0,
            0,
            1,
            0,
            0,
            0,
            0,
            1,
            0,
            0,
            0,
            0,
            1
           ],
           "name": "planar2R",
           "type": "Group",
           "uuid": "9e2384ae-b70d-43ae-aedf-f9c477a96782"
          },
          {
           "color": 16777215,
           "intensity": 1,
           "name": "DirectionalLight 1",
           "position": [
            2,
            -3,
            9
           ],
           "target": {
            "position": [
             0,
             null,
             null
            ]
           },
           "type": "DirectionalLight",
           "uuid": "c71471b8-6d6e-47aa-8786-6ba32ef05fdf"
          }
         ],
         "matrix": [
          1,
          0,
          0,
          0,
          0,
          0,
          -1,
          0,
          0,
          1,
          0,
          0,
          0,
          0,
          0,
          1
         ],
         "name": "world",
         "type": "Scene",
         "uuid": "627fa6d5-7e8f-4d52-a43c-7959af45119f"
        }
       },
       "transforms": {
        "metadata": {
         "fullscene": false,
         "generator": "Klampt three.js export",
         "type": "Object",
         "version": 4.4
        },
        "object": [
         {
          "matrix": [
           1,
           0,
           0,
           0,
           0,
           0,
           -1,
           0,
           0,
           1,
           0,
           0,
           0,
           0,
           0,
           1
          ],
          "name": "world"
         },
         {
          "matrix": [
           1,
           0,
           0,
           0,
           0,
           1,
           0,
           0,
           0,
           0,
           1,
           0,
           0,
           0,
           0,
           1
          ],
          "name": "planar2R"
         },
         {
          "matrix": [
           0.897821,
           0.44036,
           0,
           0,
           -0.44036,
           0.897821,
           0,
           0,
           0,
           0,
           1,
           0,
           0,
           0,
           0,
           1
          ],
          "name": "Link 0"
         },
         {
          "matrix": [
           0.440177,
           0.897911,
           0,
           0,
           -0.897911,
           0.440177,
           0,
           0,
           0,
           0,
           1,
           0,
           1,
           0,
           0,
           1
          ],
          "name": "Link 1"
         }
        ]
       },
       "width": 400
      }
     },
     "2bf05bfcff22427a94e050c2d6dcd071": {
      "model_module": "@jupyter-widgets/controls",
      "model_module_version": "1.4.0",
      "model_name": "VBoxModel",
      "state": {
       "children": [
        "IPY_MODEL_2167c9da627041ebb87f95bdc1c56d7e",
        "IPY_MODEL_6f5a92f4a16740459bab5a3d4b53cf83"
       ],
       "layout": "IPY_MODEL_8295aeceb10b47a6a9ae41317ce68908"
      }
     },
     "2c8fbaf8da27486abb5b2f3946b13ba4": {
      "model_module": "@jupyter-widgets/controls",
      "model_module_version": "1.4.0",
      "model_name": "FloatSliderModel",
      "state": {
       "description": "Link 1",
       "layout": "IPY_MODEL_7d0c4b264232483db6d121c1700ba8a4",
       "max": 6.28319,
       "step": 0.001,
       "style": "IPY_MODEL_21f09e3d078d4fa8b51b1c73ab2ffe98",
       "value": 1.115
      }
     },
     "2e6b92a3ee7049dc9e4b9891dc2b9d04": {
      "model_module": "@jupyter-widgets/controls",
      "model_module_version": "1.4.0",
      "model_name": "FloatSliderModel",
      "state": {
       "description": "Link 0",
       "layout": "IPY_MODEL_b29a097c5b8f4daeb93beffe7617a28c",
       "max": 6.28319,
       "step": 0.001,
       "style": "IPY_MODEL_96be842124a546eb87713b403bf8dda0",
       "value": 0.456
      }
     },
     "2ef82ee362d8432b85ecc7e8400d009e": {
      "model_module": "@jupyter-widgets/controls",
      "model_module_version": "1.4.0",
      "model_name": "FloatSliderModel",
      "state": {
       "description": "Link 1",
       "layout": "IPY_MODEL_9fdf7bafe93d48a785d5b2217367117b",
       "max": 6.28319,
       "step": 0.001,
       "style": "IPY_MODEL_0f90ca2db88d4b489007542f58def84e",
       "value": 0.811
      }
     },
     "2f6b7a3200ff4c19807b18064f85364b": {
      "model_module": "@jupyter-widgets/controls",
      "model_module_version": "1.4.0",
      "model_name": "FloatSliderModel",
      "state": {
       "description": "Link 0",
       "layout": "IPY_MODEL_7639396744494b6f8a51229d6d342dd3",
       "max": 6.28319,
       "step": 0.001,
       "style": "IPY_MODEL_718db79c41294a53946043a69e714ec8",
       "value": 0.659
      }
     },
     "30a3e6f7aa4049b5bb865294efdd964c": {
      "model_module": "@jupyter-widgets/controls",
      "model_module_version": "1.4.0",
      "model_name": "FloatSliderModel",
      "state": {
       "description": "Link 0",
       "layout": "IPY_MODEL_e381246964af49deb1bff8262b5422b7",
       "max": 6.28319,
       "step": 0.001,
       "style": "IPY_MODEL_582eaa1514ae445590efc8e93f7aa0bc"
      }
     },
     "30d5b9c30ff64395a5b4b1fe130a946c": {
      "model_module": "@jupyter-widgets/base",
      "model_module_version": "1.1.0",
      "model_name": "LayoutModel",
      "state": {}
     },
     "3428f73e1e484ad298b170d75569f90f": {
      "model_module": "@jupyter-widgets/controls",
      "model_module_version": "1.4.0",
      "model_name": "FloatSliderModel",
      "state": {
       "description": "Link 1",
       "layout": "IPY_MODEL_2b60efd78ab043379b9e37fa88e4791b",
       "max": 6.28319,
       "step": 0.001,
       "style": "IPY_MODEL_ef855717cfca430db95eebeab6ee9b80",
       "value": 1.064
      }
     },
     "3773680206b0447489da70a823b30023": {
      "model_module": "@jupyter-widgets/base",
      "model_module_version": "1.1.0",
      "model_name": "LayoutModel",
      "state": {}
     },
     "38e40842b16c414cbd59ed65d36e78a6": {
      "model_module": "@jupyter-widgets/controls",
      "model_module_version": "1.4.0",
      "model_name": "FloatSliderModel",
      "state": {
       "description": "Link 0",
       "layout": "IPY_MODEL_99057d136b0541b68d4bbd6ac307a530",
       "max": 6.28319,
       "step": 0.001,
       "style": "IPY_MODEL_0c149cb83ac34cbaaa2725367745a205"
      }
     },
     "3a9147e59ecb48e086d1ee81aa15e85f": {
      "model_module": "@jupyter-widgets/base",
      "model_module_version": "1.1.0",
      "model_name": "LayoutModel",
      "state": {}
     },
     "3bc68864b2114db1ab5be995bab9aecf": {
      "model_module": "@jupyter-widgets/controls",
      "model_module_version": "1.4.0",
      "model_name": "SliderStyleModel",
      "state": {
       "description_width": ""
      }
     },
     "3f35cc7ffa694d74bc36ed3272c76439": {
      "model_module": "@jupyter-widgets/base",
      "model_module_version": "1.1.0",
      "model_name": "LayoutModel",
      "state": {}
     },
     "43cc5f6724a64354bba8534ec89d233e": {
      "model_module": "@jupyter-widgets/controls",
      "model_module_version": "1.4.0",
      "model_name": "VBoxModel",
      "state": {
       "children": [
        "IPY_MODEL_38e40842b16c414cbd59ed65d36e78a6",
        "IPY_MODEL_d92585982fa3410bb64e35f94feb6ddb"
       ],
       "layout": "IPY_MODEL_0fce05c7ef35485c993c3d377d6315a8"
      }
     },
     "47161b8ebf0648aaa961fb3bd6a843d0": {
      "model_module": "@jupyter-widgets/controls",
      "model_module_version": "1.4.0",
      "model_name": "SliderStyleModel",
      "state": {
       "description_width": ""
      }
     },
     "47a06ea7b88446ebb34981c98437c984": {
      "model_module": "@jupyter-widgets/controls",
      "model_module_version": "1.4.0",
      "model_name": "VBoxModel",
      "state": {
       "children": [
        "IPY_MODEL_f4971590de9f40efac70eed541d61968",
        "IPY_MODEL_3428f73e1e484ad298b170d75569f90f"
       ],
       "layout": "IPY_MODEL_64de793d87c64066997e772402560c89"
      }
     },
     "51ae23838cb44dea9dcde4b9c19be6aa": {
      "model_module": "@jupyter-widgets/controls",
      "model_module_version": "1.4.0",
      "model_name": "FloatSliderModel",
      "state": {
       "description": "Link 0",
       "layout": "IPY_MODEL_e731217ee41445f5a229932ec3041060",
       "max": 6.28319,
       "step": 0.001,
       "style": "IPY_MODEL_1c5cda58587c43948b9b54e5680edcc6"
      }
     },
     "532c6e2665ae46f390a74f4e6682c1b8": {
      "model_module": "klampt-jupyter-widget",
      "model_module_version": "0.1.0",
      "model_name": "KlamptModel",
      "state": {
       "_camera": {
        "far": 1000,
        "near": 0.1,
        "position": {
         "x": 0.27057631353305844,
         "y": 6.702563444149367,
         "z": -0.049312632332197764
        },
        "r": 1,
        "target": {
         "x": 0,
         "y": 0,
         "z": 0
        },
        "up": {
         "x": -0.003726563135538217,
         "y": 0.44113772676914204,
         "z": -0.897431679153433
        }
       },
       "camera": {
        "far": 1000,
        "near": 0.1,
        "position": {
         "x": 0.27057631353305844,
         "y": 6.702563444149367,
         "z": -0.049312632332197764
        },
        "target": {
         "x": 0,
         "y": 0,
         "z": 0
        },
        "up": {
         "x": -0.003726563135538217,
         "y": 0.44113772676914204,
         "z": -0.897431679153433
        }
       },
       "drawn": 0,
       "events": [],
       "height": 400,
       "layout": "IPY_MODEL_1eff3a335db54ee79f35a5f76cc062c0",
       "rpc": {
        "calls": [
         {
          "length": 0.5,
          "name": "xform0",
          "type": "add_xform",
          "width": 2
         },
         {
          "matrix": [
           1,
           0,
           0,
           0,
           0,
           1,
           0,
           0,
           0,
           0,
           1,
           0,
           0,
           0,
           0,
           1
          ],
          "object": "xform0",
          "type": "set_transform"
         },
         {
          "length": 0.5,
          "name": "xform1",
          "type": "add_xform",
          "width": 2
         },
         {
          "matrix": [
           1,
           0,
           0,
           1,
           0,
           1,
           0,
           0,
           0,
           0,
           1,
           0,
           0,
           0,
           0,
           1
          ],
          "object": "xform1",
          "type": "set_transform"
         }
        ],
        "type": "multiple"
       },
       "scene": {
        "geometries": [
         {
          "data": {
           "faces": [
            0,
            0,
            1,
            3,
            0,
            0,
            3,
            2,
            0,
            4,
            6,
            7,
            0,
            4,
            7,
            5,
            0,
            0,
            4,
            5,
            0,
            0,
            5,
            1,
            0,
            2,
            3,
            7,
            0,
            2,
            7,
            6,
            0,
            0,
            2,
            6,
            0,
            0,
            6,
            4,
            0,
            1,
            5,
            7,
            0,
            1,
            7,
            3
           ],
           "scale": 1,
           "vertices": [
            0,
            -0.05,
            -0.05,
            0,
            -0.05,
            0.05,
            0,
            0.05,
            -0.05,
            0,
            0.05,
            0.05,
            1,
            -0.05,
            -0.05,
            1,
            -0.05,
            0.05,
            1,
            0.05,
            -0.05,
            1,
            0.05,
            0.05
           ]
          },
          "type": "Geometry",
          "uuid": "1ef88a3a-da16-4862-932a-6ba9f6e9893c"
         },
         {
          "data": {
           "faces": [
            0,
            0,
            1,
            3,
            0,
            0,
            3,
            2,
            0,
            4,
            6,
            7,
            0,
            4,
            7,
            5,
            0,
            0,
            4,
            5,
            0,
            0,
            5,
            1,
            0,
            2,
            3,
            7,
            0,
            2,
            7,
            6,
            0,
            0,
            2,
            6,
            0,
            0,
            6,
            4,
            0,
            1,
            5,
            7,
            0,
            1,
            7,
            3
           ],
           "scale": 1,
           "vertices": [
            0,
            -0.05,
            -0.05,
            0,
            -0.05,
            0.05,
            0,
            0.05,
            -0.05,
            0,
            0.05,
            0.05,
            1,
            -0.05,
            -0.05,
            1,
            -0.05,
            0.05,
            1,
            0.05,
            -0.05,
            1,
            0.05,
            0.05
           ]
          },
          "type": "Geometry",
          "uuid": "7f643cd6-f126-41d6-995d-3576da394579"
         }
        ],
        "materials": [
         {
          "color": 12550015,
          "emissive": 0,
          "type": "MeshPhongMaterial",
          "uuid": "b2db4083-c8ed-4c4f-880a-64a7850fac1b"
         },
         {
          "color": 8372095,
          "emissive": 0,
          "type": "MeshPhongMaterial",
          "uuid": "a3524423-7165-4e04-b8af-c4e91b20ec80"
         }
        ],
        "metadata": {
         "fullscene": true,
         "generator": "Klampt three.js export",
         "type": "Object",
         "version": 4.4
        },
        "object": {
         "children": [
          {
           "children": [
            {
             "children": [
              {
               "geometry": "7f643cd6-f126-41d6-995d-3576da394579",
               "material": "a3524423-7165-4e04-b8af-c4e91b20ec80",
               "matrix": [
                1,
                0,
                0,
                0,
                0,
                1,
                0,
                0,
                0,
                0,
                1,
                0,
                1,
                0,
                0,
                1
               ],
               "name": "Link 1",
               "type": "Mesh",
               "uuid": "d45c9184-5340-4622-9095-ad9e17e90f49"
              }
             ],
             "geometry": "1ef88a3a-da16-4862-932a-6ba9f6e9893c",
             "material": "b2db4083-c8ed-4c4f-880a-64a7850fac1b",
             "matrix": [
              1,
              0,
              0,
              0,
              0,
              1,
              0,
              0,
              0,
              0,
              1,
              0,
              0,
              0,
              0,
              1
             ],
             "name": "Link 0",
             "type": "Mesh",
             "uuid": "6712bf52-ba47-449e-80c9-2678cd0b3b7e"
            }
           ],
           "matrix": [
            1,
            0,
            0,
            0,
            0,
            1,
            0,
            0,
            0,
            0,
            1,
            0,
            0,
            0,
            0,
            1
           ],
           "name": "planar2R",
           "type": "Group",
           "uuid": "63da4a50-189c-4b56-9cb8-d4edd827656c"
          },
          {
           "color": 16777215,
           "intensity": 1,
           "name": "DirectionalLight 1",
           "position": [
            2,
            -3,
            9
           ],
           "target": {
            "position": [
             0,
             null,
             null
            ]
           },
           "type": "DirectionalLight",
           "uuid": "5b1b861e-c578-498b-8160-dc1bc9ef9ca0"
          }
         ],
         "matrix": [
          1,
          0,
          0,
          0,
          0,
          0,
          -1,
          0,
          0,
          1,
          0,
          0,
          0,
          0,
          0,
          1
         ],
         "name": "world",
         "type": "Scene",
         "uuid": "8a9ccebb-cac6-4783-a5f4-b99cdbeaf03d"
        }
       },
       "transforms": {},
       "width": 400
      }
     },
     "5348f5a14ac947a0a36318ac8f5bcd41": {
      "model_module": "@jupyter-widgets/base",
      "model_module_version": "1.1.0",
      "model_name": "LayoutModel",
      "state": {}
     },
     "58059e632f3a4a658829f0e74da15377": {
      "model_module": "@jupyter-widgets/controls",
      "model_module_version": "1.4.0",
      "model_name": "SliderStyleModel",
      "state": {
       "description_width": ""
      }
     },
     "582eaa1514ae445590efc8e93f7aa0bc": {
      "model_module": "@jupyter-widgets/controls",
      "model_module_version": "1.4.0",
      "model_name": "SliderStyleModel",
      "state": {
       "description_width": ""
      }
     },
     "5d532d1b5d4e4d1db77bc18dd0a0e4c0": {
      "model_module": "@jupyter-widgets/controls",
      "model_module_version": "1.4.0",
      "model_name": "SliderStyleModel",
      "state": {
       "description_width": ""
      }
     },
     "60cd5e4d7d9449bdb962f0277d95ae7f": {
      "model_module": "@jupyter-widgets/controls",
      "model_module_version": "1.4.0",
      "model_name": "FloatSliderModel",
      "state": {
       "description": "Link 0",
       "layout": "IPY_MODEL_8e599253eef54ce89f22021f9b2e53b6",
       "max": 6.28319,
       "step": 0.001,
       "style": "IPY_MODEL_6579a3cc9f334c84a78a14cdd17d54c6",
       "value": 0.76
      }
     },
     "633b50d531744e76a3eabec03c5730ba": {
      "model_module": "@jupyter-widgets/base",
      "model_module_version": "1.1.0",
      "model_name": "LayoutModel",
      "state": {}
     },
     "64de793d87c64066997e772402560c89": {
      "model_module": "@jupyter-widgets/base",
      "model_module_version": "1.1.0",
      "model_name": "LayoutModel",
      "state": {}
     },
     "653da12057b04a1eaf5d113e913750d3": {
      "model_module": "@jupyter-widgets/base",
      "model_module_version": "1.1.0",
      "model_name": "LayoutModel",
      "state": {}
     },
     "6579a3cc9f334c84a78a14cdd17d54c6": {
      "model_module": "@jupyter-widgets/controls",
      "model_module_version": "1.4.0",
      "model_name": "SliderStyleModel",
      "state": {
       "description_width": ""
      }
     },
     "699a19b0d0884a7b8dc5ebce8233ca48": {
      "model_module": "@jupyter-widgets/controls",
      "model_module_version": "1.4.0",
      "model_name": "FloatSliderModel",
      "state": {
       "description": "Link 1",
       "layout": "IPY_MODEL_e52917cb7bc3416f942f42a38da6d813",
       "max": 6.28319,
       "step": 0.001,
       "style": "IPY_MODEL_1ffe535f0772495eb0a09cb15b829395",
       "value": 0.861
      }
     },
     "6e34292a357f43dd93b010716c613efe": {
      "model_module": "klampt-jupyter-widget",
      "model_module_version": "0.1.0",
      "model_name": "KlamptModel",
      "state": {
       "_camera": {
        "far": 1000,
        "near": 0.1,
        "position": {
         "x": 0.27057631353305844,
         "y": 6.702563444149367,
         "z": -0.049312632332197764
        },
        "r": 1,
        "target": {
         "x": 0,
         "y": 0,
         "z": 0
        },
        "up": {
         "x": -0.003726563135538217,
         "y": 0.44113772676914204,
         "z": -0.897431679153433
        }
       },
       "camera": {
        "far": 1000,
        "near": 0.1,
        "position": {
         "x": 0.27057631353305844,
         "y": 6.702563444149367,
         "z": -0.049312632332197764
        },
        "target": {
         "x": 0,
         "y": 0,
         "z": 0
        },
        "up": {
         "x": -0.003726563135538217,
         "y": 0.44113772676914204,
         "z": -0.897431679153433
        }
       },
       "drawn": 0,
       "events": [],
       "height": 400,
       "layout": "IPY_MODEL_cf650a4af75d4a94a18fbb475b0466c8",
       "rpc": {
        "calls": [
         {
          "length": 0.5,
          "name": "xform0",
          "type": "add_xform",
          "width": 2
         },
         {
          "matrix": [
           0.7248360107409052,
           -0.6889214451105513,
           0,
           0,
           0.6889214451105513,
           0.7248360107409052,
           0,
           0,
           0,
           0,
           1,
           0.1,
           0,
           0,
           0,
           1
          ],
          "object": "xform0",
          "type": "set_transform"
         },
         {
          "length": 0.5,
          "name": "xform1",
          "type": "add_xform",
          "width": 2
         },
         {
          "matrix": [
           0.20140913691451745,
           -0.9795072024070824,
           0,
           0.7248360107409052,
           0.9795072024070824,
           0.20140913691451745,
           0,
           0.6889214451105513,
           0,
           0,
           1,
           0.1,
           0,
           0,
           0,
           1
          ],
          "object": "xform1",
          "type": "set_transform"
         }
        ],
        "type": "multiple"
       },
       "scene": {
        "geometries": [
         {
          "data": {
           "faces": [
            0,
            0,
            1,
            3,
            0,
            0,
            3,
            2,
            0,
            4,
            6,
            7,
            0,
            4,
            7,
            5,
            0,
            0,
            4,
            5,
            0,
            0,
            5,
            1,
            0,
            2,
            3,
            7,
            0,
            2,
            7,
            6,
            0,
            0,
            2,
            6,
            0,
            0,
            6,
            4,
            0,
            1,
            5,
            7,
            0,
            1,
            7,
            3
           ],
           "scale": 1,
           "vertices": [
            0,
            -0.05,
            -0.05,
            0,
            -0.05,
            0.05,
            0,
            0.05,
            -0.05,
            0,
            0.05,
            0.05,
            1,
            -0.05,
            -0.05,
            1,
            -0.05,
            0.05,
            1,
            0.05,
            -0.05,
            1,
            0.05,
            0.05
           ]
          },
          "type": "Geometry",
          "uuid": "cd4f9a1c-a3b5-42c3-8937-c28a8649d914"
         },
         {
          "data": {
           "faces": [
            0,
            0,
            1,
            3,
            0,
            0,
            3,
            2,
            0,
            4,
            6,
            7,
            0,
            4,
            7,
            5,
            0,
            0,
            4,
            5,
            0,
            0,
            5,
            1,
            0,
            2,
            3,
            7,
            0,
            2,
            7,
            6,
            0,
            0,
            2,
            6,
            0,
            0,
            6,
            4,
            0,
            1,
            5,
            7,
            0,
            1,
            7,
            3
           ],
           "scale": 1,
           "vertices": [
            0,
            -0.05,
            -0.05,
            0,
            -0.05,
            0.05,
            0,
            0.05,
            -0.05,
            0,
            0.05,
            0.05,
            1,
            -0.05,
            -0.05,
            1,
            -0.05,
            0.05,
            1,
            0.05,
            -0.05,
            1,
            0.05,
            0.05
           ]
          },
          "type": "Geometry",
          "uuid": "20e2b3f9-8cf2-4339-b348-7df173b8d264"
         }
        ],
        "materials": [
         {
          "color": 12550015,
          "emissive": 0,
          "type": "MeshPhongMaterial",
          "uuid": "6c1fa4f9-cdae-48fc-b88e-b740f302bb8e"
         },
         {
          "color": 8372095,
          "emissive": 0,
          "type": "MeshPhongMaterial",
          "uuid": "4fb3811b-c229-4a5d-95e4-926c7df22021"
         }
        ],
        "metadata": {
         "fullscene": true,
         "generator": "Klampt three.js export",
         "type": "Object",
         "version": 4.4
        },
        "object": {
         "children": [
          {
           "children": [
            {
             "children": [
              {
               "geometry": "20e2b3f9-8cf2-4339-b348-7df173b8d264",
               "material": "4fb3811b-c229-4a5d-95e4-926c7df22021",
               "matrix": [
                1,
                0,
                0,
                0,
                0,
                1,
                0,
                0,
                0,
                0,
                1,
                0,
                1,
                0,
                0,
                1
               ],
               "name": "Link 1",
               "type": "Mesh",
               "uuid": "183b0b47-d554-44ef-8cdf-fd5789e058e3"
              }
             ],
             "geometry": "cd4f9a1c-a3b5-42c3-8937-c28a8649d914",
             "material": "6c1fa4f9-cdae-48fc-b88e-b740f302bb8e",
             "matrix": [
              1,
              0,
              0,
              0,
              0,
              1,
              0,
              0,
              0,
              0,
              1,
              0,
              0,
              0,
              0,
              1
             ],
             "name": "Link 0",
             "type": "Mesh",
             "uuid": "cf1a1903-8cba-47ed-bf9b-cba07614245a"
            }
           ],
           "matrix": [
            1,
            0,
            0,
            0,
            0,
            1,
            0,
            0,
            0,
            0,
            1,
            0,
            0,
            0,
            0,
            1
           ],
           "name": "planar2R",
           "type": "Group",
           "uuid": "8a9dfb3e-c06d-4380-9fa9-106df03c427a"
          },
          {
           "color": 16777215,
           "intensity": 1,
           "name": "DirectionalLight 1",
           "position": [
            2,
            -3,
            9
           ],
           "target": {
            "position": [
             0,
             null,
             null
            ]
           },
           "type": "DirectionalLight",
           "uuid": "1b8a19bb-bebb-4fce-b62a-56610e1d247c"
          }
         ],
         "matrix": [
          1,
          0,
          0,
          0,
          0,
          0,
          -1,
          0,
          0,
          1,
          0,
          0,
          0,
          0,
          0,
          1
         ],
         "name": "world",
         "type": "Scene",
         "uuid": "6d96c0bc-1faf-4e9e-a7b3-9984dc538131"
        }
       },
       "transforms": {
        "metadata": {
         "fullscene": false,
         "generator": "Klampt three.js export",
         "type": "Object",
         "version": 4.4
        },
        "object": [
         {
          "matrix": [
           1,
           0,
           0,
           0,
           0,
           0,
           -1,
           0,
           0,
           1,
           0,
           0,
           0,
           0,
           0,
           1
          ],
          "name": "world"
         },
         {
          "matrix": [
           1,
           0,
           0,
           0,
           0,
           1,
           0,
           0,
           0,
           0,
           1,
           0,
           0,
           0,
           0,
           1
          ],
          "name": "planar2R"
         },
         {
          "matrix": [
           0.724836,
           0.688921,
           0,
           0,
           -0.688921,
           0.724836,
           0,
           0,
           0,
           0,
           1,
           0,
           0,
           0,
           0,
           1
          ],
          "name": "Link 0"
         },
         {
          "matrix": [
           0.820792,
           0.571227,
           0,
           0,
           -0.571227,
           0.820792,
           0,
           0,
           0,
           0,
           1,
           0,
           1,
           0,
           0,
           1
          ],
          "name": "Link 1"
         }
        ]
       },
       "width": 400
      }
     },
     "6e4625213cfa4f3a8045d4d86ba8c835": {
      "model_module": "@jupyter-widgets/base",
      "model_module_version": "1.1.0",
      "model_name": "LayoutModel",
      "state": {}
     },
     "6f0b2cb824034a189d79f6c021a8f726": {
      "model_module": "klampt-jupyter-widget",
      "model_module_version": "0.1.0",
      "model_name": "KlamptModel",
      "state": {
       "_camera": {
        "far": 1000,
        "near": 0.1,
        "position": {
         "x": 0.31774839626304663,
         "y": 7.871083604550545,
         "z": -0.05790976170259148
        },
        "r": 1,
        "target": {
         "x": 0,
         "y": 0,
         "z": 0
        },
        "up": {
         "x": -0.003726563135538217,
         "y": 0.44113772676914204,
         "z": -0.897431679153433
        }
       },
       "camera": {
        "far": 1000,
        "near": 0.1,
        "position": {
         "x": 0.27057631353305844,
         "y": 6.702563444149367,
         "z": -0.049312632332197764
        },
        "target": {
         "x": 0,
         "y": 0,
         "z": 0
        },
        "up": {
         "x": -0.003726563135538217,
         "y": 0.44113772676914204,
         "z": -0.897431679153433
        }
       },
       "drawn": 0,
       "events": [],
       "height": 400,
       "layout": "IPY_MODEL_23f00f01e8494097a5859e5dc01f66d2",
       "rpc": {
        "matrix": [
         0.7629060953344922,
         -0.646509311380338,
         0,
         0.8207921127063681,
         0.646509311380338,
         0.7629060953344922,
         0,
         0.5712270194231158,
         0,
         0,
         1,
         0,
         0,
         0,
         0,
         1
        ],
        "object": "xform1",
        "type": "set_transform"
       },
       "scene": {
        "geometries": [
         {
          "data": {
           "faces": [
            0,
            0,
            1,
            3,
            0,
            0,
            3,
            2,
            0,
            4,
            6,
            7,
            0,
            4,
            7,
            5,
            0,
            0,
            4,
            5,
            0,
            0,
            5,
            1,
            0,
            2,
            3,
            7,
            0,
            2,
            7,
            6,
            0,
            0,
            2,
            6,
            0,
            0,
            6,
            4,
            0,
            1,
            5,
            7,
            0,
            1,
            7,
            3
           ],
           "scale": 1,
           "vertices": [
            0,
            -0.05,
            -0.05,
            0,
            -0.05,
            0.05,
            0,
            0.05,
            -0.05,
            0,
            0.05,
            0.05,
            1,
            -0.05,
            -0.05,
            1,
            -0.05,
            0.05,
            1,
            0.05,
            -0.05,
            1,
            0.05,
            0.05
           ]
          },
          "type": "Geometry",
          "uuid": "24f53e9d-b6cf-4192-b57a-dd9db002e7a8"
         },
         {
          "data": {
           "faces": [
            0,
            0,
            1,
            3,
            0,
            0,
            3,
            2,
            0,
            4,
            6,
            7,
            0,
            4,
            7,
            5,
            0,
            0,
            4,
            5,
            0,
            0,
            5,
            1,
            0,
            2,
            3,
            7,
            0,
            2,
            7,
            6,
            0,
            0,
            2,
            6,
            0,
            0,
            6,
            4,
            0,
            1,
            5,
            7,
            0,
            1,
            7,
            3
           ],
           "scale": 1,
           "vertices": [
            0,
            -0.05,
            -0.05,
            0,
            -0.05,
            0.05,
            0,
            0.05,
            -0.05,
            0,
            0.05,
            0.05,
            1,
            -0.05,
            -0.05,
            1,
            -0.05,
            0.05,
            1,
            0.05,
            -0.05,
            1,
            0.05,
            0.05
           ]
          },
          "type": "Geometry",
          "uuid": "0d3412f9-7f2f-4ce6-95a9-b29e9b76966d"
         }
        ],
        "materials": [
         {
          "color": 12550015,
          "emissive": 0,
          "type": "MeshPhongMaterial",
          "uuid": "b43a6eac-e12d-4c0b-950f-df6e3e44671f"
         },
         {
          "color": 8372095,
          "emissive": 0,
          "type": "MeshPhongMaterial",
          "uuid": "3752136b-9e43-46ba-99a2-0e57a4bb3983"
         }
        ],
        "metadata": {
         "fullscene": true,
         "generator": "Klampt three.js export",
         "type": "Object",
         "version": 4.4
        },
        "object": {
         "children": [
          {
           "children": [
            {
             "children": [
              {
               "geometry": "0d3412f9-7f2f-4ce6-95a9-b29e9b76966d",
               "material": "3752136b-9e43-46ba-99a2-0e57a4bb3983",
               "matrix": [
                1,
                0,
                0,
                0,
                0,
                1,
                0,
                0,
                0,
                0,
                1,
                0,
                1,
                0,
                0,
                1
               ],
               "name": "Link 1",
               "type": "Mesh",
               "uuid": "12b16625-b421-4a8e-90f8-1e8fdb8fa1dd"
              }
             ],
             "geometry": "24f53e9d-b6cf-4192-b57a-dd9db002e7a8",
             "material": "b43a6eac-e12d-4c0b-950f-df6e3e44671f",
             "matrix": [
              1,
              0,
              0,
              0,
              0,
              1,
              0,
              0,
              0,
              0,
              1,
              0,
              0,
              0,
              0,
              1
             ],
             "name": "Link 0",
             "type": "Mesh",
             "uuid": "5a718623-55a5-4a2d-9a39-86c92d61fdfb"
            }
           ],
           "matrix": [
            1,
            0,
            0,
            0,
            0,
            1,
            0,
            0,
            0,
            0,
            1,
            0,
            0,
            0,
            0,
            1
           ],
           "name": "planar2R",
           "type": "Group",
           "uuid": "1b9922f9-a478-4e8e-9a8b-197d09a71cab"
          },
          {
           "color": 16777215,
           "intensity": 1,
           "name": "DirectionalLight 1",
           "position": [
            2,
            -3,
            9
           ],
           "target": {
            "position": [
             0,
             null,
             null
            ]
           },
           "type": "DirectionalLight",
           "uuid": "c7e98074-8dbd-40f5-9b43-c89d1ea5457f"
          }
         ],
         "matrix": [
          1,
          0,
          0,
          0,
          0,
          0,
          -1,
          0,
          0,
          1,
          0,
          0,
          0,
          0,
          0,
          1
         ],
         "name": "world",
         "type": "Scene",
         "uuid": "22870aa7-7ffe-4a67-8474-4bec2b4f2075"
        }
       },
       "transforms": {
        "metadata": {
         "fullscene": false,
         "generator": "Klampt three.js export",
         "type": "Object",
         "version": 4.4
        },
        "object": [
         {
          "matrix": [
           1,
           0,
           0,
           0,
           0,
           0,
           -1,
           0,
           0,
           1,
           0,
           0,
           0,
           0,
           0,
           1
          ],
          "name": "world"
         },
         {
          "matrix": [
           1,
           0,
           0,
           0,
           0,
           1,
           0,
           0,
           0,
           0,
           1,
           0,
           0,
           0,
           0,
           1
          ],
          "name": "planar2R"
         },
         {
          "matrix": [
           0.820792,
           0.571227,
           0,
           0,
           -0.571227,
           0.820792,
           0,
           0,
           0,
           0,
           1,
           0,
           0,
           0,
           0,
           1
          ],
          "name": "Link 0"
         },
         {
          "matrix": [
           0.995491,
           0.0948572,
           0,
           0,
           -0.0948572,
           0.995491,
           0,
           0,
           0,
           0,
           1,
           0,
           1,
           0,
           0,
           1
          ],
          "name": "Link 1"
         }
        ]
       },
       "width": 400
      }
     },
     "6f5a92f4a16740459bab5a3d4b53cf83": {
      "model_module": "@jupyter-widgets/controls",
      "model_module_version": "1.4.0",
      "model_name": "FloatSliderModel",
      "state": {
       "description": "Link 1",
       "layout": "IPY_MODEL_bfa7c464d6d04895aa7de0e9044a57e4",
       "max": 6.28319,
       "step": 0.001,
       "style": "IPY_MODEL_58059e632f3a4a658829f0e74da15377",
       "value": 0.861
      }
     },
     "718db79c41294a53946043a69e714ec8": {
      "model_module": "@jupyter-widgets/controls",
      "model_module_version": "1.4.0",
      "model_name": "SliderStyleModel",
      "state": {
       "description_width": ""
      }
     },
     "73f2f80e20624f35aa79951fa8ffa2d1": {
      "model_module": "@jupyter-widgets/base",
      "model_module_version": "1.1.0",
      "model_name": "LayoutModel",
      "state": {}
     },
     "7639396744494b6f8a51229d6d342dd3": {
      "model_module": "@jupyter-widgets/base",
      "model_module_version": "1.1.0",
      "model_name": "LayoutModel",
      "state": {}
     },
     "7944fe5806b44368b6148f0bbcbce952": {
      "model_module": "@jupyter-widgets/controls",
      "model_module_version": "1.4.0",
      "model_name": "SliderStyleModel",
      "state": {
       "description_width": ""
      }
     },
     "7d0c4b264232483db6d121c1700ba8a4": {
      "model_module": "@jupyter-widgets/base",
      "model_module_version": "1.1.0",
      "model_name": "LayoutModel",
      "state": {}
     },
     "7e5d4b1c58d942e1a6bfd4550648ce8b": {
      "model_module": "klampt-jupyter-widget",
      "model_module_version": "0.1.0",
      "model_name": "KlamptModel",
      "state": {
       "_camera": {
        "far": 1000,
        "near": 0.1,
        "position": {
         "x": 0.2567565867923197,
         "y": 3.329410326960261,
         "z": 1.7213461880336305
        },
        "r": 1,
        "target": {
         "x": 0,
         "y": 0,
         "z": 0
        },
        "up": {
         "x": 0.031778534538736414,
         "y": 0.807033768552492,
         "z": -0.5896495748820081
        }
       },
       "camera": {
        "far": 1000,
        "near": 0.1,
        "position": {
         "x": 0.27057631353305844,
         "y": 6.702563444149367,
         "z": -0.049312632332197764
        },
        "target": {
         "x": 0,
         "y": 0,
         "z": 0
        },
        "up": {
         "x": -0.003726563135538217,
         "y": 0.44113772676914204,
         "z": -0.897431679153433
        }
       },
       "drawn": 0,
       "events": [],
       "height": 400,
       "layout": "IPY_MODEL_3f35cc7ffa694d74bc36ed3272c76439",
       "rpc": {
        "calls": [
         {
          "length": 0.5,
          "name": "xform0",
          "type": "add_xform",
          "width": 2
         },
         {
          "matrix": [
           1,
           0,
           0,
           0,
           0,
           1,
           0,
           0,
           0,
           0,
           1,
           0,
           0,
           0,
           0,
           1
          ],
          "object": "xform0",
          "type": "set_transform"
         },
         {
          "length": 0.5,
          "name": "xform1",
          "type": "add_xform",
          "width": 2
         },
         {
          "matrix": [
           0.8207921127063681,
           -0.5712270194231158,
           0,
           1,
           0.5712270194231158,
           0.8207921127063681,
           0,
           0,
           0,
           0,
           1,
           0,
           0,
           0,
           0,
           1
          ],
          "object": "xform1",
          "type": "set_transform"
         }
        ],
        "type": "multiple"
       },
       "scene": {
        "geometries": [
         {
          "data": {
           "faces": [
            0,
            0,
            1,
            3,
            0,
            0,
            3,
            2,
            0,
            4,
            6,
            7,
            0,
            4,
            7,
            5,
            0,
            0,
            4,
            5,
            0,
            0,
            5,
            1,
            0,
            2,
            3,
            7,
            0,
            2,
            7,
            6,
            0,
            0,
            2,
            6,
            0,
            0,
            6,
            4,
            0,
            1,
            5,
            7,
            0,
            1,
            7,
            3
           ],
           "scale": 1,
           "vertices": [
            0,
            -0.05,
            -0.05,
            0,
            -0.05,
            0.05,
            0,
            0.05,
            -0.05,
            0,
            0.05,
            0.05,
            1,
            -0.05,
            -0.05,
            1,
            -0.05,
            0.05,
            1,
            0.05,
            -0.05,
            1,
            0.05,
            0.05
           ]
          },
          "type": "Geometry",
          "uuid": "82c9bace-0593-4e7c-8396-6966716a20f1"
         },
         {
          "data": {
           "faces": [
            0,
            0,
            1,
            3,
            0,
            0,
            3,
            2,
            0,
            4,
            6,
            7,
            0,
            4,
            7,
            5,
            0,
            0,
            4,
            5,
            0,
            0,
            5,
            1,
            0,
            2,
            3,
            7,
            0,
            2,
            7,
            6,
            0,
            0,
            2,
            6,
            0,
            0,
            6,
            4,
            0,
            1,
            5,
            7,
            0,
            1,
            7,
            3
           ],
           "scale": 1,
           "vertices": [
            0,
            -0.05,
            -0.05,
            0,
            -0.05,
            0.05,
            0,
            0.05,
            -0.05,
            0,
            0.05,
            0.05,
            1,
            -0.05,
            -0.05,
            1,
            -0.05,
            0.05,
            1,
            0.05,
            -0.05,
            1,
            0.05,
            0.05
           ]
          },
          "type": "Geometry",
          "uuid": "5077170a-8d93-4c7f-9b71-622cc7e1721a"
         }
        ],
        "materials": [
         {
          "color": 12550015,
          "emissive": 0,
          "type": "MeshPhongMaterial",
          "uuid": "9a50957c-abfb-4a6a-946c-b77a23f89f43"
         },
         {
          "color": 8372095,
          "emissive": 0,
          "type": "MeshPhongMaterial",
          "uuid": "a837cc9b-7456-4d04-9ad4-35c7ca47efe0"
         }
        ],
        "metadata": {
         "fullscene": true,
         "generator": "Klampt three.js export",
         "type": "Object",
         "version": 4.4
        },
        "object": {
         "children": [
          {
           "children": [
            {
             "children": [
              {
               "geometry": "5077170a-8d93-4c7f-9b71-622cc7e1721a",
               "material": "a837cc9b-7456-4d04-9ad4-35c7ca47efe0",
               "matrix": [
                1,
                0,
                0,
                0,
                0,
                1,
                0,
                0,
                0,
                0,
                1,
                0,
                1,
                0,
                0,
                1
               ],
               "name": "Link 1",
               "type": "Mesh",
               "uuid": "f36bf0fe-7332-41ad-94cd-ecbbdcbda708"
              }
             ],
             "geometry": "82c9bace-0593-4e7c-8396-6966716a20f1",
             "material": "9a50957c-abfb-4a6a-946c-b77a23f89f43",
             "matrix": [
              1,
              0,
              0,
              0,
              0,
              1,
              0,
              0,
              0,
              0,
              1,
              0,
              0,
              0,
              0,
              1
             ],
             "name": "Link 0",
             "type": "Mesh",
             "uuid": "d6129cba-a188-4ec3-a530-20f895a869a2"
            }
           ],
           "matrix": [
            1,
            0,
            0,
            0,
            0,
            1,
            0,
            0,
            0,
            0,
            1,
            0,
            0,
            0,
            0,
            1
           ],
           "name": "planar2R",
           "type": "Group",
           "uuid": "e966835f-2948-4ec2-8722-51dd8aecf140"
          },
          {
           "color": 16777215,
           "intensity": 1,
           "name": "DirectionalLight 1",
           "position": [
            2,
            -3,
            9
           ],
           "target": {
            "position": [
             0,
             null,
             null
            ]
           },
           "type": "DirectionalLight",
           "uuid": "fad02762-a12a-4e76-825e-11a6a6dd20ac"
          }
         ],
         "matrix": [
          1,
          0,
          0,
          0,
          0,
          0,
          -1,
          0,
          0,
          1,
          0,
          0,
          0,
          0,
          0,
          1
         ],
         "name": "world",
         "type": "Scene",
         "uuid": "8eab8512-d416-4be8-9a2a-2269510c13c9"
        }
       },
       "transforms": {
        "metadata": {
         "fullscene": false,
         "generator": "Klampt three.js export",
         "type": "Object",
         "version": 4.4
        },
        "object": [
         {
          "matrix": [
           1,
           0,
           0,
           0,
           0,
           0,
           -1,
           0,
           0,
           1,
           0,
           0,
           0,
           0,
           0,
           1
          ],
          "name": "world"
         },
         {
          "matrix": [
           1,
           0,
           0,
           0,
           0,
           1,
           0,
           0,
           0,
           0,
           1,
           0,
           0,
           0,
           0,
           1
          ],
          "name": "planar2R"
         },
         {
          "matrix": [
           1,
           0,
           0,
           0,
           0,
           1,
           0,
           0,
           0,
           0,
           1,
           0,
           0,
           0,
           0,
           1
          ],
          "name": "Link 0"
         },
         {
          "matrix": [
           0.820792,
           0.571227,
           0,
           0,
           -0.571227,
           0.820792,
           0,
           0,
           0,
           0,
           1,
           0,
           1,
           0,
           0,
           1
          ],
          "name": "Link 1"
         }
        ]
       },
       "width": 400
      }
     },
     "7ec63221bb884306b56c3859adc3733d": {
      "model_module": "@jupyter-widgets/base",
      "model_module_version": "1.1.0",
      "model_name": "LayoutModel",
      "state": {}
     },
     "8197a87335104a68847974c091db02a0": {
      "model_module": "@jupyter-widgets/controls",
      "model_module_version": "1.4.0",
      "model_name": "VBoxModel",
      "state": {
       "children": [
        "IPY_MODEL_a59dd0ce97df40d08163fad339ddddf4",
        "IPY_MODEL_1e8e304f15d34fb4af1c894a3d40aa51"
       ],
       "layout": "IPY_MODEL_5348f5a14ac947a0a36318ac8f5bcd41"
      }
     },
     "8295aeceb10b47a6a9ae41317ce68908": {
      "model_module": "@jupyter-widgets/base",
      "model_module_version": "1.1.0",
      "model_name": "LayoutModel",
      "state": {}
     },
     "84122b543ceb48b194806d5352414004": {
      "model_module": "@jupyter-widgets/base",
      "model_module_version": "1.1.0",
      "model_name": "LayoutModel",
      "state": {}
     },
     "86a17944ff1445d3bb9ca67ef072708b": {
      "model_module": "@jupyter-widgets/controls",
      "model_module_version": "1.4.0",
      "model_name": "VBoxModel",
      "state": {
       "children": [
        "IPY_MODEL_51ae23838cb44dea9dcde4b9c19be6aa",
        "IPY_MODEL_b79edea67f924c68a0f216db5676e3c7"
       ],
       "layout": "IPY_MODEL_c653bb50b64843fe85342502c9295e26"
      }
     },
     "88d4cb54a2ee48e5a300ce08710f024d": {
      "model_module": "@jupyter-widgets/base",
      "model_module_version": "1.1.0",
      "model_name": "LayoutModel",
      "state": {}
     },
     "89bde56b3df84151bdbd4453183d457c": {
      "model_module": "@jupyter-widgets/base",
      "model_module_version": "1.1.0",
      "model_name": "LayoutModel",
      "state": {}
     },
     "8ab0de28f4ac4262b623afd1c8255bd6": {
      "model_module": "@jupyter-widgets/controls",
      "model_module_version": "1.4.0",
      "model_name": "FloatSliderModel",
      "state": {
       "description": "Link 1",
       "layout": "IPY_MODEL_653da12057b04a1eaf5d113e913750d3",
       "max": 6.28319,
       "step": 0.001,
       "style": "IPY_MODEL_2454e4f63e0f4dc5a73c7b18cf357448",
       "value": 0.095
      }
     },
     "8d848518cc9c4654937541ab942ef83d": {
      "model_module": "klampt-jupyter-widget",
      "model_module_version": "0.1.0",
      "model_name": "KlamptModel",
      "state": {
       "_camera": {
        "far": 1000,
        "near": 0.1,
        "position": {
         "x": 0.27057631353305844,
         "y": 6.702563444149367,
         "z": -0.049312632332197764
        },
        "r": 1,
        "target": {
         "x": 0,
         "y": 0,
         "z": 0
        },
        "up": {
         "x": -0.003726563135538217,
         "y": 0.44113772676914204,
         "z": -0.897431679153433
        }
       },
       "camera": {
        "far": 1000,
        "near": 0.1,
        "position": {
         "x": 0.27057631353305844,
         "y": 6.702563444149367,
         "z": -0.049312632332197764
        },
        "target": {
         "x": 0,
         "y": 0,
         "z": 0
        },
        "up": {
         "x": -0.003726563135538217,
         "y": 0.44113772676914204,
         "z": -0.897431679153433
        }
       },
       "drawn": 0,
       "events": [],
       "height": 400,
       "layout": "IPY_MODEL_89bde56b3df84151bdbd4453183d457c",
       "rpc": {
        "calls": [
         {
          "length": 0.5,
          "name": "xform0",
          "type": "add_xform",
          "width": 2
         },
         {
          "matrix": [
           1,
           0,
           0,
           0,
           0,
           1,
           0,
           0,
           0,
           0,
           1,
           0,
           0,
           0,
           0,
           1
          ],
          "object": "xform0",
          "type": "set_transform"
         },
         {
          "length": 0.5,
          "name": "xform1",
          "type": "add_xform",
          "width": 2
         },
         {
          "matrix": [
           1,
           0,
           0,
           1,
           0,
           1,
           0,
           0,
           0,
           0,
           1,
           0,
           0,
           0,
           0,
           1
          ],
          "object": "xform1",
          "type": "set_transform"
         }
        ],
        "type": "multiple"
       },
       "scene": {
        "geometries": [
         {
          "data": {
           "faces": [
            0,
            0,
            1,
            3,
            0,
            0,
            3,
            2,
            0,
            4,
            6,
            7,
            0,
            4,
            7,
            5,
            0,
            0,
            4,
            5,
            0,
            0,
            5,
            1,
            0,
            2,
            3,
            7,
            0,
            2,
            7,
            6,
            0,
            0,
            2,
            6,
            0,
            0,
            6,
            4,
            0,
            1,
            5,
            7,
            0,
            1,
            7,
            3
           ],
           "scale": 1,
           "vertices": [
            0,
            -0.05,
            -0.05,
            0,
            -0.05,
            0.05,
            0,
            0.05,
            -0.05,
            0,
            0.05,
            0.05,
            1,
            -0.05,
            -0.05,
            1,
            -0.05,
            0.05,
            1,
            0.05,
            -0.05,
            1,
            0.05,
            0.05
           ]
          },
          "type": "Geometry",
          "uuid": "c3c47a1d-52e4-4abe-b8a6-af8819d017af"
         },
         {
          "data": {
           "faces": [
            0,
            0,
            1,
            3,
            0,
            0,
            3,
            2,
            0,
            4,
            6,
            7,
            0,
            4,
            7,
            5,
            0,
            0,
            4,
            5,
            0,
            0,
            5,
            1,
            0,
            2,
            3,
            7,
            0,
            2,
            7,
            6,
            0,
            0,
            2,
            6,
            0,
            0,
            6,
            4,
            0,
            1,
            5,
            7,
            0,
            1,
            7,
            3
           ],
           "scale": 1,
           "vertices": [
            0,
            -0.05,
            -0.05,
            0,
            -0.05,
            0.05,
            0,
            0.05,
            -0.05,
            0,
            0.05,
            0.05,
            1,
            -0.05,
            -0.05,
            1,
            -0.05,
            0.05,
            1,
            0.05,
            -0.05,
            1,
            0.05,
            0.05
           ]
          },
          "type": "Geometry",
          "uuid": "98ba95f1-0fbb-486a-840e-4e749beb8803"
         }
        ],
        "materials": [
         {
          "color": 12550015,
          "emissive": 0,
          "type": "MeshPhongMaterial",
          "uuid": "8249f88c-92bd-47d9-a822-ec306bc5b59b"
         },
         {
          "color": 8372095,
          "emissive": 0,
          "type": "MeshPhongMaterial",
          "uuid": "d78de90d-da8f-4259-8e4e-e86dd70caa57"
         }
        ],
        "metadata": {
         "fullscene": true,
         "generator": "Klampt three.js export",
         "type": "Object",
         "version": 4.4
        },
        "object": {
         "children": [
          {
           "children": [
            {
             "children": [
              {
               "geometry": "98ba95f1-0fbb-486a-840e-4e749beb8803",
               "material": "d78de90d-da8f-4259-8e4e-e86dd70caa57",
               "matrix": [
                1,
                0,
                0,
                0,
                0,
                1,
                0,
                0,
                0,
                0,
                1,
                0,
                1,
                0,
                0,
                1
               ],
               "name": "Link 1",
               "type": "Mesh",
               "uuid": "532584f9-7b27-48c5-a431-753c27466cd4"
              }
             ],
             "geometry": "c3c47a1d-52e4-4abe-b8a6-af8819d017af",
             "material": "8249f88c-92bd-47d9-a822-ec306bc5b59b",
             "matrix": [
              1,
              0,
              0,
              0,
              0,
              1,
              0,
              0,
              0,
              0,
              1,
              0,
              0,
              0,
              0,
              1
             ],
             "name": "Link 0",
             "type": "Mesh",
             "uuid": "b959f0ec-708f-46c8-b66d-ee5caa9dbc61"
            }
           ],
           "matrix": [
            1,
            0,
            0,
            0,
            0,
            1,
            0,
            0,
            0,
            0,
            1,
            0,
            0,
            0,
            0,
            1
           ],
           "name": "planar2R",
           "type": "Group",
           "uuid": "5c12fdfb-23d8-4a38-8db8-79d5d759bdac"
          },
          {
           "color": 16777215,
           "intensity": 1,
           "name": "DirectionalLight 1",
           "position": [
            2,
            -3,
            9
           ],
           "target": {
            "position": [
             0,
             null,
             null
            ]
           },
           "type": "DirectionalLight",
           "uuid": "5f710383-d2ff-47be-a19c-da18a4729dd3"
          }
         ],
         "matrix": [
          1,
          0,
          0,
          0,
          0,
          0,
          -1,
          0,
          0,
          1,
          0,
          0,
          0,
          0,
          0,
          1
         ],
         "name": "world",
         "type": "Scene",
         "uuid": "23f1f618-17dc-4145-86cf-1e81eaf9e91b"
        }
       },
       "transforms": {
        "metadata": {
         "fullscene": false,
         "generator": "Klampt three.js export",
         "type": "Object",
         "version": 4.4
        },
        "object": [
         {
          "matrix": [
           1,
           0,
           0,
           0,
           0,
           0,
           -1,
           0,
           0,
           1,
           0,
           0,
           0,
           0,
           0,
           1
          ],
          "name": "world"
         },
         {
          "matrix": [
           1,
           0,
           0,
           0,
           0,
           1,
           0,
           0,
           0,
           0,
           1,
           0,
           0,
           0,
           0,
           1
          ],
          "name": "planar2R"
         },
         {
          "matrix": [
           1,
           0,
           0,
           0,
           0,
           1,
           0,
           0,
           0,
           0,
           1,
           0,
           0,
           0,
           0,
           1
          ],
          "name": "Link 0"
         },
         {
          "matrix": [
           1,
           0,
           0,
           0,
           0,
           1,
           0,
           0,
           0,
           0,
           1,
           0,
           1,
           0,
           0,
           1
          ],
          "name": "Link 1"
         }
        ]
       },
       "width": 400
      }
     },
     "8e599253eef54ce89f22021f9b2e53b6": {
      "model_module": "@jupyter-widgets/base",
      "model_module_version": "1.1.0",
      "model_name": "LayoutModel",
      "state": {}
     },
     "9294cc13f107408680474908638e2f8a": {
      "model_module": "klampt-jupyter-widget",
      "model_module_version": "0.1.0",
      "model_name": "KlamptModel",
      "state": {
       "_camera": {
        "far": 1000,
        "near": 0.1,
        "position": {
         "x": 0.27057631353305844,
         "y": 6.702563444149367,
         "z": -0.049312632332197764
        },
        "r": 1,
        "target": {
         "x": 0,
         "y": 0,
         "z": 0
        },
        "up": {
         "x": -0.003726563135538217,
         "y": 0.44113772676914204,
         "z": -0.897431679153433
        }
       },
       "camera": {
        "far": 1000,
        "near": 0.1,
        "position": {
         "x": 0.27057631353305844,
         "y": 6.702563444149367,
         "z": -0.049312632332197764
        },
        "target": {
         "x": 0,
         "y": 0,
         "z": 0
        },
        "up": {
         "x": -0.003726563135538217,
         "y": 0.44113772676914204,
         "z": -0.897431679153433
        }
       },
       "drawn": 0,
       "events": [],
       "height": 400,
       "layout": "IPY_MODEL_2afcf402acc044a59c0a50a0bf5e4c0e",
       "rpc": {
        "calls": [
         {
          "length": 1,
          "name": "xform0",
          "type": "add_xform",
          "width": 2
         },
         {
          "matrix": [
           1,
           0,
           0,
           0,
           0,
           1,
           0,
           0,
           0,
           0,
           1,
           0,
           0,
           0,
           0,
           1
          ],
          "object": "xform0",
          "type": "set_transform"
         },
         {
          "length": 1,
          "name": "xform1",
          "type": "add_xform",
          "width": 2
         },
         {
          "matrix": [
           0.6887738011489036,
           -0.7249763105446209,
           0,
           1,
           0.7249763105446209,
           0.6887738011489036,
           0,
           0,
           0,
           0,
           1,
           0,
           0,
           0,
           0,
           1
          ],
          "object": "xform1",
          "type": "set_transform"
         }
        ],
        "type": "multiple"
       },
       "scene": {
        "geometries": [
         {
          "data": {
           "faces": [
            0,
            0,
            1,
            3,
            0,
            0,
            3,
            2,
            0,
            4,
            6,
            7,
            0,
            4,
            7,
            5,
            0,
            0,
            4,
            5,
            0,
            0,
            5,
            1,
            0,
            2,
            3,
            7,
            0,
            2,
            7,
            6,
            0,
            0,
            2,
            6,
            0,
            0,
            6,
            4,
            0,
            1,
            5,
            7,
            0,
            1,
            7,
            3
           ],
           "scale": 1,
           "vertices": [
            0,
            -0.05,
            -0.05,
            0,
            -0.05,
            0.05,
            0,
            0.05,
            -0.05,
            0,
            0.05,
            0.05,
            1,
            -0.05,
            -0.05,
            1,
            -0.05,
            0.05,
            1,
            0.05,
            -0.05,
            1,
            0.05,
            0.05
           ]
          },
          "type": "Geometry",
          "uuid": "6609ff61-799c-4ee8-bbcd-47b358d80e8d"
         },
         {
          "data": {
           "faces": [
            0,
            0,
            1,
            3,
            0,
            0,
            3,
            2,
            0,
            4,
            6,
            7,
            0,
            4,
            7,
            5,
            0,
            0,
            4,
            5,
            0,
            0,
            5,
            1,
            0,
            2,
            3,
            7,
            0,
            2,
            7,
            6,
            0,
            0,
            2,
            6,
            0,
            0,
            6,
            4,
            0,
            1,
            5,
            7,
            0,
            1,
            7,
            3
           ],
           "scale": 1,
           "vertices": [
            0,
            -0.05,
            -0.05,
            0,
            -0.05,
            0.05,
            0,
            0.05,
            -0.05,
            0,
            0.05,
            0.05,
            1,
            -0.05,
            -0.05,
            1,
            -0.05,
            0.05,
            1,
            0.05,
            -0.05,
            1,
            0.05,
            0.05
           ]
          },
          "type": "Geometry",
          "uuid": "76ad3584-64dd-47be-81dd-595c4985a444"
         }
        ],
        "materials": [
         {
          "color": 12550015,
          "emissive": 0,
          "type": "MeshPhongMaterial",
          "uuid": "e0a81203-1c06-4a77-bb0d-ea02c5c8be4d"
         },
         {
          "color": 8372095,
          "emissive": 0,
          "type": "MeshPhongMaterial",
          "uuid": "ce9c2c2d-0326-4cf5-834b-96199dbb8d71"
         }
        ],
        "metadata": {
         "fullscene": true,
         "generator": "Klampt three.js export",
         "type": "Object",
         "version": 4.4
        },
        "object": {
         "children": [
          {
           "children": [
            {
             "children": [
              {
               "geometry": "76ad3584-64dd-47be-81dd-595c4985a444",
               "material": "ce9c2c2d-0326-4cf5-834b-96199dbb8d71",
               "matrix": [
                1,
                0,
                0,
                0,
                0,
                1,
                0,
                0,
                0,
                0,
                1,
                0,
                1,
                0,
                0,
                1
               ],
               "name": "Link 1",
               "type": "Mesh",
               "uuid": "fb2bd8a9-0b61-45d7-8e79-2165fefc4c80"
              }
             ],
             "geometry": "6609ff61-799c-4ee8-bbcd-47b358d80e8d",
             "material": "e0a81203-1c06-4a77-bb0d-ea02c5c8be4d",
             "matrix": [
              1,
              0,
              0,
              0,
              0,
              1,
              0,
              0,
              0,
              0,
              1,
              0,
              0,
              0,
              0,
              1
             ],
             "name": "Link 0",
             "type": "Mesh",
             "uuid": "88e23cef-18bc-474b-bbd9-97c7fbf42153"
            }
           ],
           "matrix": [
            1,
            0,
            0,
            0,
            0,
            1,
            0,
            0,
            0,
            0,
            1,
            0,
            0,
            0,
            0,
            1
           ],
           "name": "planar2R",
           "type": "Group",
           "uuid": "6a54d9a9-4db0-4d68-89c7-90e5e37105af"
          },
          {
           "color": 16777215,
           "intensity": 1,
           "name": "DirectionalLight 1",
           "position": [
            2,
            -3,
            9
           ],
           "target": {
            "position": [
             0,
             null,
             null
            ]
           },
           "type": "DirectionalLight",
           "uuid": "6deadcec-fe4d-4274-9a82-f8449de0e5cd"
          }
         ],
         "matrix": [
          1,
          0,
          0,
          0,
          0,
          0,
          -1,
          0,
          0,
          1,
          0,
          0,
          0,
          0,
          0,
          1
         ],
         "name": "world",
         "type": "Scene",
         "uuid": "0f1895ac-8ff6-4257-9934-86586ba62d5a"
        }
       },
       "transforms": {
        "metadata": {
         "fullscene": false,
         "generator": "Klampt three.js export",
         "type": "Object",
         "version": 4.4
        },
        "object": [
         {
          "matrix": [
           1,
           0,
           0,
           0,
           0,
           0,
           -1,
           0,
           0,
           1,
           0,
           0,
           0,
           0,
           0,
           1
          ],
          "name": "world"
         },
         {
          "matrix": [
           1,
           0,
           0,
           0,
           0,
           1,
           0,
           0,
           0,
           0,
           1,
           0,
           0,
           0,
           0,
           1
          ],
          "name": "planar2R"
         },
         {
          "matrix": [
           1,
           0,
           0,
           0,
           0,
           1,
           0,
           0,
           0,
           0,
           1,
           0,
           0,
           0,
           0,
           1
          ],
          "name": "Link 0"
         },
         {
          "matrix": [
           0.688774,
           0.724976,
           0,
           0,
           -0.724976,
           0.688774,
           0,
           0,
           0,
           0,
           1,
           0,
           1,
           0,
           0,
           1
          ],
          "name": "Link 1"
         }
        ]
       },
       "width": 400
      }
     },
     "96be842124a546eb87713b403bf8dda0": {
      "model_module": "@jupyter-widgets/controls",
      "model_module_version": "1.4.0",
      "model_name": "SliderStyleModel",
      "state": {
       "description_width": ""
      }
     },
     "99057d136b0541b68d4bbd6ac307a530": {
      "model_module": "@jupyter-widgets/base",
      "model_module_version": "1.1.0",
      "model_name": "LayoutModel",
      "state": {}
     },
     "9a32d7d568884632bb0a114c62d9efad": {
      "model_module": "@jupyter-widgets/controls",
      "model_module_version": "1.4.0",
      "model_name": "FloatSliderModel",
      "state": {
       "description": "Link 1",
       "layout": "IPY_MODEL_0f67349b83284167a72b20a2aac7b2be",
       "max": 6.28319,
       "step": 0.001,
       "style": "IPY_MODEL_db7911213acc498da9254f7ca725e556",
       "value": 0.608
      }
     },
     "9a6299369585472089f081809d167758": {
      "model_module": "@jupyter-widgets/controls",
      "model_module_version": "1.4.0",
      "model_name": "SliderStyleModel",
      "state": {
       "description_width": ""
      }
     },
     "9fdf7bafe93d48a785d5b2217367117b": {
      "model_module": "@jupyter-widgets/base",
      "model_module_version": "1.1.0",
      "model_name": "LayoutModel",
      "state": {}
     },
     "a59dd0ce97df40d08163fad339ddddf4": {
      "model_module": "@jupyter-widgets/controls",
      "model_module_version": "1.4.0",
      "model_name": "FloatSliderModel",
      "state": {
       "description": "Link 0",
       "layout": "IPY_MODEL_29420a7c14c94291aac6dd55ee141023",
       "max": 6.28319,
       "step": 0.001,
       "style": "IPY_MODEL_3bc68864b2114db1ab5be995bab9aecf"
      }
     },
     "a9f60d9b268b44feac4f3b6417f1a529": {
      "model_module": "@jupyter-widgets/controls",
      "model_module_version": "1.4.0",
      "model_name": "VBoxModel",
      "state": {
       "children": [
        "IPY_MODEL_b0975e82f56b49cb8a8ffece710d6736",
        "IPY_MODEL_699a19b0d0884a7b8dc5ebce8233ca48"
       ],
       "layout": "IPY_MODEL_1775e3f0cb7f4f47a4514993e1c9af26"
      }
     },
     "aa54d05f4d744f428ea63e709a506991": {
      "model_module": "@jupyter-widgets/controls",
      "model_module_version": "1.4.0",
      "model_name": "SliderStyleModel",
      "state": {
       "description_width": ""
      }
     },
     "aedf5564fd644a3b823c1dcfcf12c319": {
      "model_module": "@jupyter-widgets/controls",
      "model_module_version": "1.4.0",
      "model_name": "VBoxModel",
      "state": {
       "children": [
        "IPY_MODEL_2f6b7a3200ff4c19807b18064f85364b",
        "IPY_MODEL_ee0a01a2581544c28b28f1556ddd08c2"
       ],
       "layout": "IPY_MODEL_c5bfaf9b5cf6449cb519b2f6d92d6c43"
      }
     },
     "b0745441e64e4473abceef2d3b8f8271": {
      "model_module": "@jupyter-widgets/controls",
      "model_module_version": "1.4.0",
      "model_name": "VBoxModel",
      "state": {
       "children": [
        "IPY_MODEL_2e6b92a3ee7049dc9e4b9891dc2b9d04",
        "IPY_MODEL_2c8fbaf8da27486abb5b2f3946b13ba4"
       ],
       "layout": "IPY_MODEL_f68a793bf5f44422af7da5c58d34c75c"
      }
     },
     "b0975e82f56b49cb8a8ffece710d6736": {
      "model_module": "@jupyter-widgets/controls",
      "model_module_version": "1.4.0",
      "model_name": "FloatSliderModel",
      "state": {
       "description": "Link 0",
       "layout": "IPY_MODEL_3773680206b0447489da70a823b30023",
       "max": 6.28319,
       "step": 0.001,
       "style": "IPY_MODEL_5d532d1b5d4e4d1db77bc18dd0a0e4c0",
       "value": 0.861
      }
     },
     "b29a097c5b8f4daeb93beffe7617a28c": {
      "model_module": "@jupyter-widgets/base",
      "model_module_version": "1.1.0",
      "model_name": "LayoutModel",
      "state": {}
     },
     "b79edea67f924c68a0f216db5676e3c7": {
      "model_module": "@jupyter-widgets/controls",
      "model_module_version": "1.4.0",
      "model_name": "FloatSliderModel",
      "state": {
       "description": "Link 1",
       "layout": "IPY_MODEL_30d5b9c30ff64395a5b4b1fe130a946c",
       "max": 6.28319,
       "step": 0.001,
       "style": "IPY_MODEL_e5ba8279bdce488aa5cfda0d4428e509",
       "value": 0.608
      }
     },
     "b87ac270622043e19e232fd17e8545d4": {
      "model_module": "@jupyter-widgets/controls",
      "model_module_version": "1.4.0",
      "model_name": "VBoxModel",
      "state": {
       "children": [
        "IPY_MODEL_60cd5e4d7d9449bdb962f0277d95ae7f",
        "IPY_MODEL_9a32d7d568884632bb0a114c62d9efad"
       ],
       "layout": "IPY_MODEL_73f2f80e20624f35aa79951fa8ffa2d1"
      }
     },
     "b8bd47ff9a4e49dc9412d8529445891a": {
      "model_module": "@jupyter-widgets/base",
      "model_module_version": "1.1.0",
      "model_name": "LayoutModel",
      "state": {}
     },
     "bbef1c7c11ba4fef956e3b891c40cb3c": {
      "model_module": "@jupyter-widgets/controls",
      "model_module_version": "1.4.0",
      "model_name": "SliderStyleModel",
      "state": {
       "description_width": ""
      }
     },
     "bd33e8d66eb7470489b44f60d4a304cc": {
      "model_module": "@jupyter-widgets/base",
      "model_module_version": "1.1.0",
      "model_name": "LayoutModel",
      "state": {}
     },
     "bf303804956640f69be0b77b00d269b3": {
      "model_module": "klampt-jupyter-widget",
      "model_module_version": "0.1.0",
      "model_name": "KlamptModel",
      "state": {
       "_camera": {
        "far": 1000,
        "near": 0.1,
        "position": {
         "x": -83.37216525487993,
         "y": 935.0052240287486,
         "z": 404.7662741783281
        },
        "r": 1,
        "target": {
         "x": 0,
         "y": 0,
         "z": 0
        },
        "up": {
         "x": -0.03447093933398719,
         "y": 0.7645233619832923,
         "z": -0.643673662132602
        }
       },
       "camera": {
        "far": 1000,
        "near": 0.1,
        "position": {
         "x": 0.27057631353305844,
         "y": 6.702563444149367,
         "z": -0.049312632332197764
        },
        "target": {
         "x": 0,
         "y": 0,
         "z": 0
        },
        "up": {
         "x": -0.003726563135538217,
         "y": 0.44113772676914204,
         "z": -0.897431679153433
        }
       },
       "drawn": 0,
       "events": [],
       "height": 400,
       "layout": "IPY_MODEL_c6c1ca212ce44fac98d0b2a0fa7f3806",
       "rpc": {
        "calls": [
         {
          "length": 0.5,
          "name": "xform0",
          "type": "add_xform",
          "width": 2
         },
         {
          "matrix": [
           0.879493238279787,
           -0.4759113823183197,
           0,
           0,
           0.4759113823183197,
           0.879493238279787,
           0,
           0,
           0,
           0,
           1,
           0.1,
           0,
           0,
           0,
           1
          ],
          "object": "xform0",
          "type": "set_transform"
         },
         {
          "length": 0.5,
          "name": "xform1",
          "type": "add_xform",
          "width": 2
         },
         {
          "matrix": [
           0.01079611705826744,
           -0.9999417202299663,
           0,
           0.879493238279787,
           0.9999417202299663,
           0.01079611705826744,
           0,
           0.4759113823183197,
           0,
           0,
           1,
           0.1,
           0,
           0,
           0,
           1
          ],
          "object": "xform1",
          "type": "set_transform"
         }
        ],
        "type": "multiple"
       },
       "scene": {
        "geometries": [
         {
          "data": {
           "faces": [
            0,
            0,
            1,
            3,
            0,
            0,
            3,
            2,
            0,
            4,
            6,
            7,
            0,
            4,
            7,
            5,
            0,
            0,
            4,
            5,
            0,
            0,
            5,
            1,
            0,
            2,
            3,
            7,
            0,
            2,
            7,
            6,
            0,
            0,
            2,
            6,
            0,
            0,
            6,
            4,
            0,
            1,
            5,
            7,
            0,
            1,
            7,
            3
           ],
           "scale": 1,
           "vertices": [
            0,
            -0.05,
            -0.05,
            0,
            -0.05,
            0.05,
            0,
            0.05,
            -0.05,
            0,
            0.05,
            0.05,
            1,
            -0.05,
            -0.05,
            1,
            -0.05,
            0.05,
            1,
            0.05,
            -0.05,
            1,
            0.05,
            0.05
           ]
          },
          "type": "Geometry",
          "uuid": "3232d294-884a-4e9f-8ff2-597453d038b0"
         },
         {
          "data": {
           "faces": [
            0,
            0,
            1,
            3,
            0,
            0,
            3,
            2,
            0,
            4,
            6,
            7,
            0,
            4,
            7,
            5,
            0,
            0,
            4,
            5,
            0,
            0,
            5,
            1,
            0,
            2,
            3,
            7,
            0,
            2,
            7,
            6,
            0,
            0,
            2,
            6,
            0,
            0,
            6,
            4,
            0,
            1,
            5,
            7,
            0,
            1,
            7,
            3
           ],
           "scale": 1,
           "vertices": [
            0,
            -0.05,
            -0.05,
            0,
            -0.05,
            0.05,
            0,
            0.05,
            -0.05,
            0,
            0.05,
            0.05,
            1,
            -0.05,
            -0.05,
            1,
            -0.05,
            0.05,
            1,
            0.05,
            -0.05,
            1,
            0.05,
            0.05
           ]
          },
          "type": "Geometry",
          "uuid": "220a9f3f-45f5-4640-8a79-d915c19b6788"
         }
        ],
        "materials": [
         {
          "color": 12550015,
          "emissive": 0,
          "type": "MeshPhongMaterial",
          "uuid": "227001a3-7381-4019-ac23-e212b407ad7d"
         },
         {
          "color": 8372095,
          "emissive": 0,
          "type": "MeshPhongMaterial",
          "uuid": "7fe582ee-88bc-4bab-a609-292521f20b42"
         }
        ],
        "metadata": {
         "fullscene": true,
         "generator": "Klampt three.js export",
         "type": "Object",
         "version": 4.4
        },
        "object": {
         "children": [
          {
           "children": [
            {
             "children": [
              {
               "geometry": "220a9f3f-45f5-4640-8a79-d915c19b6788",
               "material": "7fe582ee-88bc-4bab-a609-292521f20b42",
               "matrix": [
                1,
                0,
                0,
                0,
                0,
                1,
                0,
                0,
                0,
                0,
                1,
                0,
                1,
                0,
                0,
                1
               ],
               "name": "Link 1",
               "type": "Mesh",
               "uuid": "868b431f-4370-498b-974e-0aa81b756504"
              }
             ],
             "geometry": "3232d294-884a-4e9f-8ff2-597453d038b0",
             "material": "227001a3-7381-4019-ac23-e212b407ad7d",
             "matrix": [
              1,
              0,
              0,
              0,
              0,
              1,
              0,
              0,
              0,
              0,
              1,
              0,
              0,
              0,
              0,
              1
             ],
             "name": "Link 0",
             "type": "Mesh",
             "uuid": "38567002-b983-4b8d-be05-b16696c218a1"
            }
           ],
           "matrix": [
            1,
            0,
            0,
            0,
            0,
            1,
            0,
            0,
            0,
            0,
            1,
            0,
            0,
            0,
            0,
            1
           ],
           "name": "planar2R",
           "type": "Group",
           "uuid": "920f3256-f251-4602-ae51-8ca343af59f0"
          },
          {
           "color": 16777215,
           "intensity": 1,
           "name": "DirectionalLight 1",
           "position": [
            2,
            -3,
            9
           ],
           "target": {
            "position": [
             0,
             null,
             null
            ]
           },
           "type": "DirectionalLight",
           "uuid": "22549741-4c17-423c-bc95-9db838182f7d"
          }
         ],
         "matrix": [
          1,
          0,
          0,
          0,
          0,
          0,
          -1,
          0,
          0,
          1,
          0,
          0,
          0,
          0,
          0,
          1
         ],
         "name": "world",
         "type": "Scene",
         "uuid": "4aa7e3b3-ebf1-44b2-84dc-f7862fd928dc"
        }
       },
       "transforms": {
        "metadata": {
         "fullscene": false,
         "generator": "Klampt three.js export",
         "type": "Object",
         "version": 4.4
        },
        "object": [
         {
          "matrix": [
           1,
           0,
           0,
           0,
           0,
           0,
           -1,
           0,
           0,
           1,
           0,
           0,
           0,
           0,
           0,
           1
          ],
          "name": "world"
         },
         {
          "matrix": [
           1,
           0,
           0,
           0,
           0,
           1,
           0,
           0,
           0,
           0,
           1,
           0,
           0,
           0,
           0,
           1
          ],
          "name": "planar2R"
         },
         {
          "matrix": [
           0.879493,
           0.475911,
           0,
           0,
           -0.475911,
           0.879493,
           0,
           0,
           0,
           0,
           1,
           0,
           0,
           0,
           0,
           1
          ],
          "name": "Link 0"
         },
         {
          "matrix": [
           0.485379,
           0.874304,
           0,
           0,
           -0.874304,
           0.485379,
           0,
           0,
           0,
           0,
           1,
           0,
           1,
           0,
           0,
           1
          ],
          "name": "Link 1"
         }
        ]
       },
       "width": 400
      }
     },
     "bfa7c464d6d04895aa7de0e9044a57e4": {
      "model_module": "@jupyter-widgets/base",
      "model_module_version": "1.1.0",
      "model_name": "LayoutModel",
      "state": {}
     },
     "c5bfaf9b5cf6449cb519b2f6d92d6c43": {
      "model_module": "@jupyter-widgets/base",
      "model_module_version": "1.1.0",
      "model_name": "LayoutModel",
      "state": {}
     },
     "c653bb50b64843fe85342502c9295e26": {
      "model_module": "@jupyter-widgets/base",
      "model_module_version": "1.1.0",
      "model_name": "LayoutModel",
      "state": {}
     },
     "c6c1ca212ce44fac98d0b2a0fa7f3806": {
      "model_module": "@jupyter-widgets/base",
      "model_module_version": "1.1.0",
      "model_name": "LayoutModel",
      "state": {}
     },
     "cf650a4af75d4a94a18fbb475b0466c8": {
      "model_module": "@jupyter-widgets/base",
      "model_module_version": "1.1.0",
      "model_name": "LayoutModel",
      "state": {}
     },
     "d3865a1c06744e1d8991c8045a5b5af3": {
      "model_module": "@jupyter-widgets/controls",
      "model_module_version": "1.4.0",
      "model_name": "FloatSliderModel",
      "state": {
       "description": "Link 0",
       "layout": "IPY_MODEL_6e4625213cfa4f3a8045d4d86ba8c835",
       "max": 6.28319,
       "step": 0.001,
       "style": "IPY_MODEL_aa54d05f4d744f428ea63e709a506991",
       "value": 0.608
      }
     },
     "d50f6952df734b508601180b4c3b603e": {
      "model_module": "@jupyter-widgets/base",
      "model_module_version": "1.1.0",
      "model_name": "LayoutModel",
      "state": {}
     },
     "d92585982fa3410bb64e35f94feb6ddb": {
      "model_module": "@jupyter-widgets/controls",
      "model_module_version": "1.4.0",
      "model_name": "FloatSliderModel",
      "state": {
       "description": "Link 1",
       "layout": "IPY_MODEL_88d4cb54a2ee48e5a300ce08710f024d",
       "max": 6.28319,
       "step": 0.001,
       "style": "IPY_MODEL_e680c4552b994cf0b1d7fadc170fa74a"
      }
     },
     "db7911213acc498da9254f7ca725e556": {
      "model_module": "@jupyter-widgets/controls",
      "model_module_version": "1.4.0",
      "model_name": "SliderStyleModel",
      "state": {
       "description_width": ""
      }
     },
     "e381246964af49deb1bff8262b5422b7": {
      "model_module": "@jupyter-widgets/base",
      "model_module_version": "1.1.0",
      "model_name": "LayoutModel",
      "state": {}
     },
     "e52917cb7bc3416f942f42a38da6d813": {
      "model_module": "@jupyter-widgets/base",
      "model_module_version": "1.1.0",
      "model_name": "LayoutModel",
      "state": {}
     },
     "e5ba8279bdce488aa5cfda0d4428e509": {
      "model_module": "@jupyter-widgets/controls",
      "model_module_version": "1.4.0",
      "model_name": "SliderStyleModel",
      "state": {
       "description_width": ""
      }
     },
     "e680c4552b994cf0b1d7fadc170fa74a": {
      "model_module": "@jupyter-widgets/controls",
      "model_module_version": "1.4.0",
      "model_name": "SliderStyleModel",
      "state": {
       "description_width": ""
      }
     },
     "e731217ee41445f5a229932ec3041060": {
      "model_module": "@jupyter-widgets/base",
      "model_module_version": "1.1.0",
      "model_name": "LayoutModel",
      "state": {}
     },
     "ee0a01a2581544c28b28f1556ddd08c2": {
      "model_module": "@jupyter-widgets/controls",
      "model_module_version": "1.4.0",
      "model_name": "FloatSliderModel",
      "state": {
       "description": "Link 1",
       "layout": "IPY_MODEL_1ad9d292b6414d5fb30c666e49245cef",
       "max": 6.28319,
       "step": 0.001,
       "style": "IPY_MODEL_bbef1c7c11ba4fef956e3b891c40cb3c",
       "value": 0.963
      }
     },
     "ef79741cda12478f9ccb793d13fe888e": {
      "model_module": "@jupyter-widgets/controls",
      "model_module_version": "1.4.0",
      "model_name": "VBoxModel",
      "state": {
       "children": [
        "IPY_MODEL_d3865a1c06744e1d8991c8045a5b5af3",
        "IPY_MODEL_8ab0de28f4ac4262b623afd1c8255bd6"
       ],
       "layout": "IPY_MODEL_84122b543ceb48b194806d5352414004"
      }
     },
     "ef855717cfca430db95eebeab6ee9b80": {
      "model_module": "@jupyter-widgets/controls",
      "model_module_version": "1.4.0",
      "model_name": "SliderStyleModel",
      "state": {
       "description_width": ""
      }
     },
     "f055fd4508c7493282dff77fc44e1d23": {
      "model_module": "klampt-jupyter-widget",
      "model_module_version": "0.1.0",
      "model_name": "KlamptModel",
      "state": {
       "_camera": {
        "far": 1000,
        "near": 0.1,
        "position": {
         "x": 0.7908714177743736,
         "y": 6.4991107012873135,
         "z": -1.4615342941444376
        },
        "r": 1,
        "target": {
         "x": 0,
         "y": 0,
         "z": 0
        },
        "up": {
         "x": 0.09765898079174065,
         "y": 0.23208071779993272,
         "z": -0.9677816199412905
        }
       },
       "camera": {
        "far": 1000,
        "near": 0.1,
        "position": {
         "x": 0.27057631353305844,
         "y": 6.702563444149367,
         "z": -0.049312632332197764
        },
        "target": {
         "x": 0,
         "y": 0,
         "z": 0
        },
        "up": {
         "x": -0.003726563135538217,
         "y": 0.44113772676914204,
         "z": -0.897431679153433
        }
       },
       "drawn": 0,
       "events": [],
       "height": 400,
       "layout": "IPY_MODEL_633b50d531744e76a3eabec03c5730ba",
       "rpc": {
        "calls": [
         {
          "length": 0.5,
          "name": "xform0",
          "type": "add_xform",
          "width": 2
         },
         {
          "matrix": [
           0.7906049532510695,
           -0.6123265533152014,
           0,
           0,
           0.6123265533152014,
           0.7906049532510695,
           0,
           0,
           0,
           0,
           1,
           0.1,
           0,
           0,
           0,
           1
          ],
          "object": "xform0",
          "type": "set_transform"
         },
         {
          "length": 0.5,
          "name": "xform1",
          "type": "add_xform",
          "width": 2
         },
         {
          "matrix": [
           -0.051181301701781035,
           -0.9986893783134531,
           0,
           0.7906049532510695,
           0.9986893783134531,
           -0.051181301701781035,
           0,
           0.6123265533152014,
           0,
           0,
           1,
           0.1,
           0,
           0,
           0,
           1
          ],
          "object": "xform1",
          "type": "set_transform"
         }
        ],
        "type": "multiple"
       },
       "scene": {
        "geometries": [
         {
          "data": {
           "faces": [
            0,
            0,
            1,
            3,
            0,
            0,
            3,
            2,
            0,
            4,
            6,
            7,
            0,
            4,
            7,
            5,
            0,
            0,
            4,
            5,
            0,
            0,
            5,
            1,
            0,
            2,
            3,
            7,
            0,
            2,
            7,
            6,
            0,
            0,
            2,
            6,
            0,
            0,
            6,
            4,
            0,
            1,
            5,
            7,
            0,
            1,
            7,
            3
           ],
           "scale": 1,
           "vertices": [
            0,
            -0.05,
            -0.05,
            0,
            -0.05,
            0.05,
            0,
            0.05,
            -0.05,
            0,
            0.05,
            0.05,
            1,
            -0.05,
            -0.05,
            1,
            -0.05,
            0.05,
            1,
            0.05,
            -0.05,
            1,
            0.05,
            0.05
           ]
          },
          "type": "Geometry",
          "uuid": "4ffefb34-f66a-46cf-be56-01e2b24b0a4b"
         },
         {
          "data": {
           "faces": [
            0,
            0,
            1,
            3,
            0,
            0,
            3,
            2,
            0,
            4,
            6,
            7,
            0,
            4,
            7,
            5,
            0,
            0,
            4,
            5,
            0,
            0,
            5,
            1,
            0,
            2,
            3,
            7,
            0,
            2,
            7,
            6,
            0,
            0,
            2,
            6,
            0,
            0,
            6,
            4,
            0,
            1,
            5,
            7,
            0,
            1,
            7,
            3
           ],
           "scale": 1,
           "vertices": [
            0,
            -0.05,
            -0.05,
            0,
            -0.05,
            0.05,
            0,
            0.05,
            -0.05,
            0,
            0.05,
            0.05,
            1,
            -0.05,
            -0.05,
            1,
            -0.05,
            0.05,
            1,
            0.05,
            -0.05,
            1,
            0.05,
            0.05
           ]
          },
          "type": "Geometry",
          "uuid": "bc245a53-8a78-4af4-92e3-3dc30aa89f94"
         }
        ],
        "materials": [
         {
          "color": 4161407,
          "emissive": 0,
          "type": "MeshPhongMaterial",
          "uuid": "30b65a37-7dda-41c8-bc2f-9a5e0a3d5954"
         },
         {
          "color": 8339327,
          "emissive": 0,
          "type": "MeshPhongMaterial",
          "uuid": "de2b96f8-c38e-44c8-a34c-faf0c1ede6c1"
         }
        ],
        "metadata": {
         "fullscene": true,
         "generator": "Klampt three.js export",
         "type": "Object",
         "version": 4.4
        },
        "object": {
         "children": [
          {
           "children": [
            {
             "children": [
              {
               "geometry": "bc245a53-8a78-4af4-92e3-3dc30aa89f94",
               "material": "de2b96f8-c38e-44c8-a34c-faf0c1ede6c1",
               "matrix": [
                1,
                0,
                0,
                0,
                0,
                1,
                0,
                0,
                0,
                0,
                1,
                0,
                1,
                0,
                0,
                1
               ],
               "name": "Link 1",
               "type": "Mesh",
               "uuid": "32a72db5-046a-48fb-836b-29fa8b75ad47"
              }
             ],
             "geometry": "4ffefb34-f66a-46cf-be56-01e2b24b0a4b",
             "material": "30b65a37-7dda-41c8-bc2f-9a5e0a3d5954",
             "matrix": [
              1,
              0,
              0,
              0,
              0,
              1,
              0,
              0,
              0,
              0,
              1,
              0,
              0,
              0,
              0,
              1
             ],
             "name": "Link 0",
             "type": "Mesh",
             "uuid": "9686df82-a8e8-4d96-9ff2-cdb75b225851"
            }
           ],
           "matrix": [
            1,
            0,
            0,
            0,
            0,
            1,
            0,
            0,
            0,
            0,
            1,
            0,
            0,
            0,
            0,
            1
           ],
           "name": "planar2R",
           "type": "Group",
           "uuid": "79a7158c-1d8b-42aa-954a-2afa7e074843"
          },
          {
           "color": 16777215,
           "intensity": 1,
           "name": "DirectionalLight 1",
           "position": [
            2,
            -3,
            9
           ],
           "target": {
            "position": [
             0,
             null,
             null
            ]
           },
           "type": "DirectionalLight",
           "uuid": "e08d48c0-e296-4a36-82b8-1f76dd5698b0"
          }
         ],
         "matrix": [
          1,
          0,
          0,
          0,
          0,
          0,
          -1,
          0,
          0,
          1,
          0,
          0,
          0,
          0,
          0,
          1
         ],
         "name": "world",
         "type": "Scene",
         "uuid": "9418f669-dcb7-4ca9-b552-adef52f8d567"
        }
       },
       "transforms": {
        "metadata": {
         "fullscene": false,
         "generator": "Klampt three.js export",
         "type": "Object",
         "version": 4.4
        },
        "object": [
         {
          "matrix": [
           1,
           0,
           0,
           0,
           0,
           0,
           -1,
           0,
           0,
           1,
           0,
           0,
           0,
           0,
           0,
           1
          ],
          "name": "world"
         },
         {
          "matrix": [
           1,
           0,
           0,
           0,
           0,
           1,
           0,
           0,
           0,
           0,
           1,
           0,
           0,
           0,
           0,
           1
          ],
          "name": "planar2R"
         },
         {
          "matrix": [
           0.790605,
           0.612327,
           0,
           0,
           -0.612327,
           0.790605,
           0,
           0,
           0,
           0,
           1,
           0,
           0,
           0,
           0,
           1
          ],
          "name": "Link 0"
         },
         {
          "matrix": [
           0.57106,
           0.820908,
           0,
           0,
           -0.820908,
           0.57106,
           0,
           0,
           0,
           0,
           1,
           0,
           1,
           0,
           0,
           1
          ],
          "name": "Link 1"
         }
        ]
       },
       "width": 400
      }
     },
     "f4971590de9f40efac70eed541d61968": {
      "model_module": "@jupyter-widgets/controls",
      "model_module_version": "1.4.0",
      "model_name": "FloatSliderModel",
      "state": {
       "description": "Link 0",
       "layout": "IPY_MODEL_b8bd47ff9a4e49dc9412d8529445891a",
       "max": 6.28319,
       "step": 0.001,
       "style": "IPY_MODEL_47161b8ebf0648aaa961fb3bd6a843d0",
       "value": 0.496
      }
     },
     "f68a793bf5f44422af7da5c58d34c75c": {
      "model_module": "@jupyter-widgets/base",
      "model_module_version": "1.1.0",
      "model_name": "LayoutModel",
      "state": {}
     },
     "f7ea97a551f44d13a88f2cf70219d167": {
      "model_module": "@jupyter-widgets/base",
      "model_module_version": "1.1.0",
      "model_name": "LayoutModel",
      "state": {}
     }
    },
    "version_major": 2,
    "version_minor": 0
   }
  }
 },
 "nbformat": 4,
 "nbformat_minor": 2
}
