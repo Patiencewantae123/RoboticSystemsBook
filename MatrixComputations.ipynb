{
 "cells": [
  {
   "cell_type": "markdown",
   "metadata": {},
   "source": [
    "# Appendix B. NUMERICAL METHODS\n",
    "\n",
    "# B.2. Matrix Computations"
   ]
  },
  {
   "cell_type": "markdown",
   "metadata": {},
   "source": [
    "## Equation solving"
   ]
  },
  {
   "cell_type": "markdown",
   "metadata": {},
   "source": [
    "## Method of least-squares"
   ]
  },
  {
   "cell_type": "markdown",
   "metadata": {},
   "source": [
    "## Eigendecomposition\n",
    "\n",
    "\n",
    "## Singular value decomposition\n",
    "\n",
    "The singular value decomposition (SVD) gives a similar factorization to\n",
    "the eigendecomposition, but can be applied to non-square matrices. It\n",
    "also gives convenient solutions to find a matrix's rank and null space.\n",
    "\n",
    "The SVD of an $m \\times n$ matrix $A$ takes the form:\n",
    "$$A = U \\Sigma V^T$$ where $U$ is an $m \\times m$ orthogonal matrix, $V$\n",
    "is an $n \\times m$ matrix with orthogonal columns, and $\\Sigma$ is an\n",
    "$m \\times m$ matrix with zero entries on all of the off-diagonals, and\n",
    "the diagonal containing only nonnegative entries.\n",
    "\n",
    "The SVD can be used for many purposes:\n",
    "- Calculating matrix rank\n",
    "- Calculating a pseudoinverse\n",
    "- Dimensionality reduction\n",
    "- Least-squares equation solving\n",
    "\n",
    "In this book we use it\n",
    "primarily for calculating the matrix pseudoinverse $A^+$. Once the SVD\n",
    "is computed, the pseudoinverse $\\Sigma^+$ of $\\Sigma$ can be computed by\n",
    "taking the reciprocal of all nonzero diagonal entries of $\\Sigma$, and\n",
    "leaving the zero entries. Then the pseudoinverse of $A$ is\n",
    "$A^+ = V \\Sigma^+ U^T$. It is an exercise to convince yourself that this\n",
    "solution indeed satisfies the properties of the pseudoinverse."
   ]
  },
  {
   "cell_type": "code",
   "execution_count": null,
   "metadata": {},
   "outputs": [],
   "source": []
  }
 ],
 "metadata": {
  "kernelspec": {
   "display_name": "Python 3",
   "language": "python",
   "name": "python3"
  },
  "language_info": {
   "codemirror_mode": {
    "name": "ipython",
    "version": 3
   },
   "file_extension": ".py",
   "mimetype": "text/x-python",
   "name": "python",
   "nbconvert_exporter": "python",
   "pygments_lexer": "ipython3",
   "version": "3.7.5"
  },
  "latex_envs": {
   "LaTeX_envs_menu_present": true,
   "autoclose": false,
   "autocomplete": true,
   "bibliofile": "biblio.bib",
   "cite_by": "apalike",
   "current_citInitial": 1,
   "eqLabelWithNumbers": true,
   "eqNumInitial": 1,
   "hotkeys": {
    "equation": "Ctrl-E",
    "itemize": "Ctrl-I"
   },
   "labels_anchors": false,
   "latex_user_defs": false,
   "report_style_numbering": false,
   "user_envs_cfg": false
  },
  "toc": {
   "base_numbering": 1,
   "nav_menu": {},
   "number_sections": true,
   "sideBar": true,
   "skip_h1_title": true,
   "title_cell": "Table of Contents",
   "title_sidebar": "Contents",
   "toc_cell": false,
   "toc_position": {},
   "toc_section_display": true,
   "toc_window_display": true
  }
 },
 "nbformat": 4,
 "nbformat_minor": 2
}
