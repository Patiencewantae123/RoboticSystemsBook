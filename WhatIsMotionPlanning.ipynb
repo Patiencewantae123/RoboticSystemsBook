{
 "cells": [
  {
   "cell_type": "markdown",
   "metadata": {},
   "source": [
    "# Section III. MOTION PLANNING\n",
    "    \n",
    "# Chapter 8. What is motion planning?"
   ]
  },
  {
   "cell_type": "markdown",
   "metadata": {},
   "source": [
    "With the tools developed so far, we have developed a good understanding\n",
    "of robots at static poses, but we have not yet developed an\n",
    "understanding of how they move. Later we will cover the topic of\n",
    "dynamics and control, which will seek theories to model and regulate the\n",
    "velocities, accelerations, and forces acting on the robot to generate\n",
    "motion. But for the moment, we can still develop a great deal of\n",
    "understanding about robot motion using the kinematics we have developed\n",
    "so far. In this section of the book, we will consider the central question of\n",
    "motion planning, loosely defined as follows.\n",
    "\n",
    "> **Motion planning**: the use of computational methods to generate a robot's motion to achieve a specified task.\n",
    "\n",
    "Motion planning is a critical component of any autonomous system that exhibits intelligent behavior.  It plays a central role in the ecosystem of components of a robot, since the inputs to a planner include the robot’s state (coming from localization), environmental conditions (coming from perception), dynamic predictive models (coming from calibration and simulation), and task specification (coming from systems engineers and human supervisors), and the output of a motion planner is a low-level motion representation (sent to the controller). In short, motion planning governs how _all of the knowledge_ available to the system influences _all actuation decisions_.\n",
    "\n",
    "*************************\n",
    "![fig:PlanningOverview](figures/planning/overview.svg)\n",
    "\n",
    "<div class=\"figcaption\"><a href=\"#fig:PlanningOverview\">Figure 1</a>.\n",
    "    The role of planning is to consume mission objectives, perception outputs, and prior information to generate a representation of the robot's motion.  The motion will be executed by the controller.\n",
    "</div>\n",
    "\n",
    "*************************\n",
    "\n",
    "The three inputs into a motion planner are the system state, the system model and the task specification. For example, in the context of autonomous vehicles, the system state may specify the vehicle’s state, the map around it, and the state and intentions of other agents. The system model predicts how the system state changes in the future, conditioned on the robot’s decisions. The task specification includes cost function(s) that measure the quality of candidate motions as well as constraints that the motion must meet.  For example, an autonomous vehicle may wish to maximize ride comfort while also remaining collision-free, staying within a lane, etc. \n",
    "\n",
    "In Chapters [9](GeometricMotionPlanning.ipynb) and [10](MotionPlanningHigherDimensions.ipynb), we will focus mainly on the problem of *kinematic motion planning* (aka\n",
    "path planning), defined as follows:\n",
    "\n",
    "> **Kinematic motion planning** (aka **Path planning**): the use of computational methods generate a continuous path between two robot configurations while respecting joint limits and avoiding obstacles.\n",
    "\n",
    "\n",
    "This is purely a *geometric* problem that sidesteps the complexity of timing and dynamics. \n",
    "The resulting path is much like a route planned on a map, which instructs you the sequence of routes and\n",
    "turns to take to reach the goal, but not how quickly to drive. Although this doesn't solve the motion planning problem in its entirety, the resulting algorithms are still quite useful for robot manipulators and high-level routes for mobile robots. Indeed, the techniques studied for this simplified problems are often used in practice because it is relatively straightforward to construct schemes for some robots (e.g., industrial\n",
    "robots and differential drive mobile robots) to track a geometric path. Also, by studying the kinematic problem we introduce computational representations, algorithms, and complexity theorems used\n",
    "ubiquitously in robot decision making.\n",
    "\n",
    "Highly dynamic robots like autonomous cars and agile drones will require reasoning about dynamics *upfront* during the planning procedure.  We will discuss how to plan for these systems in [Chapter 11](PlanningWithDynamicsAndUncertainty.ipynb). Later will revisit the problem of\n",
    "dynamics and uncertainty in [Section IV](WhatAreDynamicsAndControl.ipynb).\n",
    "\n",
    "In the [final chapter](AdvancedTopicsInPlanning.ipynb) of this section we discuss specialized applications of planning to multi-agent systems, planning for manipulation and legged locomotion, and integrating motion planning with high-level reasoning. \n",
    "\n",
    "Why is planning hard?\n",
    "---------------------\n",
    "\n",
    "Because it is natural for humans to navigate their environments (at\n",
    "least outside of hedge mazes!) the motion planning problem at\n",
    "first glance may appear to be somewhat straightforward. Our brains quite\n",
    "naturally build mental maps of the space of possible movements when\n",
    "looking at obstacles around us. However, this spatial reasoning is\n",
    "nontrivial for robots, which must break down the navigation task into a\n",
    "sequence of low-level actions.\n",
    "\n",
    "Initial attempts to solving this problem might look something like a\n",
    "script: move forward toward the goal until it is reached or an obstacle\n",
    "is encountered; if an obstacle is reached, then move left, then turn\n",
    "right once the obstacle is cleared, and repeat from step 1, etc.\n",
    "Although scripting behaviors may work with very simple obstacles, this\n",
    "approach becomes fraught with brittleness once obstacles become more\n",
    "varied or complex.\n",
    "\n",
    "More sophisticated *deliberative* reasoning is needed to successfully\n",
    "navigate in more complex environments, like indoor navigation or outdoor\n",
    "terrain. In order to do so, the robot must be able to hypothesize\n",
    "various future states that it might be in, and actions it might take.\n",
    "Planning is somewhat like playing a game of chess, in that you imagine\n",
    "possible future states of the board as a result of various actions that\n",
    "you might take. This cannot be done efficiently in a naive fashion. If\n",
    "$n$ steps were needed to reach a goal, and $m$ actions were available at\n",
    "each step, then there would be $m^n$ possible future action sequences!\n",
    "This can rapidly become huge, even for small values of $m$ and $n$ (not\n",
    "to mention the fact that robots can perform a *continuously infinite*\n",
    "number of actions.) As a result, we must be more careful about how to\n",
    "structure the deliberative reasoning process.\n",
    "\n",
    "Stating the motion planning problem\n",
    "-----------------------------------\n",
    "\n",
    "Let us assume the robot has configuration space (C-space) $\\mathcal{C}$.\n",
    "A motion planning problem is specified with the following inputs:\n",
    "\n",
    "-   A kinematic and geometric description of the robot\n",
    "\n",
    "-   A geometric description of the robot's environment\n",
    "\n",
    "-   Constraints on how the robot is allowed to move\n",
    "\n",
    "-   The robot's start configuration\n",
    "\n",
    "-   A description of the robot's goal (usually a configuration, a point\n",
    "    in task-space, or a subset of configuration space)\n",
    "\n",
    "-   Optionally, an optimality criterion that should be minimized or maximized\n",
    "    (such as minimum path length,\n",
    "    maximum clearance from obstacles, or minimum energy expended)\n",
    "\n",
    "A *feasible path* is a continuous curve in C-space\n",
    "$y(s):[0,1]\\rightarrow \\mathcal{C}$ that does not violate any\n",
    "constraints. A *solution path* is a feasible path beginning at the start\n",
    "configuration and ending at the goal. If an optimality criterion is\n",
    "provided, then a solution path should also be optimal (e.g., minimize a\n",
    "cost function) or at least close to optimal.\n",
    "\n",
    "There are numerous types of motion constraints that may be specified,\n",
    "which can be categorized by the manner in which they constrain the\n",
    "robot's path:\n",
    "\n",
    "-   Local (kinematic): each point along the path must satisfy some\n",
    "    condition, e.g., avoid collision with obstacles.\n",
    "\n",
    "-   Differential (dynamic): the derivative along the path must satisfy\n",
    "    some condition, e.g., bounded curvature.\n",
    "\n",
    "-   Global: the entire path must satisfy some condition, e.g., path\n",
    "    length must be within some bound.\n",
    "\n",
    "When both kinematic and dynamic constraints are present, this is known\n",
    "as a *kinodynamic planning* problem.\n",
    "\n",
    "*************************\n",
    "\n",
    "| (a)  Local (kinematic) | (b) Differential (dynamic) | Global |\n",
    "|------------------------|----------------------------|--------|\n",
    "|![fig:PlanningConstraints1](figures/planning/constraints1.svg)|![fig:PlanningConstraints1](figures/planning/constraints2.svg)|![fig:PlanningConstraints1](figures/planning/constraints3.svg)|\n",
    "\n",
    "<div class=\"figcaption\"><a href=\"#fig:PlanningConstraints\">Figure 2</a>.\n",
    "    Illustrating the three classes of constraints.  Local constraints include collisions with obstacles.  Differential constraints limit the derivative of the robot's path.  Global constraints are imposed on the entire path, e.g., the robot must return to its base before its battery is exhausted.\n",
    "</div>\n",
    "\n",
    "*************************\n",
    "\n",
    "### Point-to-point path planning\n",
    "\n",
    "In the most basic path planning problem, which is the topic of most of\n",
    "the next chapters, we consider problems that are *point-to-point,\n",
    "feasible, and kinematic*. In other words, the motion constraints include\n",
    "only obstacle avoidance and joint limit avoidance, the robot's goal is a\n",
    "single configuration, and there is no optimality criterion.\n",
    "\n",
    "In path planning we can speak of a subset of C-space that contains all\n",
    "configurations that do not violate any motion constraints. This is known\n",
    "as the *free space* $\\mathcal{F} \\subseteq \\mathcal{C}$ defined such\n",
    "that\n",
    "$$\\mathcal{F} = \\{ q \\in \\mathcal{C} \\,|\\, q_{min} \\leq q \\leq q_{max} \\text{ and } R(q) \\cap E = \\emptyset \\}.$$\n",
    "Here, $q_{min}$ and $q_{max}$ are the lower and upper joint limits,\n",
    "respectively, $R(q) \\subset \\mathbb{R}^2$ or $\\mathbb{R}^3$ is the\n",
    "subset of workspace occupied by the robot, and $E$ is the subset of the\n",
    "workspace occupied by the environment.\n",
    "\n",
    "The complement of the free space is known as the *forbidden space*\n",
    "$\\mathcal{C} \\setminus \\mathcal{F}$. Our problem can be restated as\n",
    "finding a continuous curve $y(s)$ such that:\n",
    "\n",
    "-   $y(s) \\in \\mathcal{F}$ for all $s \\in [0,1]$ (feasibility)\n",
    "\n",
    "-   $y(0) = q_I$ (initial configuration)\n",
    "\n",
    "-   $y(1) = q_G$ (goal configuration).\n",
    "\n",
    "It may be somewhat difficult for a computer to reason about all possible curves, since a curve is a collection of an infinite number of points.  Instead, it will be necessary to represent paths in a finite number of parameters.  We will describe various [path representations](#Representations-of-paths) below.\n",
    "\n",
    "### Completeness and optimality\n",
    "\n",
    "A *motion planner* is an algorithm that solves a class of motion\n",
    "planning problems. Motion planners are characterized by the class of\n",
    "problems addressed, as well as their performance in solving them.\n",
    "\n",
    "The first question to consider is that of *completeness*: \"will the\n",
    "planner find a path (if one exists)?\" Specifically:\n",
    "\n",
    "> **Complete planner**. A planner is complete if it finds a path in finite time if one exists, *and* it\n",
    "> terminates with \"no path\" when no path exists.\n",
    "\n",
    "We shall see in the next section that it is difficult to develop complete planners outside of relatively simple scenarios.  A relaxed version of\n",
    "completeness is *resolution-completeness*, in which the planner is\n",
    "guaranteed to find a path if one exists as some resolution parameter\n",
    "$h$, say, the size of a grid cell, approaches 0. However, if the planner\n",
    "returns \"no path\" for a given value of $h$, then we cannot tell whether\n",
    "there truly exists no path, or $h$ was not set small enough. \n",
    "\n",
    "> **Resolution-complete planner**. A planner is resolution-complete if it accepts a resolution parameter $h>0$, such that if a path exists, it will find one in finite time given a value of $h$ made sufficiently small.\n",
    "\n",
    "Another relaxed version is *probabilistic completeness*, in which the\n",
    "*likelihood* of failing to find a path, when one exists, approaches 0 as\n",
    "more time is spent planning. If such a planner returns \"no path\" after\n",
    "some amount of time, then we cannot tell whether there truly exists no\n",
    "path, or not enough time was spent planning to yield a high chance of\n",
    "finding a path.\n",
    "\n",
    "> **Probabilistically-complete planner**. A planner is probabilistically complete if, when a path exists, then the probability that it fails to find one decreases toward 0 as more time is spent planning.\n",
    "\n",
    "The other property to consider that of *optimality*: \"will the planner\n",
    "find an optimal path?\" \n",
    "\n",
    "> **Optimal planner**. An optimal planner terminates in finite time and computes the\n",
    "optimal path, if one exists. \n",
    "\n",
    "Hence, optimal planners must also be complete, but the converse is not necessarily true. Given the difficulty of developing complete planners, we also consider relaxed versions of optimality.\n",
    "\n",
    "An *approximately-optimal* planner will\n",
    "terminate with a path whose cost is no more than $(1+\\epsilon)$ times\n",
    "the optimal cost, where $\\epsilon > 0$ is some constant. An\n",
    "*asymptotically-optimal* planner will, given enough time, find a path\n",
    "whose cost is within a factor of $(1+\\epsilon)$ times the optimal cost\n",
    "for *any* specified value $\\epsilon > 0$. In other words, given more\n",
    "time, the planner will produce progressively better paths.\n",
    "\n",
    "### Explicit vs implicit plans (paths vs policies)\n",
    "\n",
    "\n",
    "The classical form of planning described above _computes a single path_ (or declares \"no path found\"). The planned path is then sent to a controller (described in more detail in [Section IV](WhatAreDynamicsAndControl.ipynb)) which will then try to *execute* the plan by generating actuator commands to follow it.  \n",
    "Over the course of execution, the robot's state will trace out an *executed path*, which may or may not be close to the original plan.   For some systems and situations, everything goes \"according to plan\" and the robot will follow the path faithfully, and predictions about the world's behavior are accurate ([Fig. 3](#fig:Execution)).  But in many settings, trusting the plan is risky.\n",
    "\n",
    "| (a)  Imperfect plan execution | (b) Imperfect prediction about other agents in the world\n",
    "|---------------------------------------------------------------|--------------------------------------------------------|\n",
    "|![fig:ImperfectExecution](figures/planning/imperfect-execution.svg) | ![fig:ImperfectPrediction](figures/planning/imperfect-prediction.svg) |\n",
    "\n",
    "<div class=\"figcaption\"><a name=\"fig:Execution\">Figure 3</a>. \n",
    "    A planned path may differ from an executed path.  (a) The robot's execution (dotted line) does not track the plan (solid line) well, triggering a replan that requires it to back up to pass through the obstacles.  (b) The robot executes its path perfectly, but its initial plan predicts that the pedestrian will continue walking (dotted line). When the pedestrian stops, the robot must detect that the plan is invalid, and take an alternate path.\n",
    "    </div>\n",
    "\n",
    "*************\n",
    "\n",
    "We shall cover two methods for planning under imperfect execution / prediction in [Chapter 11](PlanningWithDynamicsAndUncertainty.ipynb#Planning-under-imperfect-execution).  The first idea addresses the problem at the level of the sense-plan-act loop by frequently *replanning*.  Replanning can happen either on a fixed schedule or when the robot deviates from the plan; if it can be done fast enough, then the robot can respond to changes in the environment before a catastrophic failure. \n",
    "\n",
    "The second idea is to modifying the planning problem so that it generates a _policy_, which is a sensor-based  process that is designed to respond to changes in the robot's state or the environment.  We will discuss policies in more detail in [Chapter 11](PlanningWithDynamicsAndUncertainty.ipynb#Markov-Decision-Processes-(MDPs)) and when we cover control in [Section IV](WhatAreDynamicsAndControl.ipynb).  To plan a policy, the robot must be able to anticipate when and how execution can go wrong, and determine contingency plans for all possible outcomes. Suffice to say, finding complete / optimal policies is at least as hard as finding complete / optimal paths. \n"
   ]
  },
  {
   "cell_type": "markdown",
   "metadata": {},
   "source": [
    "## Heuristic methods\n",
    "\n",
    "As a counterpoint to the more principled approaches that we will begin to study in the next chapter and beyond, it is worth mentioning two heuristic methods that are often used in practice.  By \"heuristic\" it is meant that these methods are often useful to achieve satisfactory performance, but offer no guarantees about optimality or success."
   ]
  },
  {
   "cell_type": "markdown",
   "metadata": {},
   "source": [
    "### Behavior scripting\n",
    "\n",
    "In behavior scripting, the control signal sent to the robot's actuators is a direct function of its input sensor signals, which is programmed as a body of procedural code; e.g., a set of arithmetic operations and if-else statements.  This programmed logic becomes the body of the \"planner\", which does not actually explicitly plan anything. Behavior scripting has the appeal in that it provides novices with an easy pathway to start experimenting with robot behaviors.  For example, to follow a black line on a sheet of white paper, two brightness sensors can be used, one to the left and the other to the right of the line.  If the left sensor reads \"black\", turn the wheel more to the left and reduce the forward velocity.  If the right sensor reads \"black\", turn the wheel more to the right and reduce the forward velocity.  Otherwise, turn the wheel toward center, and increase the forward velocity.  Properly tuned, this behavior will do a reasonable job at following lines that are not too curved at a slow speed.\n",
    "\n",
    "A more complex behavior script can include some notion of memory that is maintained from step to step, such as a list of objects seen or past actions taken.  A common form of memory is used in a _state machine_, where the behavior switches between discrete modes depending on the sensor input or past actions taken.  In a pure state machine, the only thing that needs to be remembered is the index of the current state. State machines will be discussed in more detail in [Chapter 16](RobotControl.ipynb#State-machines).\n",
    "\n",
    "With a bit of ingenuity (and a great deal of testing and tuning), engineers can produce behavior scripts that encode sophisticated behavior.  There is some degree of pride in crafting such behaviors, with the intelligence of the engineer manifesting itself in the appearance of intelligent behavior.  However, the challenge of this approach is that as the problem domain becomes more complex, the complexity of the program's logic (and the corresponding difficulty of programming good behavior) tends to grow exponentially."
   ]
  },
  {
   "cell_type": "markdown",
   "metadata": {},
   "source": [
    "### Generate-and-score\n",
    "\n",
    "A straightforward way of performing motion planning is a three step process:\n",
    "1. _Generate_ a set of $N$ paths $p_1,\\ldots,p_N$, each of which starts from the robot's current state $x$.\n",
    "2. _Score_ each path using a score function $S(p)$.  Let $p_i$ be the path with minimum score.\n",
    "3. _Execute_ the first part of $p_i$, and then repeat from step 1.\n",
    "\n",
    "Unlike behavior scripting, this _generate-and-score_ approach is indeed a true planner, because the _Generate_ step predicts how the robot will behave and the _Score_ step can perform collision checks and handle other constraints.\n",
    "\n",
    "A huge range of behavior can be obtained by tweaking the path generation and scoring methods.  As an example, a random-path generation approach simply generates $N$ paths at random, and the scoring function will assign infinite cost to any infeasible path. For feasible paths, the score will measure a combination of the length of the path and the distance from the end of the path to the goal. What we can observe with this approach is that its success is highly problem-dependent. If the robot is traveling in a wide open space or around small obstacles, then it works fairly well, although there is a little jittering.\n",
    "\n",
    "This jittering can be reduced by applying some smoothing in postprocessing.  Or, rather than generating random paths, we can use a library of _motion primitives_ that are the same at each iteration, slightly modified to start at the robot's current state.  For example, a mobile robot can move forward, move backward, turn right, turn left, or perform swerving maneuvers left and right.\n",
    "\n",
    "************************\n",
    "![fig:GenerateAndScore](figures/planning/generate-and-score.svg)\n",
    "\n",
    "<div class=\"figcaption\"><a name=\"fig:GenerateAndScore\">Figure 4</a>. \n",
    "    A generate-and-score approach for a mobile robot may use a set of local motion primitives, defined in the robot's local frame (<em>egocentric</em> coordinates).  The scoring function will check collisions with each primitive, and will choose to execute the primitive that makes the most progress toward the target (restricted to its collision-free subpath).\n",
    "    </div>\n",
    "\n",
    "************************\n",
    "\n",
    "This approach can be very computationally light, and even effective at solving some simpler problems.  However, because the generated paths usually do not reach all the way to the goal, this approach assumes that the problem requires minimal amounts of long-range deliberation. For example, consider the problem where the robot must exit a room before making progress to the goal.  Because the robot must sacrifice progress before making progress, it will be incredibly unlikely to find a path out of the first room, either using random paths or motion primitives.  This is known as a _local minimum_, which will be a reoccurring issue throughout robotics."
   ]
  },
  {
   "cell_type": "markdown",
   "metadata": {},
   "source": [
    "## Representations of paths\n",
    "\n",
    "A path is a continuous curve \n",
    "\n",
    "$$y : [0,1] \\rightarrow \\mathcal{C}$$\n",
    "\n",
    "interpolating between initial and goal configurations $q_I = y(0)$ and $q_G = y(1)$.  There are as many ways to represent paths as there are ways to encode functions, but in robotics we typically use a handful of representations.  The most common variants are described here."
   ]
  },
  {
   "cell_type": "markdown",
   "metadata": {},
   "source": [
    "### Piecewise-linear paths\n",
    "\n",
    "For most of the motion planning chapters, we assume that a path is represented as a\n",
    "piecewise-linear curve, or for non-Euclidean configuration spaces, a\n",
    "piecewise-geodesic curve in C-space. \n",
    "\n",
    "This representation is a set of $n$ connected line segments, simply given a list of $n$ configurations $q_0,\\ldots,q_n$ satisfying $q_0 = q_I$ and $q_n = q_G$.  These configurations are often known as _milestones_ or _waypoints_.  The interpolating curve is given by\n",
    "\n",
    "$$y(s) = interp(q_i,q_{i+1},sn-i)$$\n",
    "\n",
    "where $i = \\lfloor sn\\rfloor$ is the zero-based index of the segment addressed by the parameter $s$.\n",
    "\n",
    "This representation is quite versatile, as all paths can be approximated arbitrarily well by a piecewise linear path with sufficiently large $n$.  Also, path evaluation takes $O(1)$ time.  However, derivatives at each milestone are undefined, which means potentially jerky motions and difficulty handling system dynamics."
   ]
  },
  {
   "cell_type": "code",
   "execution_count": 11,
   "metadata": {
    "code_folding": [
     0
    ]
   },
   "outputs": [
    {
     "data": {
      "image/png": "[encoded data removed]",
      "text/plain": [
       "<Figure size 648x216 with 2 Axes>"
      ]
     },
     "metadata": {},
     "output_type": "display_data"
    }
   ],
   "source": [
    "#Code for the below figures on piecewise linear curves\n",
    "%matplotlib inline\n",
    "import math\n",
    "import matplotlib.pyplot as plt\n",
    "import numpy as np\n",
    "\n",
    "def interp_piecewise_linear(qs,s):\n",
    "    \"\"\"Interpolates a piecewise linear curve, given by the milestone list qs, at the parameter s in the range [0,1]\"\"\"\n",
    "    if s <= 0: return qs[0]\n",
    "    if s >= 1: return qs[-1]\n",
    "    n = len(qs)-1\n",
    "    i = int(math.floor(s*n))\n",
    "    u = s*n-i\n",
    "    return qs[i]+u*(qs[i+1]-qs[i])\n",
    "\n",
    "#you may play with the milestones here\n",
    "milestones = np.array([(0,0),(1,1.5),(-2.5,2),(-3.0,1.5)])\n",
    "\n",
    "#this is the plotting code\n",
    "plt.figure(num=None, figsize=(9, 3))\n",
    "plt.subplot(1, 2, 1)\n",
    "plt.plot(milestones[:,0],milestones[:,1])\n",
    "plt.xlabel('x')\n",
    "plt.ylabel('y')\n",
    "plt.scatter(milestones[:,0],milestones[:,1],c='k',linewidths=None)\n",
    "\n",
    "plt.subplot(1, 2, 2)\n",
    "ss = np.linspace(0,1,20)\n",
    "evaluated = np.array([interp_piecewise_linear(milestones,s) for s in ss])\n",
    "plt.plot(us,evaluated[:,0],label=\"x(s)\")\n",
    "plt.plot(us,evaluated[:,1],label=\"y(s)\")\n",
    "plt.xlabel('s')\n",
    "plt.ylabel('x or y')\n",
    "plt.legend()\n",
    "plt.show()"
   ]
  },
  {
   "cell_type": "markdown",
   "metadata": {},
   "source": [
    "### Polynomial\n",
    "\n",
    "Another common representation is a degree $d$ polynomial\n",
    "\n",
    "$$ y(s) = poly(\\mathbf{c}_0,\\ldots,\\mathbf{c}_d;s) = \\sum_{i=0}^d \\mathbf{c}_i s^i $$\n",
    "\n",
    "where $\\mathbf{c}_0,\\ldots,\\mathbf{c}_d \\in \\mathcal{C}$ are the polynomial coefficients.  This is a _parametric_ representation in which each component of the motion is represented by an independent 1D function.  Hence, in 2D the y component of a curve may not be, in general, a proper function of x, even though both x and y are proper functions of u."
   ]
  },
  {
   "cell_type": "code",
   "execution_count": 12,
   "metadata": {
    "code_folding": [
     0
    ]
   },
   "outputs": [
    {
     "data": {
      "image/png": "[encoded data removed]",
      "text/plain": [
       "<Figure size 648x216 with 2 Axes>"
      ]
     },
     "metadata": {},
     "output_type": "display_data"
    }
   ],
   "source": [
    "#Code for the figure below, showing the parametric nature of multivariate polynomial curves\n",
    "%matplotlib inline\n",
    "import math\n",
    "import matplotlib.pyplot as plt\n",
    "from numpy.polynomial import polynomial\n",
    "\n",
    "def interp_polynomial(cs,s):\n",
    "    \"\"\"Interpolates a piecewise linear curve given by the coefficient list cs\"\"\"\n",
    "    return polynomial.polyval(s,cs)\n",
    "\n",
    "#you may play with the coefficients here\n",
    "coeffs = np.array([(0,0),(1,1),(0,3.0),(-6,-4.0)])\n",
    "\n",
    "ss = np.linspace(0,1,20)\n",
    "evaluated = np.array([interp_polynomial(coeffs,s) for s in ss])\n",
    "\n",
    "#this is the plotting code\n",
    "plt.figure(num=None, figsize=(9, 3))\n",
    "plt.subplot(1, 2, 1)\n",
    "plt.plot(evaluated[:,0],evaluated[:,1])\n",
    "plt.xlabel('x')\n",
    "plt.ylabel('y')\n",
    "\n",
    "plt.subplot(1, 2, 2)\n",
    "plt.plot(us,evaluated[:,0],label='x(s)')\n",
    "plt.plot(us,evaluated[:,1],label='y(s)')\n",
    "plt.xlabel('s')\n",
    "plt.ylabel('x or y')\n",
    "plt.legend()\n",
    "plt.show()"
   ]
  },
  {
   "cell_type": "markdown",
   "metadata": {},
   "source": [
    "A polynomial is infinitely smooth, but in order to represent complex paths, the polynomial must be of high degree.  High degree polynomials often lead to numerical instability, in which small changes to the highest degree terms cause the curve to change wildly.  The coefficients are also difficult to choose, as they can be fairly unintuitive."
   ]
  },
  {
   "cell_type": "markdown",
   "metadata": {},
   "source": [
    "### Splines\n",
    "\n",
    "Splines are a cross between polynomials and piecewise linear curves that gives the \"best of both worlds\" in terms of the flexibility of piecewise linear curves but also the smoothness qualities of polynomials.  They consist of a sequence of piecewise polynomials, all of low degree.  The representation of the path is given by a set of _control points_ which control the shape of the curve. From these points, polynomial coefficients are derived in order to enforce continuity.\n",
    "\n",
    "The general form of a spline with $n$ segments and degree $d$ is given as follows\n",
    "\n",
    "$$y(s) = poly(C_i;sn-i)$$\n",
    "\n",
    "where $i=\\lfloor sn \\rfloor$ is the segment index and $C_i=(\\mathbf{c}_{0,i},...,\\mathbf{c}_{d,i})$ is the set of polynomial coefficients for the $i$th segment.  We do not typically store the polynomial coefficients themselves, but instead represent a list of control points $\\mathbf{p}_1,\\ldots,\\mathbf{p}_k$ from which the coefficients of each polynomial are derived.  This is because it is difficult to set up coefficients manually such that the spline is continuous and smooth.  Modifying control points is far easier and more intuitive.  The method for converting control points to coefficients is the _interpolation scheme_.\n",
    "\n",
    "Typical splines are degree 3 or 5, which are known as cubic or quintic splines, respectively.  (Degree 1 splines are actually piecewise linear curves.) These degrees are popular because they allow control point interpolation schemes to dictate the order of the spline's smoothness (derivative continuity).\n",
    "\n",
    "#### Cubic Hermite splines\n",
    "\n",
    "The simplest spline is the cubic Hermite spline, which defines the control points to include milestones and the derivative of the spline at each milestone.  The Hermite interpolation scheme solves for the polynomials to enforce continuity and derivative continuity (C1 continuity)."
   ]
  },
  {
   "cell_type": "code",
   "execution_count": 30,
   "metadata": {
    "code_folding": [
     0
    ]
   },
   "outputs": [
    {
     "data": {
      "image/png": "[encoded data removed]",
      "text/plain": [
       "<Figure size 864x216 with 3 Axes>"
      ]
     },
     "metadata": {
      "needs_background": "light"
     },
     "output_type": "display_data"
    }
   ],
   "source": [
    "# Code for the figure below, showing a parametric cubic Hermite curve\n",
    "%matplotlib inline\n",
    "from code.planning.paths import hermite\n",
    "import matplotlib.pyplot as plt\n",
    "\n",
    "p0 = np.array([1,1])\n",
    "p1 = np.array([3,2])\n",
    "h0 = np.array([0,-1])\n",
    "h1 = np.array([-1.5,1.5])\n",
    "U = np.linspace(0,1,50)\n",
    "XY = np.array([hermite(p0,p1,h0,h1,u) for u in U]).T\n",
    "plt.figure(figsize=(12,3))\n",
    "ax1 = plt.subplot(1,3,1)\n",
    "ax1.plot(U,XY[0],lw=2,label=\"Hermite curve\")\n",
    "ax1.scatter([0,1],[p0[0],p1[0]],label=\"Endpoints\")\n",
    "ax1.plot([0,1],[p0[0],p0[0]+h0[0]],lw=1,label=\"Tangent at 0\")\n",
    "ax1.plot([0,1],[p1[0]-h1[0],p1[0]],lw=1,label=\"Tangent at 1\")\n",
    "ax1.set_xlabel(\"u\")\n",
    "ax1.set_ylabel(\"x\")\n",
    "ax1.legend()\n",
    "ax2 = plt.subplot(1,3,2)\n",
    "ax2.plot(U,XY[1],lw=2,label=\"Hermite curve\")\n",
    "ax2.scatter([0,1],[p0[1],p1[1]],label=\"Endpoints\")\n",
    "ax2.plot([0,1],[p0[1],p0[1]+h0[1]],lw=1,label=\"Tangent at 0\")\n",
    "ax2.plot([0,1],[p1[1]-h1[1],p1[1]],lw=1,label=\"Tangent at 1\")\n",
    "ax2.set_xlabel(\"u\")\n",
    "ax2.set_ylabel(\"y\")\n",
    "ax2.legend()\n",
    "ax3 = plt.subplot(1,3,3)\n",
    "ax3.plot(XY[0],XY[1],lw=2,label=\"Hermite curve\")\n",
    "ax3.scatter(*zip(p0,p1),label=\"Endpoints\")\n",
    "ax3.plot(*zip(p0,p0+h0),lw=1,label=\"Tangent at 0\")\n",
    "ax3.plot(*zip(p1,p1-h1),lw=1,label=\"Tangent at 1\")\n",
    "ax3.set_xlabel(\"x\")\n",
    "ax3.set_ylabel(\"y\")\n",
    "ax3.axis(\"equal\")\n",
    "ax3.legend()\n",
    "plt.show()\n",
    "# Jupyter notebook must be run from this directory for this code to work"
   ]
  },
  {
   "cell_type": "markdown",
   "metadata": {},
   "source": [
    "Specifically, suppose the segment travels from milestone $\\mathbf{m}_0$ to $\\mathbf{m}_1$ as the interpolation parameter travels from 0 to 1.  We wish to find a cubic polynomial segment that respects the initial tangent $\\mathbf{t}_0$ and the terminal tangent $\\mathbf{t}_1$.  In other words, the terminal conditions are\n",
    "\n",
    "$$\\begin{split}\n",
    "\\mathbf{m}_0 &= poly(C_i;0) \\\\\n",
    "\\mathbf{m}_1 &= poly(C_i;1) \\\\\n",
    "\\mathbf{t}_0 &= \\left. \\frac{d}{du} poly(C_i;u) \\right|_{u=0} \\\\\n",
    "\\mathbf{t}_1 &= \\left. \\frac{d}{du} poly(C_i;u) \\right|_{u=1} \n",
    "\\end{split}\n",
    "$$\n",
    "\n",
    "Letting the coefficients $C_i =(\\mathbf{a},\\mathbf{b},\\mathbf{c},\\mathbf{t})$, we have \n",
    "\n",
    "$$ poly(C_i;u) = \\mathbf{a} + u \\mathbf{b} + u^2 \\mathbf{c} + u^3 \\mathbf{t} $$\n",
    "\n",
    "$$ \\frac{d}{du} poly(C_i;u) = \\mathbf{b} + 2 u \\mathbf{c} + 3 u^2 \\mathbf{t} $$\n",
    "\n",
    "so immediately, we see that $\\mathbf{a} = \\mathbf{m}_0$ and $\\mathbf{b} = \\mathbf{t}_0$.  We now need to solve for $\\mathbf{c}$ and $\\mathbf{t}$ such that the linear equations\n",
    "\n",
    "$$\\mathbf{m}_1 = \\mathbf{m}_0 + \\mathbf{t}_0 + \\mathbf{c} + \\mathbf{t}$$\n",
    "\n",
    "and\n",
    "\n",
    "$$\\mathbf{t}_1 = \\mathbf{t}_0 + 2 \\mathbf{c} + 3 \\mathbf{t}$$\n",
    "\n",
    "hold.  To do so we rearrange the above into the matrix equation\n",
    "\n",
    "$$\\begin{bmatrix}\\mathbf{m}_1 - \\mathbf{m}_0 - \\mathbf{t}_0 \\\\\n",
    "\\mathbf{t}_1 - \\mathbf{t}_{0}\n",
    "\\end{bmatrix} =\n",
    "\\begin{bmatrix}\n",
    "1 & 1 \\\\\n",
    "2 & 3\n",
    "\\end{bmatrix}\n",
    "\\begin{bmatrix} \\mathbf{c} \\\\ \\mathbf{t} \\end{bmatrix} $$\n",
    "\n",
    "Which has the solution via 2x2 matrix inversion\n",
    "\n",
    "$$\\begin{bmatrix} \\mathbf{c} \\\\ \\mathbf{t} \\end{bmatrix} = \n",
    "\\begin{bmatrix}\n",
    "1 & 1 \\\\\n",
    "2 & 3\n",
    "\\end{bmatrix}^{-1}\n",
    "\\begin{bmatrix}\\mathbf{m}_1 - \\mathbf{m}_0 - \\mathbf{t}_0 \\\\\n",
    "\\mathbf{t}_1 - \\mathbf{t}_{0}\n",
    "\\end{bmatrix} = \n",
    "\\begin{bmatrix}\n",
    "3 & -1 \\\\\n",
    "-2 & 1\n",
    "\\end{bmatrix}\n",
    "\\begin{bmatrix}\\mathbf{m}_1 - \\mathbf{m}_0 - \\mathbf{t}_0 \\\\\n",
    "\\mathbf{t}_1 - \\mathbf{t}_{0}\n",
    "\\end{bmatrix} . $$\n",
    "\n",
    "(Check that the inverse is correct by inspection.) In other words, $\\mathbf{c} = - 3\\mathbf{m}_0 + 3 \\mathbf{m}_1 - 2\\mathbf{t}_0 - \\mathbf{t}_1$ and $\\mathbf{t} =  2\\mathbf{m}_0 -2 \\mathbf{m}_1 + \\mathbf{t}_0 + \\mathbf{t}_1$.\n",
    "\n",
    "Another convenient way of expressing the segment is:\n",
    "\n",
    "$$poly(C_i;u) = (2u^3 - 3u^2 + 1) \\mathbf{m}_0 + (-2u^3 + 3u^3) \\mathbf{m}_1 + (u^3 - 2u^2 + u)\\mathbf{t}_0 + (u^3 - u^2) \\mathbf{t}_1.$$\n",
    "\n",
    "\n",
    "#### Quintic Hermite splines\n",
    "\n",
    "The quintic Hermite spline defines control points to include milestones and their 1st and second derivatives. The interpolation scheme enforce continuity of first and second derivatives (C2 continuity).\n"
   ]
  },
  {
   "cell_type": "markdown",
   "metadata": {},
   "source": [
    "## Exercises\n",
    "\n",
    "1. There is a crucial difference between planning to exit a maze and actually escaping a maze.  What is it?  (Hint: consider being blindfolded, kidnapped, and then dropped in the middle of a maze.  The blindfold is now removed.  How does this differ from the information available to a planner?)\n",
    "2. Consider a coffee delivery robot, whose goal is to move a coffee cup from a counter to a patron's table. Does this problem require deliberative planning, or could it be solved using a behavior scripting technique?  What assumptions could you build in about your environment to help a behavior script?  If those assumptions were not built in, that is, the robot is expected to act in a bustling coffee shop, how much forward prediction does it need to perform?\n",
    "3. Earlier, we said that if a planner is asymptotically optimal, then \"given more time, it will produce progressively better paths.\" While this statement is true, is the converse also true?  Is there a case in which a planner could produce progressively better paths, but not satisfy the conditions of asymptotically optimality?"
   ]
  },
  {
   "cell_type": "markdown",
   "metadata": {
    "tags": [
     "remove_cell_html"
    ]
   },
   "source": [
    "## Interactive quiz"
   ]
  },
  {
   "cell_type": "code",
   "execution_count": 1,
   "metadata": {
    "code_folding": [
     0
    ],
    "tags": [
     "remove_cell_html"
    ]
   },
   "outputs": [
    {
     "data": {
      "text/html": [
       "<link rel=\"stylesheet\" href=\"//stackpath.bootstrapcdn.com/font-awesome/4.7.0/css/font-awesome.min.css\"/>"
      ],
      "text/plain": [
       "<IPython.core.display.HTML object>"
      ]
     },
     "metadata": {},
     "output_type": "display_data"
    },
    {
     "data": {
      "application/vnd.jupyter.widget-view+json": {
       "model_id": "4c4f8bf67818491b9a7a0b143b826991",
       "version_major": 2,
       "version_minor": 0
      },
      "text/plain": [
       "VBox(children=(HTML(value='<style>\\n            .correct { background:#8f8;padding:10px 25px 10px 25px;width:4…"
      ]
     },
     "metadata": {},
     "output_type": "display_data"
    }
   ],
   "source": [
    "#This code must be run from the RoboticSystemsBook folder\n",
    "\n",
    "# If you are running on Google Colab, uncomment the following code:\n",
    "#\n",
    "# %cd ~\n",
    "# !git clone --depth 1 https://github.com/krishauser/RoboticSystemsBook\n",
    "# %cd RoboticSystemsBook\n",
    "\n",
    "from rsbook_code.assessment import quiz\n",
    "quiz.show(\"motion_planning\")"
   ]
  },
  {
   "cell_type": "code",
   "execution_count": null,
   "metadata": {},
   "outputs": [],
   "source": []
  }
 ],
 "metadata": {
  "kernelspec": {
   "display_name": "Python 3",
   "language": "python",
   "name": "python3"
  },
  "language_info": {
   "codemirror_mode": {
    "name": "ipython",
    "version": 3
   },
   "file_extension": ".py",
   "mimetype": "text/x-python",
   "name": "python",
   "nbconvert_exporter": "python",
   "pygments_lexer": "ipython3",
   "version": "3.5.2"
  },
  "latex_envs": {
   "LaTeX_envs_menu_present": true,
   "autoclose": false,
   "autocomplete": true,
   "bibliofile": "biblio.bib",
   "cite_by": "apalike",
   "current_citInitial": 1,
   "eqLabelWithNumbers": true,
   "eqNumInitial": 1,
   "hotkeys": {
    "equation": "Ctrl-E",
    "itemize": "Ctrl-I"
   },
   "labels_anchors": false,
   "latex_user_defs": true,
   "report_style_numbering": false,
   "user_envs_cfg": false
  },
  "toc": {
   "base_numbering": 1,
   "nav_menu": {},
   "number_sections": true,
   "sideBar": true,
   "skip_h1_title": true,
   "title_cell": "Table of Contents",
   "title_sidebar": "Contents",
   "toc_cell": false,
   "toc_position": {},
   "toc_section_display": true,
   "toc_window_display": true
  }
 },
 "nbformat": 4,
 "nbformat_minor": 2
}
